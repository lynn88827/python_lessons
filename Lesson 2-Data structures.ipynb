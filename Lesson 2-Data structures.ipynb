{
 "cells": [
  {
   "cell_type": "markdown",
   "metadata": {},
   "source": [
    "# Lesson 2-Data structures"
   ]
  },
  {
   "cell_type": "markdown",
   "metadata": {},
   "source": [
    "## I. Lists and For-Loops\n",
    "**Roughly corresponds to \"Unit 5 Python Lists and dictionaries\" from Code Academy**\n",
    "\n",
    "So far, we've only dealt with individual variables. But we might want to keep track of a set of values. We can use lists to store variables and call upon them later."
   ]
  },
  {
   "cell_type": "code",
   "execution_count": 1,
   "metadata": {
    "collapsed": false
   },
   "outputs": [
    {
     "name": "stdout",
     "output_type": "stream",
     "text": [
      "All the heights\n",
      "[5.0, 5.5, 6.0, 5.8]\n",
      "1st person's name\n",
      "Winston\n",
      "2nd person's weight\n",
      "160.0\n",
      "Last person's weight\n",
      "140.0\n"
     ]
    }
   ],
   "source": [
    "names=['Winston','Jess','Nick','Schmidt']\n",
    "heights=[5.0,5.5,6.0,5.8]\n",
    "weights=[125.0,160.0,168.0,140.0]\n",
    "\n",
    "print \"All the heights\"\n",
    "print heights\n",
    "\n",
    "print \"1st person's name\"\n",
    "print names[0] # note, indices start from 0\n",
    "\n",
    "print \"2nd person's weight\"\n",
    "print weights[1] \n",
    "\n",
    "print \"Last person's weight\"\n",
    "print weights[-1] "
   ]
  },
  {
   "cell_type": "markdown",
   "metadata": {},
   "source": [
    "And we can change elements of the list"
   ]
  },
  {
   "cell_type": "code",
   "execution_count": 59,
   "metadata": {
    "collapsed": false
   },
   "outputs": [
    {
     "name": "stdout",
     "output_type": "stream",
     "text": [
      "[125.0, 165.0, 168.0, 140.0]\n"
     ]
    }
   ],
   "source": [
    "weights[1]=165.0\n",
    "print weights"
   ]
  },
  {
   "cell_type": "markdown",
   "metadata": {},
   "source": [
    "But accessing each of these variables individually is annoying, especially when lists get long. For-loops are an easy way to access all the elements"
   ]
  },
  {
   "cell_type": "code",
   "execution_count": 3,
   "metadata": {
    "collapsed": false
   },
   "outputs": [
    {
     "name": "stdout",
     "output_type": "stream",
     "text": [
      "Winston\n",
      "Jess\n",
      "Nick\n",
      "Schmidt\n"
     ]
    }
   ],
   "source": [
    "for name in names:\n",
    "    print name"
   ]
  },
  {
   "cell_type": "markdown",
   "metadata": {},
   "source": [
    "And we can also incorporate logical statements to filter out certain results"
   ]
  },
  {
   "cell_type": "code",
   "execution_count": 4,
   "metadata": {
    "collapsed": false
   },
   "outputs": [
    {
     "name": "stdout",
     "output_type": "stream",
     "text": [
      "160.0\n",
      "168.0\n"
     ]
    }
   ],
   "source": [
    "for wt in weights:\n",
    "    if wt>150:\n",
    "        print wt"
   ]
  },
  {
   "cell_type": "markdown",
   "metadata": {},
   "source": [
    "We also might want to store these values in a new list"
   ]
  },
  {
   "cell_type": "code",
   "execution_count": 6,
   "metadata": {
    "collapsed": false
   },
   "outputs": [
    {
     "name": "stdout",
     "output_type": "stream",
     "text": [
      "[160.0, 168.0]\n",
      "168.0\n"
     ]
    }
   ],
   "source": [
    "greater_150_wts=[] # Create an empty list\n",
    "for wt in weights:\n",
    "    if wt>150:\n",
    "        greater_150_wts.append(wt) # append adds the given element to the list\n",
    "\n",
    "print greater_150_wts\n",
    "print greater_150_wts[1]"
   ]
  },
  {
   "cell_type": "markdown",
   "metadata": {},
   "source": [
    "We also might want to know HOW many people are of a certain weight range"
   ]
  },
  {
   "cell_type": "code",
   "execution_count": 54,
   "metadata": {
    "collapsed": false
   },
   "outputs": [
    {
     "name": "stdout",
     "output_type": "stream",
     "text": [
      "2\n"
     ]
    }
   ],
   "source": [
    "print len(greater_150_wts)"
   ]
  },
  {
   "cell_type": "markdown",
   "metadata": {},
   "source": [
    "And whether something is in a list"
   ]
  },
  {
   "cell_type": "code",
   "execution_count": 55,
   "metadata": {
    "collapsed": false
   },
   "outputs": [
    {
     "name": "stdout",
     "output_type": "stream",
     "text": [
      "True\n",
      "False\n"
     ]
    }
   ],
   "source": [
    "print 4 in [1,2,3,4]\n",
    "print 4 in [1,2,3]"
   ]
  },
  {
   "cell_type": "code",
   "execution_count": 57,
   "metadata": {
    "collapsed": false
   },
   "outputs": [
    {
     "name": "stdout",
     "output_type": "stream",
     "text": [
      "True\n",
      "False\n"
     ]
    }
   ],
   "source": [
    "print 'a' in ['a','b','c','d']\n",
    "print 'a' in ['ab','c','d'] # note this compares 'a'=='ab', not 'a'=='a' and 'a'=='b'"
   ]
  },
  {
   "cell_type": "markdown",
   "metadata": {},
   "source": [
    "# II. Dictionaries\n",
    "\n",
    "Dictionaries build upon lists and let us build intuitive names for list elements"
   ]
  },
  {
   "cell_type": "code",
   "execution_count": 62,
   "metadata": {
    "collapsed": false
   },
   "outputs": [
    {
     "name": "stdout",
     "output_type": "stream",
     "text": [
      "{'Jess': [5.5], 'Winston': [5], 'Nick': [6.0]}\n"
     ]
    }
   ],
   "source": [
    "people={'Winston':[5], 'Jess':[5.5],'Nick':[6.0]}\n",
    "print people"
   ]
  },
  {
   "cell_type": "markdown",
   "metadata": {},
   "source": [
    "And I can then call upon their properties by their names"
   ]
  },
  {
   "cell_type": "code",
   "execution_count": 63,
   "metadata": {
    "collapsed": false
   },
   "outputs": [
    {
     "data": {
      "text/plain": [
       "[5.5]"
      ]
     },
     "execution_count": 63,
     "metadata": {},
     "output_type": "execute_result"
    }
   ],
   "source": [
    "people['Jess']"
   ]
  },
  {
   "cell_type": "markdown",
   "metadata": {},
   "source": [
    "And we can add and change values, just like we did with lists"
   ]
  },
  {
   "cell_type": "code",
   "execution_count": 64,
   "metadata": {
    "collapsed": false
   },
   "outputs": [
    {
     "data": {
      "text/plain": [
       "{'Jess': [5.4], 'Nick': [6.0], 'Winston': [5]}"
      ]
     },
     "execution_count": 64,
     "metadata": {},
     "output_type": "execute_result"
    }
   ],
   "source": [
    "people['Jess']=[5.4]\n",
    "people"
   ]
  },
  {
   "cell_type": "code",
   "execution_count": 65,
   "metadata": {
    "collapsed": false
   },
   "outputs": [
    {
     "data": {
      "text/plain": [
       "{'Jess': [5.4], 'Nick': [6.0], 'Schmidt': [5.8], 'Winston': [5]}"
      ]
     },
     "execution_count": 65,
     "metadata": {},
     "output_type": "execute_result"
    }
   ],
   "source": [
    "people['Schmidt']=[5.8]\n",
    "people"
   ]
  },
  {
   "cell_type": "markdown",
   "metadata": {},
   "source": [
    "Dictionaries are usually described in terms of keys and values. keys are the words in quotation marks (left of the colons) that we use to call upon values (right of the colons). Note that keys have to be unique "
   ]
  },
  {
   "cell_type": "code",
   "execution_count": 69,
   "metadata": {
    "collapsed": false
   },
   "outputs": [
    {
     "data": {
      "text/plain": [
       "[4.3]"
      ]
     },
     "execution_count": 69,
     "metadata": {},
     "output_type": "execute_result"
    }
   ],
   "source": [
    "people={'Winston':[5], 'Jess':[5.5],'Nick':[6.0],'Winston':[4.3]}\n",
    "people['Winston'] # only one of these values will be kept"
   ]
  },
  {
   "cell_type": "markdown",
   "metadata": {},
   "source": [
    "Python also gives us some useful functions for easily getting keys and values"
   ]
  },
  {
   "cell_type": "code",
   "execution_count": 70,
   "metadata": {
    "collapsed": false
   },
   "outputs": [
    {
     "data": {
      "text/plain": [
       "['Jess', 'Winston', 'Nick']"
      ]
     },
     "execution_count": 70,
     "metadata": {},
     "output_type": "execute_result"
    }
   ],
   "source": [
    "people.keys()"
   ]
  },
  {
   "cell_type": "code",
   "execution_count": 71,
   "metadata": {
    "collapsed": false
   },
   "outputs": [
    {
     "data": {
      "text/plain": [
       "[[5.5], [4.3], [6.0]]"
      ]
     },
     "execution_count": 71,
     "metadata": {},
     "output_type": "execute_result"
    }
   ],
   "source": [
    "people.values()"
   ]
  },
  {
   "cell_type": "code",
   "execution_count": 72,
   "metadata": {
    "collapsed": false
   },
   "outputs": [
    {
     "name": "stdout",
     "output_type": "stream",
     "text": [
      "[5.5]\n",
      "[6.0]\n"
     ]
    }
   ],
   "source": [
    "for k in people.keys():\n",
    "    if len(k)<5:\n",
    "        print people[k]"
   ]
  },
  {
   "cell_type": "markdown",
   "metadata": {},
   "source": [
    "# III. Strings\n",
    "\n",
    "We've been using strings here and there. They're going to be very important as we start using more dictionaries and eventually more complex data structures. Here's a brief summary of methods that might be of use. Pretty straight forward stuff"
   ]
  },
  {
   "cell_type": "code",
   "execution_count": 73,
   "metadata": {
    "collapsed": true
   },
   "outputs": [],
   "source": [
    "tim_str='Timothy Franklin Lew'"
   ]
  },
  {
   "cell_type": "code",
   "execution_count": 74,
   "metadata": {
    "collapsed": false
   },
   "outputs": [
    {
     "name": "stdout",
     "output_type": "stream",
     "text": [
      "timothy franklin lew\n"
     ]
    }
   ],
   "source": [
    "print tim_str.lower()"
   ]
  },
  {
   "cell_type": "code",
   "execution_count": 75,
   "metadata": {
    "collapsed": false
   },
   "outputs": [
    {
     "name": "stdout",
     "output_type": "stream",
     "text": [
      "TIMOTHY FRANKLIN LEW\n"
     ]
    }
   ],
   "source": [
    "print tim_str.upper()"
   ]
  },
  {
   "cell_type": "code",
   "execution_count": 76,
   "metadata": {
    "collapsed": false
   },
   "outputs": [
    {
     "name": "stdout",
     "output_type": "stream",
     "text": [
      "Timothy Franklin Lew is da best\n"
     ]
    }
   ],
   "source": [
    "tim_descr=' is da best'\n",
    "print tim_str+tim_descr"
   ]
  },
  {
   "cell_type": "markdown",
   "metadata": {},
   "source": [
    "Strings are actually lists of characters so you can actually index them and get their length"
   ]
  },
  {
   "cell_type": "code",
   "execution_count": 77,
   "metadata": {
    "collapsed": false
   },
   "outputs": [
    {
     "name": "stdout",
     "output_type": "stream",
     "text": [
      "T\n",
      "20\n"
     ]
    }
   ],
   "source": [
    "print tim_str[0] # get first letter\n",
    "print len(tim_str) # get length of string"
   ]
  },
  {
   "cell_type": "markdown",
   "metadata": {},
   "source": [
    "And as I mentioned previously, if we want to turn something into a string, we can use the str()"
   ]
  },
  {
   "cell_type": "code",
   "execution_count": 78,
   "metadata": {
    "collapsed": false
   },
   "outputs": [
    {
     "name": "stdout",
     "output_type": "stream",
     "text": [
      "Timothy Franklin Lew is 25\n"
     ]
    }
   ],
   "source": [
    "age=25\n",
    "print tim_str+' is '+str(age)"
   ]
  },
  {
   "cell_type": "markdown",
   "metadata": {},
   "source": [
    "# Problem\n",
    "\n",
    "I'm trying to characterize how my labmates talk, so I store some of their most frequent words in a dictionary. Who uses the longest words? Create a function that creates a new dictionary that maps our names (tim, drew, kristin) onto the average length of our common words"
   ]
  },
  {
   "cell_type": "code",
   "execution_count": 80,
   "metadata": {
    "collapsed": false
   },
   "outputs": [
    {
     "name": "stdout",
     "output_type": "stream",
     "text": [
      "{}\n"
     ]
    }
   ],
   "source": [
    "tim_words=['excellent','awesome','great','chipper']\n",
    "drew_words=['banjo','bag','go','for','walk']\n",
    "kristin_words=['gluten','instagram','filter']\n",
    "words={'tim':tim_words,'drew':drew_words,'kristin':kristin_words}\n",
    "\n",
    "def long_words(words):\n",
    "    len_words={}\n",
    "    # your code in here\n",
    "    return len_words\n",
    "\n",
    "print long_words(words)"
   ]
  }
 ],
 "metadata": {
  "kernelspec": {
   "display_name": "Python 2",
   "language": "python",
   "name": "python2"
  },
  "language_info": {
   "codemirror_mode": {
    "name": "ipython",
    "version": 2
   },
   "file_extension": ".py",
   "mimetype": "text/x-python",
   "name": "python",
   "nbconvert_exporter": "python",
   "pygments_lexer": "ipython2",
   "version": "2.7.9"
  }
 },
 "nbformat": 4,
 "nbformat_minor": 0
}

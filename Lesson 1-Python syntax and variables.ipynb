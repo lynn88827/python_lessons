{
 "cells": [
  {
   "cell_type": "markdown",
   "metadata": {},
   "source": [
    "# Lesson 1-Python Syntax and variables"
   ]
  },
  {
   "cell_type": "markdown",
   "metadata": {},
   "source": [
    "This is a Github test"
   ]
  },
  {
   "cell_type": "markdown",
   "metadata": {},
   "source": [
    "## II. Variables\n",
    "**Roughly corresponds to \"Unit 1 Python Syntax\" from Code Academy**\n"
   ]
  },
  {
   "cell_type": "markdown",
   "metadata": {},
   "source": [
    "This difference between float and ints raises an important point-Python works with variable that have different types. We already know floats and ints.\n",
    "\n",
    "There are also Strings"
   ]
  },
  {
   "cell_type": "code",
   "execution_count": 17,
   "metadata": {
    "collapsed": false
   },
   "outputs": [
    {
     "name": "stdout",
     "output_type": "stream",
     "text": [
      "Hello world\n"
     ]
    }
   ],
   "source": [
    "print \"Hello world\""
   ]
  },
  {
   "cell_type": "code",
   "execution_count": 18,
   "metadata": {
    "collapsed": false
   },
   "outputs": [
    {
     "name": "stdout",
     "output_type": "stream",
     "text": [
      "Hello world\n"
     ]
    }
   ],
   "source": [
    "print \"Hello\"+\" \"+\"world\""
   ]
  },
  {
   "cell_type": "markdown",
   "metadata": {},
   "source": [
    "And Booleans (True and False values)"
   ]
  },
  {
   "cell_type": "code",
   "execution_count": 20,
   "metadata": {
    "collapsed": false
   },
   "outputs": [
    {
     "name": "stdout",
     "output_type": "stream",
     "text": [
      "True\n",
      "False\n"
     ]
    }
   ],
   "source": [
    "print True\n",
    "print False"
   ]
  },
  {
   "cell_type": "markdown",
   "metadata": {},
   "source": [
    "And we can save these values to variables so we can manipulate them later"
   ]
  },
  {
   "cell_type": "code",
   "execution_count": 21,
   "metadata": {
    "collapsed": false
   },
   "outputs": [
    {
     "name": "stdout",
     "output_type": "stream",
     "text": [
      "Hello world\n"
     ]
    }
   ],
   "source": [
    "first_word=\"Hello\"\n",
    "second_word=\" \"\n",
    "third_word=\"world\"\n",
    "print first_word+second_word+third_word"
   ]
  },
  {
   "cell_type": "markdown",
   "metadata": {},
   "source": [
    "Note, you should be careful with you variable types. Variables of different types usually don't play along well"
   ]
  },
  {
   "cell_type": "code",
   "execution_count": 24,
   "metadata": {
    "collapsed": false
   },
   "outputs": [
    {
     "ename": "TypeError",
     "evalue": "cannot concatenate 'str' and 'int' objects",
     "output_type": "error",
     "traceback": [
      "\u001b[0;31m---------------------------------------------------------------------------\u001b[0m",
      "\u001b[0;31mTypeError\u001b[0m                                 Traceback (most recent call last)",
      "\u001b[0;32m<ipython-input-24-7d369bc484ba>\u001b[0m in \u001b[0;36m<module>\u001b[0;34m()\u001b[0m\n\u001b[1;32m      2\u001b[0m \u001b[0msecond_word\u001b[0m\u001b[0;34m=\u001b[0m\u001b[0;36m3\u001b[0m\u001b[0;34m\u001b[0m\u001b[0m\n\u001b[1;32m      3\u001b[0m \u001b[0mthird_word\u001b[0m\u001b[0;34m=\u001b[0m\u001b[0;34m\"world\"\u001b[0m\u001b[0;34m\u001b[0m\u001b[0m\n\u001b[0;32m----> 4\u001b[0;31m \u001b[0;32mprint\u001b[0m \u001b[0mfirst_word\u001b[0m\u001b[0;34m+\u001b[0m\u001b[0msecond_word\u001b[0m\u001b[0;34m+\u001b[0m\u001b[0mthird_word\u001b[0m\u001b[0;34m\u001b[0m\u001b[0m\n\u001b[0m",
      "\u001b[0;31mTypeError\u001b[0m: cannot concatenate 'str' and 'int' objects"
     ]
    }
   ],
   "source": [
    "first_word=\"Hello\"\n",
    "second_word=3\n",
    "third_word=\"world\"\n",
    "print first_word+second_word+third_word"
   ]
  },
  {
   "cell_type": "markdown",
   "metadata": {},
   "source": [
    "If you're ever unsure about a variable's type, you can do the following"
   ]
  },
  {
   "cell_type": "code",
   "execution_count": 26,
   "metadata": {
    "collapsed": false
   },
   "outputs": [
    {
     "name": "stdout",
     "output_type": "stream",
     "text": [
      "<type 'str'>\n",
      "<type 'int'>\n"
     ]
    }
   ],
   "source": [
    "print type(first_word)\n",
    "print type(second_word)"
   ]
  },
  {
   "cell_type": "markdown",
   "metadata": {},
   "source": [
    "The parentheses indicates that we're using a function--specifically, we're using the type() function on the variable first_word. Python has a lot of built in functions and a bunch more that you can download. We'll be talking about how to make your own functions eventually, but for right now, all you need to know is that functions take some input in parentheses and return some output.\n",
    "\n",
    "For example, we might want to change an int into a string and use the str() function"
   ]
  },
  {
   "cell_type": "code",
   "execution_count": 36,
   "metadata": {
    "collapsed": false
   },
   "outputs": [
    {
     "name": "stdout",
     "output_type": "stream",
     "text": [
      "Hello 3 world\n"
     ]
    }
   ],
   "source": [
    "print \"Hello \"+str(3)+\" world\""
   ]
  },
  {
   "cell_type": "markdown",
   "metadata": {},
   "source": [
    "Or vice versa using the int() or float() functions"
   ]
  },
  {
   "cell_type": "code",
   "execution_count": 1,
   "metadata": {
    "collapsed": false
   },
   "outputs": [
    {
     "name": "stdout",
     "output_type": "stream",
     "text": [
      "6\n",
      "4.5\n"
     ]
    }
   ],
   "source": [
    "print 3+int(\"3\")\n",
    "print 3+float(\"3\")/2"
   ]
  },
  {
   "cell_type": "markdown",
   "metadata": {},
   "source": [
    "## II. Python as a calculator\n",
    "**Roughly corresponds to \"Unit 1 Python Syntax\" from Code Academy**\n",
    "\n",
    "At its most basic, we can use Python as a calculator"
   ]
  },
  {
   "cell_type": "code",
   "execution_count": 6,
   "metadata": {
    "collapsed": false
   },
   "outputs": [
    {
     "name": "stdout",
     "output_type": "stream",
     "text": [
      "2\n"
     ]
    }
   ],
   "source": [
    "print 1+1"
   ]
  },
  {
   "cell_type": "code",
   "execution_count": 7,
   "metadata": {
    "collapsed": false
   },
   "outputs": [
    {
     "name": "stdout",
     "output_type": "stream",
     "text": [
      "1\n"
     ]
    }
   ],
   "source": [
    "print 3-2"
   ]
  },
  {
   "cell_type": "code",
   "execution_count": 8,
   "metadata": {
    "collapsed": false
   },
   "outputs": [
    {
     "name": "stdout",
     "output_type": "stream",
     "text": [
      "6\n"
     ]
    }
   ],
   "source": [
    "print 2*3"
   ]
  },
  {
   "cell_type": "code",
   "execution_count": 13,
   "metadata": {
    "collapsed": false
   },
   "outputs": [
    {
     "name": "stdout",
     "output_type": "stream",
     "text": [
      "2\n"
     ]
    }
   ],
   "source": [
    "print 5/2"
   ]
  },
  {
   "cell_type": "markdown",
   "metadata": {},
   "source": [
    "Uh oh, that's probably not what we want"
   ]
  },
  {
   "cell_type": "code",
   "execution_count": 14,
   "metadata": {
    "collapsed": false
   },
   "outputs": [
    {
     "name": "stdout",
     "output_type": "stream",
     "text": [
      "2.5\n"
     ]
    }
   ],
   "source": [
    "print 5.0/2.0"
   ]
  },
  {
   "cell_type": "markdown",
   "metadata": {},
   "source": [
    "Note that Python treats 5.0 and 2.0 as different from 5 and 2. There are some situations where we want 5 to be exactly 5 (like counts. \"I have 5 apples\"). Python calls this an integer (ints). And there are some situations where I want it to be a proper continuous number. Python calls this a float or floating point number (because the number of digits can \"float\"). The decimal place indicates that 5.0 and 2.0 are floats"
   ]
  },
  {
   "cell_type": "markdown",
   "metadata": {},
   "source": [
    "And of course we can make longer operations"
   ]
  },
  {
   "cell_type": "code",
   "execution_count": 16,
   "metadata": {
    "collapsed": false
   },
   "outputs": [
    {
     "name": "stdout",
     "output_type": "stream",
     "text": [
      "1.28571428571\n"
     ]
    }
   ],
   "source": [
    "print (1+2)*3/7.0"
   ]
  },
  {
   "cell_type": "markdown",
   "metadata": {},
   "source": [
    "Note that as long as one number is a float, they'll all be treated as floats"
   ]
  },
  {
   "cell_type": "markdown",
   "metadata": {},
   "source": [
    "And we can also check whether two things are the same using \"==\". Note that these return Booleans"
   ]
  },
  {
   "cell_type": "code",
   "execution_count": 3,
   "metadata": {
    "collapsed": false
   },
   "outputs": [
    {
     "name": "stdout",
     "output_type": "stream",
     "text": [
      "True\n"
     ]
    }
   ],
   "source": [
    "print 'a'=='a'"
   ]
  },
  {
   "cell_type": "code",
   "execution_count": 4,
   "metadata": {
    "collapsed": false
   },
   "outputs": [
    {
     "data": {
      "text/plain": [
       "False"
      ]
     },
     "execution_count": 4,
     "metadata": {},
     "output_type": "execute_result"
    }
   ],
   "source": [
    "1==2"
   ]
  },
  {
   "cell_type": "code",
   "execution_count": 5,
   "metadata": {
    "collapsed": false
   },
   "outputs": [
    {
     "data": {
      "text/plain": [
       "False"
      ]
     },
     "execution_count": 5,
     "metadata": {},
     "output_type": "execute_result"
    }
   ],
   "source": [
    "1=='a'"
   ]
  },
  {
   "cell_type": "markdown",
   "metadata": {},
   "source": [
    "# IV. Logical statements and Flow control\n",
    "**Roughly corresponds to \"Unit 3 Conditionals and Control Flow\" from Code Academy**"
   ]
  },
  {
   "cell_type": "markdown",
   "metadata": {},
   "source": [
    "\"==\" is our first example of a logical statement. It evaluates whether two variables are equal. We can also evaluate inequality."
   ]
  },
  {
   "cell_type": "code",
   "execution_count": 10,
   "metadata": {
    "collapsed": false
   },
   "outputs": [
    {
     "name": "stdout",
     "output_type": "stream",
     "text": [
      "Is 4 greater than 3?\n",
      "True\n",
      "Is 3 less than or equal to 3?\n",
      "False\n"
     ]
    }
   ],
   "source": [
    "print 'Is 4 greater than 3?'\n",
    "print 4>3\n",
    "\n",
    "print 'Is 3 less than or equal to 3?'\n",
    "print 4<=3"
   ]
  },
  {
   "cell_type": "markdown",
   "metadata": {},
   "source": [
    "And relationships like:\n",
    "\n",
    "1. and (two statements are both True),\n",
    "2. or (of two statements, at least one is True)\n",
    "3. not (negation, a statement is false)"
   ]
  },
  {
   "cell_type": "code",
   "execution_count": 14,
   "metadata": {
    "collapsed": false
   },
   "outputs": [
    {
     "name": "stdout",
     "output_type": "stream",
     "text": [
      "Is 4 greater than 3 True? Is 3 less than or equal to 3 also True?\n",
      "False\n",
      "Is 4 greater than 3 True or Is 3 less than or equal to 3 also True?\n",
      "True\n",
      "Is 4 greater than 3 False?\n",
      "False\n"
     ]
    }
   ],
   "source": [
    "print 'Is 4 greater than 3 True? Is 3 less than or equal to 3 also True?'\n",
    "print 4>3 and 4<=3 # The second part is false\n",
    "\n",
    "print 'Is 4 greater than 3 True or Is 3 less than or equal to 3 also True?'\n",
    "print 4>3 or 4<=3 # This is True because the first part is True?\n",
    "\n",
    "print 'Is 4 greater than 3 False?'\n",
    "print not 4>3 # 4 IS greater than 3, but we negated it"
   ]
  },
  {
   "cell_type": "markdown",
   "metadata": {},
   "source": [
    "And crucially, we can use logical statements to determine what code we run"
   ]
  },
  {
   "cell_type": "code",
   "execution_count": 16,
   "metadata": {
    "collapsed": false
   },
   "outputs": [
    {
     "name": "stdout",
     "output_type": "stream",
     "text": [
      "Don't buy\n"
     ]
    }
   ],
   "source": [
    "airplane_price=100\n",
    "if airplane_price<334:\n",
    "    print 'Buy'\n",
    "else:\n",
    "    print \"Don't buy\""
   ]
  },
  {
   "cell_type": "code",
   "execution_count": 17,
   "metadata": {
    "collapsed": false
   },
   "outputs": [
    {
     "name": "stdout",
     "output_type": "stream",
     "text": [
      "Don't buy\n"
     ]
    }
   ],
   "source": [
    "airplane_price=400\n",
    "if airplane_price<334:\n",
    "    print 'Buy'\n",
    "else:\n",
    "    print \"Don't buy\""
   ]
  },
  {
   "cell_type": "code",
   "execution_count": 18,
   "metadata": {
    "collapsed": false
   },
   "outputs": [
    {
     "name": "stdout",
     "output_type": "stream",
     "text": [
      "Buy\n"
     ]
    }
   ],
   "source": [
    "airplane_price=125\n",
    "if airplane_price<100:\n",
    "    print 'Buy RIGHT NOW'\n",
    "elif airplane_price<334:\n",
    "    print 'Buy'\n",
    "else:\n",
    "    print \"Don't buy\""
   ]
  },
  {
   "cell_type": "markdown",
   "metadata": {},
   "source": [
    "# IV. Functions"
   ]
  },
  {
   "cell_type": "markdown",
   "metadata": {},
   "source": [
    "These if statements are useful, but we may want to run this code with multiple prices repeatedly. Functions are very useful for reducing redundancy in our code."
   ]
  },
  {
   "cell_type": "code",
   "execution_count": 1,
   "metadata": {
    "collapsed": false
   },
   "outputs": [
    {
     "data": {
      "text/plain": [
       "'Buy'"
      ]
     },
     "execution_count": 1,
     "metadata": {},
     "output_type": "execute_result"
    }
   ],
   "source": [
    "def check_price(airplane_price):\n",
    "    if airplane_price<100:\n",
    "        return 'Buy RIGHT NOW'\n",
    "    elif airplane_price<334:\n",
    "        return 'Buy'\n",
    "    else:\n",
    "        return \"Don't buy\"\n",
    "\n",
    "check_price(125)"
   ]
  },
  {
   "cell_type": "markdown",
   "metadata": {},
   "source": [
    "A function starts with def (indicating that we want to define a function), followed by the function's name (\"check_price\"), and ends with inputs (here, just airplane_price). And make sure you include the colon at the end. \n",
    "\n",
    "We can also add more arguments to the function"
   ]
  },
  {
   "cell_type": "code",
   "execution_count": 3,
   "metadata": {
    "collapsed": false
   },
   "outputs": [
    {
     "name": "stdout",
     "output_type": "stream",
     "text": [
      "Buy RIGHT NOW\n",
      "Buy\n"
     ]
    }
   ],
   "source": [
    "def check_price(airplane_price,buy_now_price):\n",
    "    if airplane_price<buy_now_price:\n",
    "        return 'Buy RIGHT NOW'\n",
    "    elif airplane_price<334:\n",
    "        return 'Buy'\n",
    "    else:\n",
    "        return \"Don't buy\"\n",
    "\n",
    "print check_price(125,130)\n",
    "print check_price(125,120)"
   ]
  },
  {
   "cell_type": "markdown",
   "metadata": {},
   "source": [
    "And set default values for our inputs, in case we don't set an argument"
   ]
  },
  {
   "cell_type": "code",
   "execution_count": 6,
   "metadata": {
    "collapsed": false
   },
   "outputs": [
    {
     "name": "stdout",
     "output_type": "stream",
     "text": [
      "Buy RIGHT NOW\n",
      "Buy\n"
     ]
    }
   ],
   "source": [
    "def check_price(airplane_price,buy_now_price=130):\n",
    "    if airplane_price<buy_now_price:\n",
    "        return 'Buy RIGHT NOW'\n",
    "    elif airplane_price<334:\n",
    "        return 'Buy'\n",
    "    else:\n",
    "        return \"Don't buy\"\n",
    "\n",
    "print check_price(125)\n",
    "print check_price(125,120)"
   ]
  },
  {
   "cell_type": "markdown",
   "metadata": {},
   "source": [
    "## V. Hodgepodge of things\n",
    "\n",
    "Although most programming languages can accomplish the same tasks, people who use those languages end to have particular conventions they like to follow"
   ]
  },
  {
   "cell_type": "markdown",
   "metadata": {},
   "source": [
    "1 If you want to add some text to your code to comment it and help yourself understand it later on, use **#**"
   ]
  },
  {
   "cell_type": "code",
   "execution_count": 31,
   "metadata": {
    "collapsed": false
   },
   "outputs": [
    {
     "name": "stdout",
     "output_type": "stream",
     "text": [
      "world Hello\n"
     ]
    }
   ],
   "source": [
    "# This code prints \"world Hello\"\n",
    "print third_word+\" \"+first_word"
   ]
  },
  {
   "cell_type": "markdown",
   "metadata": {},
   "source": [
    "2 In Python, variable names tend to be words separated by _ (underscore) like first_word above."
   ]
  },
  {
   "cell_type": "markdown",
   "metadata": {},
   "source": [
    "3 If you ever run code and it doesn't work, copy and paste the error message you get and Google it. Chances are, someone else has seen this error before and posted about it. stackOverflow is popular website for this. Sometimes it can be difficult to figure out the answer but usually it's there somewhere.\n",
    "\n",
    "Reading through this error message"
   ]
  },
  {
   "cell_type": "code",
   "execution_count": 39,
   "metadata": {
    "collapsed": false
   },
   "outputs": [
    {
     "ename": "TypeError",
     "evalue": "cannot concatenate 'str' and 'int' objects",
     "output_type": "error",
     "traceback": [
      "\u001b[0;31m---------------------------------------------------------------------------\u001b[0m",
      "\u001b[0;31mTypeError\u001b[0m                                 Traceback (most recent call last)",
      "\u001b[0;32m<ipython-input-39-7d369bc484ba>\u001b[0m in \u001b[0;36m<module>\u001b[0;34m()\u001b[0m\n\u001b[1;32m      2\u001b[0m \u001b[0msecond_word\u001b[0m\u001b[0;34m=\u001b[0m\u001b[0;36m3\u001b[0m\u001b[0;34m\u001b[0m\u001b[0m\n\u001b[1;32m      3\u001b[0m \u001b[0mthird_word\u001b[0m\u001b[0;34m=\u001b[0m\u001b[0;34m\"world\"\u001b[0m\u001b[0;34m\u001b[0m\u001b[0m\n\u001b[0;32m----> 4\u001b[0;31m \u001b[0;32mprint\u001b[0m \u001b[0mfirst_word\u001b[0m\u001b[0;34m+\u001b[0m\u001b[0msecond_word\u001b[0m\u001b[0;34m+\u001b[0m\u001b[0mthird_word\u001b[0m\u001b[0;34m\u001b[0m\u001b[0m\n\u001b[0m",
      "\u001b[0;31mTypeError\u001b[0m: cannot concatenate 'str' and 'int' objects"
     ]
    }
   ],
   "source": [
    "first_word=\"Hello\"\n",
    "second_word=3\n",
    "third_word=\"world\"\n",
    "print first_word+second_word+third_word"
   ]
  },
  {
   "cell_type": "markdown",
   "metadata": {},
   "source": [
    "The top part tells us where the error is and the bottom tells us that it was due to us not being able to combine strings and ints. If we google \"TypeError: cannot concatenate 'str' and 'int' objects\" and the first result is a [pretty helpful stack overflow page](http://stackoverflow.com/questions/11844072/python-typeerror-cannot-concatenate-str-and-int-objects)"
   ]
  },
  {
   "cell_type": "markdown",
   "metadata": {},
   "source": [
    "# Problem\n",
    "\n",
    "Write a function that grades people's midterms and finals. It should take two inputs--midterm_grade, final_grade--that are integers, calculate their average and return an \"A\" if the average is greater than 90, \"B\" if it is greater than 80, and \"C\" otherwise (such a nice class!)."
   ]
  },
  {
   "cell_type": "code",
   "execution_count": 18,
   "metadata": {
    "collapsed": false
   },
   "outputs": [],
   "source": [
    "# your code below\n",
    "\n",
    "# You should get\n",
    "#grade_tests(midterm_grade=95,final_grade=92)\n",
    "#returns A\n",
    "\n",
    "#grade_tests(midterm_grade=80,final_grade=81)\n",
    "#returns B\n"
   ]
  }
 ],
 "metadata": {
  "kernelspec": {
   "display_name": "Python 2",
   "language": "python",
   "name": "python2"
  },
  "language_info": {
   "codemirror_mode": {
    "name": "ipython",
    "version": 2
   },
   "file_extension": ".py",
   "mimetype": "text/x-python",
   "name": "python",
   "nbconvert_exporter": "python",
   "pygments_lexer": "ipython2",
   "version": "2.7.9"
  }
 },
 "nbformat": 4,
 "nbformat_minor": 0
}

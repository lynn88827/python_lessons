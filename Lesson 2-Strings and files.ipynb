{
 "cells": [
  {
   "cell_type": "markdown",
   "metadata": {},
   "source": [
    "# Lesson 2-Data structures, and files"
   ]
  },
  {
   "cell_type": "markdown",
   "metadata": {},
   "source": [
    "## I. Lists and For-Loops\n",
    "**Roughly corresponds to \"Unit 5 Python Lists and dictionaries\" from Code Academy**\n",
    "\n",
    "So far, we've only dealt with individual variables. But we might want to keep track of a set of values. We can use lists to store variables and call upon them later."
   ]
  },
  {
   "cell_type": "code",
   "execution_count": 4,
   "metadata": {
    "collapsed": false
   },
   "outputs": [
    {
     "name": "stdout",
     "output_type": "stream",
     "text": [
      "All the heights\n",
      "[5.0, 5.5, 6.0, 5.8]\n",
      "1st person's weight\n",
      "125.0\n",
      "2nd person's weight\n",
      "160.0\n",
      "Last person's weight\n",
      "140.0\n"
     ]
    }
   ],
   "source": [
    "names=['Winston','Jess','Nick','Schmidt']\n",
    "heights=[5.0,5.5,6.0,5.8]\n",
    "weights=[125.0,160.0,168.0,140.0]\n",
    "\n",
    "print \"All the heights\"\n",
    "print heights\n",
    "\n",
    "print \"1st person's name\"\n",
    "print names[0] \n",
    "\n",
    "print \"2nd person's weight\"\n",
    "print weights[1] \n",
    "\n",
    "print \"Last person's weight\"\n",
    "print weights[-1] "
   ]
  },
  {
   "cell_type": "markdown",
   "metadata": {},
   "source": [
    "But accessing each of these variables individually is annoying, especially when lists get long."
   ]
  }
 ],
 "metadata": {
  "kernelspec": {
   "display_name": "Python 2",
   "language": "python",
   "name": "python2"
  },
  "language_info": {
   "codemirror_mode": {
    "name": "ipython",
    "version": 2
   },
   "file_extension": ".py",
   "mimetype": "text/x-python",
   "name": "python",
   "nbconvert_exporter": "python",
   "pygments_lexer": "ipython2",
   "version": "2.7.6"
  }
 },
 "nbformat": 4,
 "nbformat_minor": 0
}

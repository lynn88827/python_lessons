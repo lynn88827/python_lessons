{
 "cells": [
  {
   "cell_type": "markdown",
   "metadata": {},
   "source": [
    "# Lesson 3-pandas"
   ]
  },
  {
   "cell_type": "markdown",
   "metadata": {},
   "source": [
    "# I. DataFrames\n",
    "\n",
    "More detailed documentation is [here](http://pandas.pydata.org/pandas-docs/stable/indexing.html)\n",
    "\n",
    "Now we're going to take a big leap to dataframes. dataframes are extremely useful for representing data for statistical analyses. They take dictionaries and make them much more useful. Let's look at a dictionary with our information from before"
   ]
  },
  {
   "cell_type": "code",
   "execution_count": 2,
   "metadata": {
    "collapsed": false
   },
   "outputs": [
    {
     "name": "stdout",
     "output_type": "stream",
     "text": [
      "{'weights': [125.0, 160.0, 168.0, 140.0], 'names': ['Winston', 'Jess', 'Nick', 'Schmidt'], 'heights': [5.0, 5.5, 6.0, 5.8]}\n"
     ]
    }
   ],
   "source": [
    "names=['Winston','Jess','Nick','Schmidt']\n",
    "heights=[5.0,5.5,6.0,5.8]\n",
    "weights=[125.0,160.0,168.0,140.0]\n",
    "\n",
    "people={'names':names,'heights':heights,'weights':weights}\n",
    "print people"
   ]
  },
  {
   "cell_type": "code",
   "execution_count": 4,
   "metadata": {
    "collapsed": false
   },
   "outputs": [
    {
     "data": {
      "text/plain": [
       "[5.0, 5.5, 6.0, 5.8]"
      ]
     },
     "execution_count": 4,
     "metadata": {},
     "output_type": "execute_result"
    }
   ],
   "source": [
    "people['heights']"
   ]
  },
  {
   "cell_type": "code",
   "execution_count": 5,
   "metadata": {
    "collapsed": false
   },
   "outputs": [
    {
     "data": {
      "text/plain": [
       "'Winston'"
      ]
     },
     "execution_count": 5,
     "metadata": {},
     "output_type": "execute_result"
    }
   ],
   "source": [
    "people['names'][0]"
   ]
  },
  {
   "cell_type": "markdown",
   "metadata": {},
   "source": [
    "If we want all of Winston's data, we'd have to do this"
   ]
  },
  {
   "cell_type": "code",
   "execution_count": 3,
   "metadata": {
    "collapsed": false
   },
   "outputs": [
    {
     "name": "stdout",
     "output_type": "stream",
     "text": [
      "Winston\n",
      "5.0\n",
      "125.0\n"
     ]
    }
   ],
   "source": [
    "print people['names'][0]\n",
    "print people['heights'][0]\n",
    "print people['weights'][0]"
   ]
  },
  {
   "cell_type": "markdown",
   "metadata": {},
   "source": [
    "But dataframes make this easier. dataframes is part of a python package called pandas (which you already installed with jupyter). packages are repositories of python functions that you have to manually call upon using import"
   ]
  },
  {
   "cell_type": "code",
   "execution_count": 8,
   "metadata": {
    "collapsed": false
   },
   "outputs": [
    {
     "data": {
      "text/html": [
       "<div>\n",
       "<table border=\"1\" class=\"dataframe\">\n",
       "  <thead>\n",
       "    <tr style=\"text-align: right;\">\n",
       "      <th></th>\n",
       "      <th>names</th>\n",
       "      <th>heights</th>\n",
       "      <th>weights</th>\n",
       "    </tr>\n",
       "  </thead>\n",
       "  <tbody>\n",
       "    <tr>\n",
       "      <th>Winston</th>\n",
       "      <td>Winston</td>\n",
       "      <td>5.0</td>\n",
       "      <td>125.0</td>\n",
       "    </tr>\n",
       "    <tr>\n",
       "      <th>Jess</th>\n",
       "      <td>Jess</td>\n",
       "      <td>5.5</td>\n",
       "      <td>160.0</td>\n",
       "    </tr>\n",
       "    <tr>\n",
       "      <th>Nick</th>\n",
       "      <td>Nick</td>\n",
       "      <td>6.0</td>\n",
       "      <td>168.0</td>\n",
       "    </tr>\n",
       "    <tr>\n",
       "      <th>Schmidt</th>\n",
       "      <td>Schmidt</td>\n",
       "      <td>5.8</td>\n",
       "      <td>140.0</td>\n",
       "    </tr>\n",
       "  </tbody>\n",
       "</table>\n",
       "</div>"
      ],
      "text/plain": [
       "           names  heights  weights\n",
       "Winston  Winston      5.0    125.0\n",
       "Jess        Jess      5.5    160.0\n",
       "Nick        Nick      6.0    168.0\n",
       "Schmidt  Schmidt      5.8    140.0"
      ]
     },
     "execution_count": 8,
     "metadata": {},
     "output_type": "execute_result"
    }
   ],
   "source": [
    "import pandas as pd # I will refer to pandas as pd for the rest of the code\n",
    "\n",
    "# the period means that \"in package pd, I want to use the function DataFrame()\n",
    "people_df=pd.DataFrame(people,index=people['names'],columns=['names','heights','weights']) \n",
    "people_df"
   ]
  },
  {
   "cell_type": "code",
   "execution_count": 7,
   "metadata": {
    "collapsed": false
   },
   "outputs": [
    {
     "data": {
      "text/html": [
       "<div>\n",
       "<table border=\"1\" class=\"dataframe\">\n",
       "  <thead>\n",
       "    <tr style=\"text-align: right;\">\n",
       "      <th></th>\n",
       "      <th>heights</th>\n",
       "      <th>weights</th>\n",
       "    </tr>\n",
       "  </thead>\n",
       "  <tbody>\n",
       "    <tr>\n",
       "      <th>Winston</th>\n",
       "      <td>5.0</td>\n",
       "      <td>125.0</td>\n",
       "    </tr>\n",
       "    <tr>\n",
       "      <th>Jess</th>\n",
       "      <td>5.5</td>\n",
       "      <td>160.0</td>\n",
       "    </tr>\n",
       "    <tr>\n",
       "      <th>Nick</th>\n",
       "      <td>6.0</td>\n",
       "      <td>168.0</td>\n",
       "    </tr>\n",
       "    <tr>\n",
       "      <th>Schmidt</th>\n",
       "      <td>5.8</td>\n",
       "      <td>140.0</td>\n",
       "    </tr>\n",
       "  </tbody>\n",
       "</table>\n",
       "</div>"
      ],
      "text/plain": [
       "         heights  weights\n",
       "Winston      5.0    125.0\n",
       "Jess         5.5    160.0\n",
       "Nick         6.0    168.0\n",
       "Schmidt      5.8    140.0"
      ]
     },
     "execution_count": 7,
     "metadata": {},
     "output_type": "execute_result"
    }
   ],
   "source": [
    "import pandas as pd\n",
    "pd.DataFrame(people,index=people['names'],columns=['heights','weights'])"
   ]
  },
  {
   "cell_type": "code",
   "execution_count": 10,
   "metadata": {
    "collapsed": false
   },
   "outputs": [
    {
     "data": {
      "text/html": [
       "<div>\n",
       "<table border=\"1\" class=\"dataframe\">\n",
       "  <thead>\n",
       "    <tr style=\"text-align: right;\">\n",
       "      <th></th>\n",
       "      <th>heights</th>\n",
       "      <th>weights</th>\n",
       "    </tr>\n",
       "  </thead>\n",
       "  <tbody>\n",
       "    <tr>\n",
       "      <th>Winston</th>\n",
       "      <td>5.0</td>\n",
       "      <td>125.0</td>\n",
       "    </tr>\n",
       "    <tr>\n",
       "      <th>Jess</th>\n",
       "      <td>5.5</td>\n",
       "      <td>160.0</td>\n",
       "    </tr>\n",
       "    <tr>\n",
       "      <th>Nick</th>\n",
       "      <td>6.0</td>\n",
       "      <td>168.0</td>\n",
       "    </tr>\n",
       "    <tr>\n",
       "      <th>Schmidt</th>\n",
       "      <td>5.8</td>\n",
       "      <td>140.0</td>\n",
       "    </tr>\n",
       "  </tbody>\n",
       "</table>\n",
       "</div>"
      ],
      "text/plain": [
       "         heights  weights\n",
       "Winston      5.0    125.0\n",
       "Jess         5.5    160.0\n",
       "Nick         6.0    168.0\n",
       "Schmidt      5.8    140.0"
      ]
     },
     "execution_count": 10,
     "metadata": {},
     "output_type": "execute_result"
    }
   ],
   "source": [
    "pd.DataFrame(people,index=people['names'],columns=['heights','weights'])"
   ]
  },
  {
   "cell_type": "code",
   "execution_count": 6,
   "metadata": {
    "collapsed": false
   },
   "outputs": [
    {
     "data": {
      "text/plain": [
       "<module 'pandas' from '/Users/timlew/anaconda/lib/python2.7/site-packages/pandas/__init__.pyc'>"
      ]
     },
     "execution_count": 6,
     "metadata": {},
     "output_type": "execute_result"
    }
   ],
   "source": [
    "import pandas as pd\n"
   ]
  },
  {
   "cell_type": "markdown",
   "metadata": {},
   "source": [
    "pandas' DataFrame function automatically takes my dictionary and create this nice table. I did have to set the index argument to the people's names so I could name the rows and set the order of columns. Otherwise, I get generic number indices with columns in alphabetical order."
   ]
  },
  {
   "cell_type": "code",
   "execution_count": 5,
   "metadata": {
    "collapsed": false
   },
   "outputs": [
    {
     "data": {
      "text/html": [
       "<div>\n",
       "<table border=\"1\" class=\"dataframe\">\n",
       "  <thead>\n",
       "    <tr style=\"text-align: right;\">\n",
       "      <th></th>\n",
       "      <th>heights</th>\n",
       "      <th>names</th>\n",
       "      <th>weights</th>\n",
       "    </tr>\n",
       "  </thead>\n",
       "  <tbody>\n",
       "    <tr>\n",
       "      <th>0</th>\n",
       "      <td>5.0</td>\n",
       "      <td>Winston</td>\n",
       "      <td>125.0</td>\n",
       "    </tr>\n",
       "    <tr>\n",
       "      <th>1</th>\n",
       "      <td>5.5</td>\n",
       "      <td>Jess</td>\n",
       "      <td>160.0</td>\n",
       "    </tr>\n",
       "    <tr>\n",
       "      <th>2</th>\n",
       "      <td>6.0</td>\n",
       "      <td>Nick</td>\n",
       "      <td>168.0</td>\n",
       "    </tr>\n",
       "    <tr>\n",
       "      <th>3</th>\n",
       "      <td>5.8</td>\n",
       "      <td>Schmidt</td>\n",
       "      <td>140.0</td>\n",
       "    </tr>\n",
       "  </tbody>\n",
       "</table>\n",
       "</div>"
      ],
      "text/plain": [
       "   heights    names  weights\n",
       "0      5.0  Winston    125.0\n",
       "1      5.5     Jess    160.0\n",
       "2      6.0     Nick    168.0\n",
       "3      5.8  Schmidt    140.0"
      ]
     },
     "execution_count": 5,
     "metadata": {},
     "output_type": "execute_result"
    }
   ],
   "source": [
    "pd.DataFrame(people) "
   ]
  },
  {
   "cell_type": "code",
   "execution_count": 15,
   "metadata": {
    "collapsed": false
   },
   "outputs": [
    {
     "data": {
      "text/plain": [
       "heights     0.434933\n",
       "weights    19.465782\n",
       "dtype: float64"
      ]
     },
     "execution_count": 15,
     "metadata": {},
     "output_type": "execute_result"
    }
   ],
   "source": [
    "people_df=pd.DataFrame(people,index=people['names'],columns=['heights','weights'])\n",
    "people_df\n",
    "\n",
    "people_df.std()"
   ]
  },
  {
   "cell_type": "markdown",
   "metadata": {},
   "source": [
    "To give y'all an idea of why this is immediately useful, let's look at some of the functions we get for free with DataFrame"
   ]
  },
  {
   "cell_type": "code",
   "execution_count": 18,
   "metadata": {
    "collapsed": false
   },
   "outputs": [
    {
     "name": "stdout",
     "output_type": "stream",
     "text": [
      "5.575\n",
      "0.434932945023\n",
      "\n",
      "\n",
      "count    4.000000\n",
      "mean     5.575000\n",
      "std      0.434933\n",
      "min      5.000000\n",
      "25%      5.375000\n",
      "50%      5.650000\n",
      "75%      5.850000\n",
      "max      6.000000\n",
      "Name: heights, dtype: float64\n"
     ]
    }
   ],
   "source": [
    "%matplotlib inline\n",
    "# You need the above line in all of your scripts to make sure jupyter makes plots in the browser\n",
    "\n",
    "print people_df['heights'].mean()\n",
    "print people_df['heights'].std()\n",
    "print '\\n'\n",
    "print people_df['heights'].describe()"
   ]
  },
  {
   "cell_type": "code",
   "execution_count": 10,
   "metadata": {
    "collapsed": false
   },
   "outputs": [
    {
     "data": {
      "text/html": [
       "<div>\n",
       "<table border=\"1\" class=\"dataframe\">\n",
       "  <thead>\n",
       "    <tr style=\"text-align: right;\">\n",
       "      <th></th>\n",
       "      <th>heights</th>\n",
       "      <th>weights</th>\n",
       "    </tr>\n",
       "  </thead>\n",
       "  <tbody>\n",
       "    <tr>\n",
       "      <th>count</th>\n",
       "      <td>4.000000</td>\n",
       "      <td>4.000000</td>\n",
       "    </tr>\n",
       "    <tr>\n",
       "      <th>mean</th>\n",
       "      <td>5.575000</td>\n",
       "      <td>148.250000</td>\n",
       "    </tr>\n",
       "    <tr>\n",
       "      <th>std</th>\n",
       "      <td>0.434933</td>\n",
       "      <td>19.465782</td>\n",
       "    </tr>\n",
       "    <tr>\n",
       "      <th>min</th>\n",
       "      <td>5.000000</td>\n",
       "      <td>125.000000</td>\n",
       "    </tr>\n",
       "    <tr>\n",
       "      <th>25%</th>\n",
       "      <td>5.375000</td>\n",
       "      <td>136.250000</td>\n",
       "    </tr>\n",
       "    <tr>\n",
       "      <th>50%</th>\n",
       "      <td>5.650000</td>\n",
       "      <td>150.000000</td>\n",
       "    </tr>\n",
       "    <tr>\n",
       "      <th>75%</th>\n",
       "      <td>5.850000</td>\n",
       "      <td>162.000000</td>\n",
       "    </tr>\n",
       "    <tr>\n",
       "      <th>max</th>\n",
       "      <td>6.000000</td>\n",
       "      <td>168.000000</td>\n",
       "    </tr>\n",
       "  </tbody>\n",
       "</table>\n",
       "</div>"
      ],
      "text/plain": [
       "        heights     weights\n",
       "count  4.000000    4.000000\n",
       "mean   5.575000  148.250000\n",
       "std    0.434933   19.465782\n",
       "min    5.000000  125.000000\n",
       "25%    5.375000  136.250000\n",
       "50%    5.650000  150.000000\n",
       "75%    5.850000  162.000000\n",
       "max    6.000000  168.000000"
      ]
     },
     "execution_count": 10,
     "metadata": {},
     "output_type": "execute_result"
    }
   ],
   "source": [
    "people_df.describe()"
   ]
  },
  {
   "cell_type": "code",
   "execution_count": 19,
   "metadata": {
    "collapsed": false
   },
   "outputs": [
    {
     "data": {
      "text/plain": [
       "<matplotlib.axes._subplots.AxesSubplot at 0x116db8350>"
      ]
     },
     "execution_count": 19,
     "metadata": {},
     "output_type": "execute_result"
    },
    {
     "data": {
      "image/png": "[encoded data removed]",
      "text/plain": [
       "<matplotlib.figure.Figure at 0x1112bced0>"
      ]
     },
     "metadata": {},
     "output_type": "display_data"
    }
   ],
   "source": [
    "people_df.plot()"
   ]
  },
  {
   "cell_type": "code",
   "execution_count": 8,
   "metadata": {
    "collapsed": false
   },
   "outputs": [
    {
     "data": {
      "text/plain": [
       "<matplotlib.axes._subplots.AxesSubplot at 0x114774ed0>"
      ]
     },
     "execution_count": 8,
     "metadata": {},
     "output_type": "execute_result"
    },
    {
     "data": {
      "image/png": "[encoded data removed]",
      "text/plain": [
       "<matplotlib.figure.Figure at 0x114905ed0>"
      ]
     },
     "metadata": {},
     "output_type": "display_data"
    }
   ],
   "source": [
    "people_df['heights'].hist()"
   ]
  },
  {
   "cell_type": "markdown",
   "metadata": {},
   "source": [
    "# II v2. Importing data"
   ]
  },
  {
   "cell_type": "markdown",
   "metadata": {},
   "source": [
    "You usually won't manually enter data into a dictionary and then transform it into dataframe. Typically, the data will be stored somewhere as a csv (comma-separated values) or excel file. Download [this](https://data.cityofnewyork.us/api/views/kku6-nxdu/rows.csv?accessType=DOWNLOAD) csv file and then we can take a look at it. You can open it up in Excel if you'd like to see it. \n",
    "\n",
    "This dataset lists the demographics of different zip codes in New York. There's a bunch of freely available data at [data.gov](https://catalog.data.gov/)\n",
    "\n",
    "Let's load this data into pandas and then take a look at it"
   ]
  },
  {
   "cell_type": "code",
   "execution_count": 12,
   "metadata": {
    "collapsed": false
   },
   "outputs": [
    {
     "data": {
      "text/html": [
       "<div>\n",
       "<table border=\"1\" class=\"dataframe\">\n",
       "  <thead>\n",
       "    <tr style=\"text-align: right;\">\n",
       "      <th></th>\n",
       "      <th>JURISDICTION NAME</th>\n",
       "      <th>COUNT PARTICIPANTS</th>\n",
       "      <th>COUNT FEMALE</th>\n",
       "      <th>PERCENT FEMALE</th>\n",
       "      <th>COUNT MALE</th>\n",
       "      <th>PERCENT MALE</th>\n",
       "      <th>COUNT GENDER UNKNOWN</th>\n",
       "      <th>PERCENT GENDER UNKNOWN</th>\n",
       "      <th>COUNT GENDER TOTAL</th>\n",
       "      <th>PERCENT GENDER TOTAL</th>\n",
       "      <th>...</th>\n",
       "      <th>COUNT CITIZEN STATUS TOTAL</th>\n",
       "      <th>PERCENT CITIZEN STATUS TOTAL</th>\n",
       "      <th>COUNT RECEIVES PUBLIC ASSISTANCE</th>\n",
       "      <th>PERCENT RECEIVES PUBLIC ASSISTANCE</th>\n",
       "      <th>COUNT NRECEIVES PUBLIC ASSISTANCE</th>\n",
       "      <th>PERCENT NRECEIVES PUBLIC ASSISTANCE</th>\n",
       "      <th>COUNT PUBLIC ASSISTANCE UNKNOWN</th>\n",
       "      <th>PERCENT PUBLIC ASSISTANCE UNKNOWN</th>\n",
       "      <th>COUNT PUBLIC ASSISTANCE TOTAL</th>\n",
       "      <th>PERCENT PUBLIC ASSISTANCE TOTAL</th>\n",
       "    </tr>\n",
       "  </thead>\n",
       "  <tbody>\n",
       "    <tr>\n",
       "      <th>0</th>\n",
       "      <td>10001</td>\n",
       "      <td>44</td>\n",
       "      <td>22</td>\n",
       "      <td>0.50</td>\n",
       "      <td>22</td>\n",
       "      <td>0.50</td>\n",
       "      <td>0</td>\n",
       "      <td>0</td>\n",
       "      <td>44</td>\n",
       "      <td>100</td>\n",
       "      <td>...</td>\n",
       "      <td>44</td>\n",
       "      <td>100</td>\n",
       "      <td>20</td>\n",
       "      <td>0.45</td>\n",
       "      <td>24</td>\n",
       "      <td>0.55</td>\n",
       "      <td>0</td>\n",
       "      <td>0</td>\n",
       "      <td>44</td>\n",
       "      <td>100</td>\n",
       "    </tr>\n",
       "    <tr>\n",
       "      <th>1</th>\n",
       "      <td>10002</td>\n",
       "      <td>35</td>\n",
       "      <td>19</td>\n",
       "      <td>0.54</td>\n",
       "      <td>16</td>\n",
       "      <td>0.46</td>\n",
       "      <td>0</td>\n",
       "      <td>0</td>\n",
       "      <td>35</td>\n",
       "      <td>100</td>\n",
       "      <td>...</td>\n",
       "      <td>35</td>\n",
       "      <td>100</td>\n",
       "      <td>2</td>\n",
       "      <td>0.06</td>\n",
       "      <td>33</td>\n",
       "      <td>0.94</td>\n",
       "      <td>0</td>\n",
       "      <td>0</td>\n",
       "      <td>35</td>\n",
       "      <td>100</td>\n",
       "    </tr>\n",
       "    <tr>\n",
       "      <th>2</th>\n",
       "      <td>10003</td>\n",
       "      <td>1</td>\n",
       "      <td>1</td>\n",
       "      <td>1.00</td>\n",
       "      <td>0</td>\n",
       "      <td>0.00</td>\n",
       "      <td>0</td>\n",
       "      <td>0</td>\n",
       "      <td>1</td>\n",
       "      <td>100</td>\n",
       "      <td>...</td>\n",
       "      <td>1</td>\n",
       "      <td>100</td>\n",
       "      <td>0</td>\n",
       "      <td>0.00</td>\n",
       "      <td>1</td>\n",
       "      <td>1.00</td>\n",
       "      <td>0</td>\n",
       "      <td>0</td>\n",
       "      <td>1</td>\n",
       "      <td>100</td>\n",
       "    </tr>\n",
       "    <tr>\n",
       "      <th>3</th>\n",
       "      <td>10004</td>\n",
       "      <td>0</td>\n",
       "      <td>0</td>\n",
       "      <td>0.00</td>\n",
       "      <td>0</td>\n",
       "      <td>0.00</td>\n",
       "      <td>0</td>\n",
       "      <td>0</td>\n",
       "      <td>0</td>\n",
       "      <td>0</td>\n",
       "      <td>...</td>\n",
       "      <td>0</td>\n",
       "      <td>0</td>\n",
       "      <td>0</td>\n",
       "      <td>0.00</td>\n",
       "      <td>0</td>\n",
       "      <td>0.00</td>\n",
       "      <td>0</td>\n",
       "      <td>0</td>\n",
       "      <td>0</td>\n",
       "      <td>0</td>\n",
       "    </tr>\n",
       "    <tr>\n",
       "      <th>4</th>\n",
       "      <td>10005</td>\n",
       "      <td>2</td>\n",
       "      <td>2</td>\n",
       "      <td>1.00</td>\n",
       "      <td>0</td>\n",
       "      <td>0.00</td>\n",
       "      <td>0</td>\n",
       "      <td>0</td>\n",
       "      <td>2</td>\n",
       "      <td>100</td>\n",
       "      <td>...</td>\n",
       "      <td>2</td>\n",
       "      <td>100</td>\n",
       "      <td>0</td>\n",
       "      <td>0.00</td>\n",
       "      <td>2</td>\n",
       "      <td>1.00</td>\n",
       "      <td>0</td>\n",
       "      <td>0</td>\n",
       "      <td>2</td>\n",
       "      <td>100</td>\n",
       "    </tr>\n",
       "  </tbody>\n",
       "</table>\n",
       "<p>5 rows × 46 columns</p>\n",
       "</div>"
      ],
      "text/plain": [
       "   JURISDICTION NAME  COUNT PARTICIPANTS  COUNT FEMALE  PERCENT FEMALE  \\\n",
       "0              10001                  44            22            0.50   \n",
       "1              10002                  35            19            0.54   \n",
       "2              10003                   1             1            1.00   \n",
       "3              10004                   0             0            0.00   \n",
       "4              10005                   2             2            1.00   \n",
       "\n",
       "   COUNT MALE  PERCENT MALE  COUNT GENDER UNKNOWN  PERCENT GENDER UNKNOWN  \\\n",
       "0          22          0.50                     0                       0   \n",
       "1          16          0.46                     0                       0   \n",
       "2           0          0.00                     0                       0   \n",
       "3           0          0.00                     0                       0   \n",
       "4           0          0.00                     0                       0   \n",
       "\n",
       "   COUNT GENDER TOTAL  PERCENT GENDER TOTAL               ...                 \\\n",
       "0                  44                   100               ...                  \n",
       "1                  35                   100               ...                  \n",
       "2                   1                   100               ...                  \n",
       "3                   0                     0               ...                  \n",
       "4                   2                   100               ...                  \n",
       "\n",
       "   COUNT CITIZEN STATUS TOTAL  PERCENT CITIZEN STATUS TOTAL  \\\n",
       "0                          44                           100   \n",
       "1                          35                           100   \n",
       "2                           1                           100   \n",
       "3                           0                             0   \n",
       "4                           2                           100   \n",
       "\n",
       "   COUNT RECEIVES PUBLIC ASSISTANCE  PERCENT RECEIVES PUBLIC ASSISTANCE  \\\n",
       "0                                20                                0.45   \n",
       "1                                 2                                0.06   \n",
       "2                                 0                                0.00   \n",
       "3                                 0                                0.00   \n",
       "4                                 0                                0.00   \n",
       "\n",
       "   COUNT NRECEIVES PUBLIC ASSISTANCE  PERCENT NRECEIVES PUBLIC ASSISTANCE  \\\n",
       "0                                 24                                 0.55   \n",
       "1                                 33                                 0.94   \n",
       "2                                  1                                 1.00   \n",
       "3                                  0                                 0.00   \n",
       "4                                  2                                 1.00   \n",
       "\n",
       "   COUNT PUBLIC ASSISTANCE UNKNOWN  PERCENT PUBLIC ASSISTANCE UNKNOWN  \\\n",
       "0                                0                                  0   \n",
       "1                                0                                  0   \n",
       "2                                0                                  0   \n",
       "3                                0                                  0   \n",
       "4                                0                                  0   \n",
       "\n",
       "   COUNT PUBLIC ASSISTANCE TOTAL  PERCENT PUBLIC ASSISTANCE TOTAL  \n",
       "0                             44                              100  \n",
       "1                             35                              100  \n",
       "2                              1                              100  \n",
       "3                              0                                0  \n",
       "4                              2                              100  \n",
       "\n",
       "[5 rows x 46 columns]"
      ]
     },
     "execution_count": 12,
     "metadata": {},
     "output_type": "execute_result"
    }
   ],
   "source": [
    "demo_df=pd.read_csv('Demographic_Statistics_By_Zip_Code.csv')\n",
    "demo_df.head() # head shows us the first five rows of the dataframe"
   ]
  },
  {
   "cell_type": "markdown",
   "metadata": {},
   "source": [
    "This summary gives us a peek into what kind of data is in our dataframe. But because it's a summary, it leaves out some information we might want like all the column names"
   ]
  },
  {
   "cell_type": "code",
   "execution_count": 13,
   "metadata": {
    "collapsed": false
   },
   "outputs": [
    {
     "data": {
      "text/plain": [
       "Index([u'JURISDICTION NAME', u'COUNT PARTICIPANTS', u'COUNT FEMALE',\n",
       "       u'PERCENT FEMALE', u'COUNT MALE', u'PERCENT MALE',\n",
       "       u'COUNT GENDER UNKNOWN', u'PERCENT GENDER UNKNOWN',\n",
       "       u'COUNT GENDER TOTAL', u'PERCENT GENDER TOTAL',\n",
       "       u'COUNT PACIFIC ISLANDER', u'PERCENT PACIFIC ISLANDER',\n",
       "       u'COUNT HISPANIC LATINO', u'PERCENT HISPANIC LATINO',\n",
       "       u'COUNT AMERICAN INDIAN', u'PERCENT AMERICAN INDIAN',\n",
       "       u'COUNT ASIAN NON HISPANIC', u'PERCENT ASIAN NON HISPANIC',\n",
       "       u'COUNT WHITE NON HISPANIC', u'PERCENT WHITE NON HISPANIC',\n",
       "       u'COUNT BLACK NON HISPANIC', u'PERCENT BLACK NON HISPANIC',\n",
       "       u'COUNT OTHER ETHNICITY', u'PERCENT OTHER ETHNICITY',\n",
       "       u'COUNT ETHNICITY UNKNOWN', u'PERCENT ETHNICITY UNKNOWN',\n",
       "       u'COUNT ETHNICITY TOTAL', u'PERCENT ETHNICITY TOTAL',\n",
       "       u'COUNT PERMANENT RESIDENT ALIEN', u'PERCENT PERMANENT RESIDENT ALIEN',\n",
       "       u'COUNT US CITIZEN', u'PERCENT US CITIZEN',\n",
       "       u'COUNT OTHER CITIZEN STATUS', u'PERCENT OTHER CITIZEN STATUS',\n",
       "       u'COUNT CITIZEN STATUS UNKNOWN', u'PERCENT CITIZEN STATUS UNKNOWN',\n",
       "       u'COUNT CITIZEN STATUS TOTAL', u'PERCENT CITIZEN STATUS TOTAL',\n",
       "       u'COUNT RECEIVES PUBLIC ASSISTANCE',\n",
       "       u'PERCENT RECEIVES PUBLIC ASSISTANCE',\n",
       "       u'COUNT NRECEIVES PUBLIC ASSISTANCE',\n",
       "       u'PERCENT NRECEIVES PUBLIC ASSISTANCE',\n",
       "       u'COUNT PUBLIC ASSISTANCE UNKNOWN',\n",
       "       u'PERCENT PUBLIC ASSISTANCE UNKNOWN', u'COUNT PUBLIC ASSISTANCE TOTAL',\n",
       "       u'PERCENT PUBLIC ASSISTANCE TOTAL'],\n",
       "      dtype='object')"
      ]
     },
     "execution_count": 13,
     "metadata": {},
     "output_type": "execute_result"
    }
   ],
   "source": [
    "demo_df.columns"
   ]
  },
  {
   "cell_type": "markdown",
   "metadata": {},
   "source": [
    "And how many rows we have"
   ]
  },
  {
   "cell_type": "code",
   "execution_count": 15,
   "metadata": {
    "collapsed": false
   },
   "outputs": [
    {
     "data": {
      "text/plain": [
       "236"
      ]
     },
     "execution_count": 15,
     "metadata": {},
     "output_type": "execute_result"
    }
   ],
   "source": [
    "len(demo_df) "
   ]
  },
  {
   "cell_type": "markdown",
   "metadata": {
    "collapsed": true
   },
   "source": [
    "# IIa. Selecting rows and columns"
   ]
  },
  {
   "cell_type": "markdown",
   "metadata": {},
   "source": [
    "pandas supports selecting rows and columns using brackets"
   ]
  },
  {
   "cell_type": "code",
   "execution_count": 14,
   "metadata": {
    "collapsed": false
   },
   "outputs": [
    {
     "data": {
      "text/plain": [
       "0    10001\n",
       "1    10002\n",
       "2    10003\n",
       "3    10004\n",
       "4    10005\n",
       "Name: JURISDICTION NAME, dtype: int64"
      ]
     },
     "execution_count": 14,
     "metadata": {},
     "output_type": "execute_result"
    }
   ],
   "source": [
    "demo_df_head=demo_df.head() # I'm saving just the first five lines so we don't get a lot of stuff printed out\n",
    "demo_df_head['JURISDICTION NAME']"
   ]
  },
  {
   "cell_type": "code",
   "execution_count": 24,
   "metadata": {
    "collapsed": false
   },
   "outputs": [
    {
     "data": {
      "text/plain": [
       "0    22\n",
       "1    19\n",
       "2     1\n",
       "3     0\n",
       "4     2\n",
       "Name: COUNT FEMALE, dtype: int64"
      ]
     },
     "execution_count": 24,
     "metadata": {},
     "output_type": "execute_result"
    }
   ],
   "source": [
    "demo_df_head=demo_df.head()\n",
    "demo_df_head['COUNT FEMALE']"
   ]
  },
  {
   "cell_type": "markdown",
   "metadata": {},
   "source": [
    "Or you can get multiple columns out by giving the dataframe a list of column names"
   ]
  },
  {
   "cell_type": "code",
   "execution_count": 25,
   "metadata": {
    "collapsed": false
   },
   "outputs": [
    {
     "data": {
      "text/html": [
       "<div>\n",
       "<table border=\"1\" class=\"dataframe\">\n",
       "  <thead>\n",
       "    <tr style=\"text-align: right;\">\n",
       "      <th></th>\n",
       "      <th>JURISDICTION NAME</th>\n",
       "      <th>COUNT FEMALE</th>\n",
       "    </tr>\n",
       "  </thead>\n",
       "  <tbody>\n",
       "    <tr>\n",
       "      <th>0</th>\n",
       "      <td>10001</td>\n",
       "      <td>22</td>\n",
       "    </tr>\n",
       "    <tr>\n",
       "      <th>1</th>\n",
       "      <td>10002</td>\n",
       "      <td>19</td>\n",
       "    </tr>\n",
       "    <tr>\n",
       "      <th>2</th>\n",
       "      <td>10003</td>\n",
       "      <td>1</td>\n",
       "    </tr>\n",
       "    <tr>\n",
       "      <th>3</th>\n",
       "      <td>10004</td>\n",
       "      <td>0</td>\n",
       "    </tr>\n",
       "    <tr>\n",
       "      <th>4</th>\n",
       "      <td>10005</td>\n",
       "      <td>2</td>\n",
       "    </tr>\n",
       "  </tbody>\n",
       "</table>\n",
       "</div>"
      ],
      "text/plain": [
       "   JURISDICTION NAME  COUNT FEMALE\n",
       "0              10001            22\n",
       "1              10002            19\n",
       "2              10003             1\n",
       "3              10004             0\n",
       "4              10005             2"
      ]
     },
     "execution_count": 25,
     "metadata": {},
     "output_type": "execute_result"
    }
   ],
   "source": [
    "demo_df_head[['JURISDICTION NAME','COUNT FEMALE']]"
   ]
  },
  {
   "cell_type": "markdown",
   "metadata": {},
   "source": [
    "Or multiple rows"
   ]
  },
  {
   "cell_type": "code",
   "execution_count": 26,
   "metadata": {
    "collapsed": false
   },
   "outputs": [
    {
     "data": {
      "text/html": [
       "<div>\n",
       "<table border=\"1\" class=\"dataframe\">\n",
       "  <thead>\n",
       "    <tr style=\"text-align: right;\">\n",
       "      <th></th>\n",
       "      <th>JURISDICTION NAME</th>\n",
       "      <th>COUNT PARTICIPANTS</th>\n",
       "      <th>COUNT FEMALE</th>\n",
       "      <th>PERCENT FEMALE</th>\n",
       "      <th>COUNT MALE</th>\n",
       "      <th>PERCENT MALE</th>\n",
       "      <th>COUNT GENDER UNKNOWN</th>\n",
       "      <th>PERCENT GENDER UNKNOWN</th>\n",
       "      <th>COUNT GENDER TOTAL</th>\n",
       "      <th>PERCENT GENDER TOTAL</th>\n",
       "      <th>...</th>\n",
       "      <th>COUNT CITIZEN STATUS TOTAL</th>\n",
       "      <th>PERCENT CITIZEN STATUS TOTAL</th>\n",
       "      <th>COUNT RECEIVES PUBLIC ASSISTANCE</th>\n",
       "      <th>PERCENT RECEIVES PUBLIC ASSISTANCE</th>\n",
       "      <th>COUNT NRECEIVES PUBLIC ASSISTANCE</th>\n",
       "      <th>PERCENT NRECEIVES PUBLIC ASSISTANCE</th>\n",
       "      <th>COUNT PUBLIC ASSISTANCE UNKNOWN</th>\n",
       "      <th>PERCENT PUBLIC ASSISTANCE UNKNOWN</th>\n",
       "      <th>COUNT PUBLIC ASSISTANCE TOTAL</th>\n",
       "      <th>PERCENT PUBLIC ASSISTANCE TOTAL</th>\n",
       "    </tr>\n",
       "  </thead>\n",
       "  <tbody>\n",
       "    <tr>\n",
       "      <th>0</th>\n",
       "      <td>10001</td>\n",
       "      <td>44</td>\n",
       "      <td>22</td>\n",
       "      <td>0.50</td>\n",
       "      <td>22</td>\n",
       "      <td>0.50</td>\n",
       "      <td>0</td>\n",
       "      <td>0</td>\n",
       "      <td>44</td>\n",
       "      <td>100</td>\n",
       "      <td>...</td>\n",
       "      <td>44</td>\n",
       "      <td>100</td>\n",
       "      <td>20</td>\n",
       "      <td>0.45</td>\n",
       "      <td>24</td>\n",
       "      <td>0.55</td>\n",
       "      <td>0</td>\n",
       "      <td>0</td>\n",
       "      <td>44</td>\n",
       "      <td>100</td>\n",
       "    </tr>\n",
       "    <tr>\n",
       "      <th>1</th>\n",
       "      <td>10002</td>\n",
       "      <td>35</td>\n",
       "      <td>19</td>\n",
       "      <td>0.54</td>\n",
       "      <td>16</td>\n",
       "      <td>0.46</td>\n",
       "      <td>0</td>\n",
       "      <td>0</td>\n",
       "      <td>35</td>\n",
       "      <td>100</td>\n",
       "      <td>...</td>\n",
       "      <td>35</td>\n",
       "      <td>100</td>\n",
       "      <td>2</td>\n",
       "      <td>0.06</td>\n",
       "      <td>33</td>\n",
       "      <td>0.94</td>\n",
       "      <td>0</td>\n",
       "      <td>0</td>\n",
       "      <td>35</td>\n",
       "      <td>100</td>\n",
       "    </tr>\n",
       "  </tbody>\n",
       "</table>\n",
       "<p>2 rows × 46 columns</p>\n",
       "</div>"
      ],
      "text/plain": [
       "   JURISDICTION NAME  COUNT PARTICIPANTS  COUNT FEMALE  PERCENT FEMALE  \\\n",
       "0              10001                  44            22            0.50   \n",
       "1              10002                  35            19            0.54   \n",
       "\n",
       "   COUNT MALE  PERCENT MALE  COUNT GENDER UNKNOWN  PERCENT GENDER UNKNOWN  \\\n",
       "0          22          0.50                     0                       0   \n",
       "1          16          0.46                     0                       0   \n",
       "\n",
       "   COUNT GENDER TOTAL  PERCENT GENDER TOTAL               ...                 \\\n",
       "0                  44                   100               ...                  \n",
       "1                  35                   100               ...                  \n",
       "\n",
       "   COUNT CITIZEN STATUS TOTAL  PERCENT CITIZEN STATUS TOTAL  \\\n",
       "0                          44                           100   \n",
       "1                          35                           100   \n",
       "\n",
       "   COUNT RECEIVES PUBLIC ASSISTANCE  PERCENT RECEIVES PUBLIC ASSISTANCE  \\\n",
       "0                                20                                0.45   \n",
       "1                                 2                                0.06   \n",
       "\n",
       "   COUNT NRECEIVES PUBLIC ASSISTANCE  PERCENT NRECEIVES PUBLIC ASSISTANCE  \\\n",
       "0                                 24                                 0.55   \n",
       "1                                 33                                 0.94   \n",
       "\n",
       "   COUNT PUBLIC ASSISTANCE UNKNOWN  PERCENT PUBLIC ASSISTANCE UNKNOWN  \\\n",
       "0                                0                                  0   \n",
       "1                                0                                  0   \n",
       "\n",
       "   COUNT PUBLIC ASSISTANCE TOTAL  PERCENT PUBLIC ASSISTANCE TOTAL  \n",
       "0                             44                              100  \n",
       "1                             35                              100  \n",
       "\n",
       "[2 rows x 46 columns]"
      ]
     },
     "execution_count": 26,
     "metadata": {},
     "output_type": "execute_result"
    }
   ],
   "source": [
    "demo_df_head[0:2]"
   ]
  },
  {
   "cell_type": "markdown",
   "metadata": {},
   "source": [
    "pandas, however, encourages you to index information using the loc and iloc features. loc lets you index by names and ilocs lets you index by index number. It's usually better to use these functions because they force you to specify column and row indices; otherwise brackets can be kind of ambiguous (imagine what would happen if you had rows and columns with the same name).\n",
    "\n",
    "Let's say we set our row labels to be the Jurisdiction Name"
   ]
  },
  {
   "cell_type": "code",
   "execution_count": 15,
   "metadata": {
    "collapsed": false
   },
   "outputs": [
    {
     "data": {
      "text/html": [
       "<div>\n",
       "<table border=\"1\" class=\"dataframe\">\n",
       "  <thead>\n",
       "    <tr style=\"text-align: right;\">\n",
       "      <th></th>\n",
       "      <th>COUNT PARTICIPANTS</th>\n",
       "      <th>COUNT FEMALE</th>\n",
       "      <th>PERCENT FEMALE</th>\n",
       "      <th>COUNT MALE</th>\n",
       "      <th>PERCENT MALE</th>\n",
       "      <th>COUNT GENDER UNKNOWN</th>\n",
       "      <th>PERCENT GENDER UNKNOWN</th>\n",
       "      <th>COUNT GENDER TOTAL</th>\n",
       "      <th>PERCENT GENDER TOTAL</th>\n",
       "      <th>COUNT PACIFIC ISLANDER</th>\n",
       "      <th>...</th>\n",
       "      <th>COUNT CITIZEN STATUS TOTAL</th>\n",
       "      <th>PERCENT CITIZEN STATUS TOTAL</th>\n",
       "      <th>COUNT RECEIVES PUBLIC ASSISTANCE</th>\n",
       "      <th>PERCENT RECEIVES PUBLIC ASSISTANCE</th>\n",
       "      <th>COUNT NRECEIVES PUBLIC ASSISTANCE</th>\n",
       "      <th>PERCENT NRECEIVES PUBLIC ASSISTANCE</th>\n",
       "      <th>COUNT PUBLIC ASSISTANCE UNKNOWN</th>\n",
       "      <th>PERCENT PUBLIC ASSISTANCE UNKNOWN</th>\n",
       "      <th>COUNT PUBLIC ASSISTANCE TOTAL</th>\n",
       "      <th>PERCENT PUBLIC ASSISTANCE TOTAL</th>\n",
       "    </tr>\n",
       "    <tr>\n",
       "      <th>JURISDICTION NAME</th>\n",
       "      <th></th>\n",
       "      <th></th>\n",
       "      <th></th>\n",
       "      <th></th>\n",
       "      <th></th>\n",
       "      <th></th>\n",
       "      <th></th>\n",
       "      <th></th>\n",
       "      <th></th>\n",
       "      <th></th>\n",
       "      <th></th>\n",
       "      <th></th>\n",
       "      <th></th>\n",
       "      <th></th>\n",
       "      <th></th>\n",
       "      <th></th>\n",
       "      <th></th>\n",
       "      <th></th>\n",
       "      <th></th>\n",
       "      <th></th>\n",
       "      <th></th>\n",
       "    </tr>\n",
       "  </thead>\n",
       "  <tbody>\n",
       "    <tr>\n",
       "      <th>10001</th>\n",
       "      <td>44</td>\n",
       "      <td>22</td>\n",
       "      <td>0.50</td>\n",
       "      <td>22</td>\n",
       "      <td>0.50</td>\n",
       "      <td>0</td>\n",
       "      <td>0</td>\n",
       "      <td>44</td>\n",
       "      <td>100</td>\n",
       "      <td>0</td>\n",
       "      <td>...</td>\n",
       "      <td>44</td>\n",
       "      <td>100</td>\n",
       "      <td>20</td>\n",
       "      <td>0.45</td>\n",
       "      <td>24</td>\n",
       "      <td>0.55</td>\n",
       "      <td>0</td>\n",
       "      <td>0</td>\n",
       "      <td>44</td>\n",
       "      <td>100</td>\n",
       "    </tr>\n",
       "    <tr>\n",
       "      <th>10002</th>\n",
       "      <td>35</td>\n",
       "      <td>19</td>\n",
       "      <td>0.54</td>\n",
       "      <td>16</td>\n",
       "      <td>0.46</td>\n",
       "      <td>0</td>\n",
       "      <td>0</td>\n",
       "      <td>35</td>\n",
       "      <td>100</td>\n",
       "      <td>0</td>\n",
       "      <td>...</td>\n",
       "      <td>35</td>\n",
       "      <td>100</td>\n",
       "      <td>2</td>\n",
       "      <td>0.06</td>\n",
       "      <td>33</td>\n",
       "      <td>0.94</td>\n",
       "      <td>0</td>\n",
       "      <td>0</td>\n",
       "      <td>35</td>\n",
       "      <td>100</td>\n",
       "    </tr>\n",
       "    <tr>\n",
       "      <th>10003</th>\n",
       "      <td>1</td>\n",
       "      <td>1</td>\n",
       "      <td>1.00</td>\n",
       "      <td>0</td>\n",
       "      <td>0.00</td>\n",
       "      <td>0</td>\n",
       "      <td>0</td>\n",
       "      <td>1</td>\n",
       "      <td>100</td>\n",
       "      <td>0</td>\n",
       "      <td>...</td>\n",
       "      <td>1</td>\n",
       "      <td>100</td>\n",
       "      <td>0</td>\n",
       "      <td>0.00</td>\n",
       "      <td>1</td>\n",
       "      <td>1.00</td>\n",
       "      <td>0</td>\n",
       "      <td>0</td>\n",
       "      <td>1</td>\n",
       "      <td>100</td>\n",
       "    </tr>\n",
       "    <tr>\n",
       "      <th>10004</th>\n",
       "      <td>0</td>\n",
       "      <td>0</td>\n",
       "      <td>0.00</td>\n",
       "      <td>0</td>\n",
       "      <td>0.00</td>\n",
       "      <td>0</td>\n",
       "      <td>0</td>\n",
       "      <td>0</td>\n",
       "      <td>0</td>\n",
       "      <td>0</td>\n",
       "      <td>...</td>\n",
       "      <td>0</td>\n",
       "      <td>0</td>\n",
       "      <td>0</td>\n",
       "      <td>0.00</td>\n",
       "      <td>0</td>\n",
       "      <td>0.00</td>\n",
       "      <td>0</td>\n",
       "      <td>0</td>\n",
       "      <td>0</td>\n",
       "      <td>0</td>\n",
       "    </tr>\n",
       "    <tr>\n",
       "      <th>10005</th>\n",
       "      <td>2</td>\n",
       "      <td>2</td>\n",
       "      <td>1.00</td>\n",
       "      <td>0</td>\n",
       "      <td>0.00</td>\n",
       "      <td>0</td>\n",
       "      <td>0</td>\n",
       "      <td>2</td>\n",
       "      <td>100</td>\n",
       "      <td>0</td>\n",
       "      <td>...</td>\n",
       "      <td>2</td>\n",
       "      <td>100</td>\n",
       "      <td>0</td>\n",
       "      <td>0.00</td>\n",
       "      <td>2</td>\n",
       "      <td>1.00</td>\n",
       "      <td>0</td>\n",
       "      <td>0</td>\n",
       "      <td>2</td>\n",
       "      <td>100</td>\n",
       "    </tr>\n",
       "  </tbody>\n",
       "</table>\n",
       "<p>5 rows × 45 columns</p>\n",
       "</div>"
      ],
      "text/plain": [
       "                   COUNT PARTICIPANTS  COUNT FEMALE  PERCENT FEMALE  \\\n",
       "JURISDICTION NAME                                                     \n",
       "10001                              44            22            0.50   \n",
       "10002                              35            19            0.54   \n",
       "10003                               1             1            1.00   \n",
       "10004                               0             0            0.00   \n",
       "10005                               2             2            1.00   \n",
       "\n",
       "                   COUNT MALE  PERCENT MALE  COUNT GENDER UNKNOWN  \\\n",
       "JURISDICTION NAME                                                   \n",
       "10001                      22          0.50                     0   \n",
       "10002                      16          0.46                     0   \n",
       "10003                       0          0.00                     0   \n",
       "10004                       0          0.00                     0   \n",
       "10005                       0          0.00                     0   \n",
       "\n",
       "                   PERCENT GENDER UNKNOWN  COUNT GENDER TOTAL  \\\n",
       "JURISDICTION NAME                                               \n",
       "10001                                   0                  44   \n",
       "10002                                   0                  35   \n",
       "10003                                   0                   1   \n",
       "10004                                   0                   0   \n",
       "10005                                   0                   2   \n",
       "\n",
       "                   PERCENT GENDER TOTAL  COUNT PACIFIC ISLANDER  \\\n",
       "JURISDICTION NAME                                                 \n",
       "10001                               100                       0   \n",
       "10002                               100                       0   \n",
       "10003                               100                       0   \n",
       "10004                                 0                       0   \n",
       "10005                               100                       0   \n",
       "\n",
       "                                ...                 \\\n",
       "JURISDICTION NAME               ...                  \n",
       "10001                           ...                  \n",
       "10002                           ...                  \n",
       "10003                           ...                  \n",
       "10004                           ...                  \n",
       "10005                           ...                  \n",
       "\n",
       "                   COUNT CITIZEN STATUS TOTAL  PERCENT CITIZEN STATUS TOTAL  \\\n",
       "JURISDICTION NAME                                                             \n",
       "10001                                      44                           100   \n",
       "10002                                      35                           100   \n",
       "10003                                       1                           100   \n",
       "10004                                       0                             0   \n",
       "10005                                       2                           100   \n",
       "\n",
       "                   COUNT RECEIVES PUBLIC ASSISTANCE  \\\n",
       "JURISDICTION NAME                                     \n",
       "10001                                            20   \n",
       "10002                                             2   \n",
       "10003                                             0   \n",
       "10004                                             0   \n",
       "10005                                             0   \n",
       "\n",
       "                   PERCENT RECEIVES PUBLIC ASSISTANCE  \\\n",
       "JURISDICTION NAME                                       \n",
       "10001                                            0.45   \n",
       "10002                                            0.06   \n",
       "10003                                            0.00   \n",
       "10004                                            0.00   \n",
       "10005                                            0.00   \n",
       "\n",
       "                   COUNT NRECEIVES PUBLIC ASSISTANCE  \\\n",
       "JURISDICTION NAME                                      \n",
       "10001                                             24   \n",
       "10002                                             33   \n",
       "10003                                              1   \n",
       "10004                                              0   \n",
       "10005                                              2   \n",
       "\n",
       "                   PERCENT NRECEIVES PUBLIC ASSISTANCE  \\\n",
       "JURISDICTION NAME                                        \n",
       "10001                                             0.55   \n",
       "10002                                             0.94   \n",
       "10003                                             1.00   \n",
       "10004                                             0.00   \n",
       "10005                                             1.00   \n",
       "\n",
       "                   COUNT PUBLIC ASSISTANCE UNKNOWN  \\\n",
       "JURISDICTION NAME                                    \n",
       "10001                                            0   \n",
       "10002                                            0   \n",
       "10003                                            0   \n",
       "10004                                            0   \n",
       "10005                                            0   \n",
       "\n",
       "                   PERCENT PUBLIC ASSISTANCE UNKNOWN  \\\n",
       "JURISDICTION NAME                                      \n",
       "10001                                              0   \n",
       "10002                                              0   \n",
       "10003                                              0   \n",
       "10004                                              0   \n",
       "10005                                              0   \n",
       "\n",
       "                   COUNT PUBLIC ASSISTANCE TOTAL  \\\n",
       "JURISDICTION NAME                                  \n",
       "10001                                         44   \n",
       "10002                                         35   \n",
       "10003                                          1   \n",
       "10004                                          0   \n",
       "10005                                          2   \n",
       "\n",
       "                   PERCENT PUBLIC ASSISTANCE TOTAL  \n",
       "JURISDICTION NAME                                   \n",
       "10001                                          100  \n",
       "10002                                          100  \n",
       "10003                                          100  \n",
       "10004                                            0  \n",
       "10005                                          100  \n",
       "\n",
       "[5 rows x 45 columns]"
      ]
     },
     "execution_count": 15,
     "metadata": {},
     "output_type": "execute_result"
    }
   ],
   "source": [
    "demo_df_head=demo_df_head.set_index(demo_df_head['JURISDICTION NAME'])\n",
    "demo_df_head=demo_df_head.drop('JURISDICTION NAME',axis=1) # remove the column jurisdiction name\n",
    "demo_df_head"
   ]
  },
  {
   "cell_type": "code",
   "execution_count": 16,
   "metadata": {
    "collapsed": false
   },
   "outputs": [
    {
     "data": {
      "text/html": [
       "<div>\n",
       "<table border=\"1\" class=\"dataframe\">\n",
       "  <thead>\n",
       "    <tr style=\"text-align: right;\">\n",
       "      <th></th>\n",
       "      <th>PERCENT FEMALE</th>\n",
       "      <th>COUNT FEMALE</th>\n",
       "    </tr>\n",
       "    <tr>\n",
       "      <th>JURISDICTION NAME</th>\n",
       "      <th></th>\n",
       "      <th></th>\n",
       "    </tr>\n",
       "  </thead>\n",
       "  <tbody>\n",
       "    <tr>\n",
       "      <th>10002</th>\n",
       "      <td>0.54</td>\n",
       "      <td>19</td>\n",
       "    </tr>\n",
       "    <tr>\n",
       "      <th>10003</th>\n",
       "      <td>1.00</td>\n",
       "      <td>1</td>\n",
       "    </tr>\n",
       "  </tbody>\n",
       "</table>\n",
       "</div>"
      ],
      "text/plain": [
       "                   PERCENT FEMALE  COUNT FEMALE\n",
       "JURISDICTION NAME                              \n",
       "10002                        0.54            19\n",
       "10003                        1.00             1"
      ]
     },
     "execution_count": 16,
     "metadata": {},
     "output_type": "execute_result"
    }
   ],
   "source": [
    "demo_df_head.loc[[10002,10003],['PERCENT FEMALE','COUNT FEMALE']]"
   ]
  },
  {
   "cell_type": "markdown",
   "metadata": {},
   "source": [
    "Now we can call rows and columns by their names using loc"
   ]
  },
  {
   "cell_type": "code",
   "execution_count": 58,
   "metadata": {
    "collapsed": false
   },
   "outputs": [
    {
     "data": {
      "text/html": [
       "<div>\n",
       "<table border=\"1\" class=\"dataframe\">\n",
       "  <thead>\n",
       "    <tr style=\"text-align: right;\">\n",
       "      <th></th>\n",
       "      <th>COUNT PARTICIPANTS</th>\n",
       "      <th>COUNT US CITIZEN</th>\n",
       "    </tr>\n",
       "    <tr>\n",
       "      <th>JURISDICTION NAME</th>\n",
       "      <th></th>\n",
       "      <th></th>\n",
       "    </tr>\n",
       "  </thead>\n",
       "  <tbody>\n",
       "    <tr>\n",
       "      <th>10001</th>\n",
       "      <td>44</td>\n",
       "      <td>42</td>\n",
       "    </tr>\n",
       "    <tr>\n",
       "      <th>10003</th>\n",
       "      <td>1</td>\n",
       "      <td>1</td>\n",
       "    </tr>\n",
       "  </tbody>\n",
       "</table>\n",
       "</div>"
      ],
      "text/plain": [
       "                   COUNT PARTICIPANTS  COUNT US CITIZEN\n",
       "JURISDICTION NAME                                      \n",
       "10001                              44                42\n",
       "10003                               1                 1"
      ]
     },
     "execution_count": 58,
     "metadata": {},
     "output_type": "execute_result"
    }
   ],
   "source": [
    "demo_df_head.loc[[10001,10003],['COUNT PARTICIPANTS','COUNT US CITIZEN']]"
   ]
  },
  {
   "cell_type": "markdown",
   "metadata": {},
   "source": [
    "But if we just wanted the first few rows or columns we could do something like"
   ]
  },
  {
   "cell_type": "code",
   "execution_count": 40,
   "metadata": {
    "collapsed": false
   },
   "outputs": [
    {
     "data": {
      "text/html": [
       "<div>\n",
       "<table border=\"1\" class=\"dataframe\">\n",
       "  <thead>\n",
       "    <tr style=\"text-align: right;\">\n",
       "      <th></th>\n",
       "      <th>COUNT PARTICIPANTS</th>\n",
       "      <th>COUNT FEMALE</th>\n",
       "      <th>PERCENT FEMALE</th>\n",
       "    </tr>\n",
       "    <tr>\n",
       "      <th>JURISDICTION NAME</th>\n",
       "      <th></th>\n",
       "      <th></th>\n",
       "      <th></th>\n",
       "    </tr>\n",
       "  </thead>\n",
       "  <tbody>\n",
       "    <tr>\n",
       "      <th>10002</th>\n",
       "      <td>35</td>\n",
       "      <td>19</td>\n",
       "      <td>0.54</td>\n",
       "    </tr>\n",
       "    <tr>\n",
       "      <th>10003</th>\n",
       "      <td>1</td>\n",
       "      <td>1</td>\n",
       "      <td>1.00</td>\n",
       "    </tr>\n",
       "  </tbody>\n",
       "</table>\n",
       "</div>"
      ],
      "text/plain": [
       "                   COUNT PARTICIPANTS  COUNT FEMALE  PERCENT FEMALE\n",
       "JURISDICTION NAME                                                  \n",
       "10002                              35            19            0.54\n",
       "10003                               1             1            1.00"
      ]
     },
     "execution_count": 40,
     "metadata": {},
     "output_type": "execute_result"
    }
   ],
   "source": [
    "demo_df_head.iloc[1:3,0:3]"
   ]
  },
  {
   "cell_type": "code",
   "execution_count": 60,
   "metadata": {
    "collapsed": false
   },
   "outputs": [
    {
     "data": {
      "text/html": [
       "<div>\n",
       "<table border=\"1\" class=\"dataframe\">\n",
       "  <thead>\n",
       "    <tr style=\"text-align: right;\">\n",
       "      <th></th>\n",
       "      <th>COUNT PARTICIPANTS</th>\n",
       "      <th>COUNT FEMALE</th>\n",
       "      <th>PERCENT FEMALE</th>\n",
       "    </tr>\n",
       "    <tr>\n",
       "      <th>JURISDICTION NAME</th>\n",
       "      <th></th>\n",
       "      <th></th>\n",
       "      <th></th>\n",
       "    </tr>\n",
       "  </thead>\n",
       "  <tbody>\n",
       "    <tr>\n",
       "      <th>10001</th>\n",
       "      <td>44</td>\n",
       "      <td>22</td>\n",
       "      <td>0.50</td>\n",
       "    </tr>\n",
       "    <tr>\n",
       "      <th>10002</th>\n",
       "      <td>35</td>\n",
       "      <td>19</td>\n",
       "      <td>0.54</td>\n",
       "    </tr>\n",
       "    <tr>\n",
       "      <th>10003</th>\n",
       "      <td>1</td>\n",
       "      <td>1</td>\n",
       "      <td>1.00</td>\n",
       "    </tr>\n",
       "    <tr>\n",
       "      <th>10004</th>\n",
       "      <td>0</td>\n",
       "      <td>0</td>\n",
       "      <td>0.00</td>\n",
       "    </tr>\n",
       "  </tbody>\n",
       "</table>\n",
       "</div>"
      ],
      "text/plain": [
       "                   COUNT PARTICIPANTS  COUNT FEMALE  PERCENT FEMALE\n",
       "JURISDICTION NAME                                                  \n",
       "10001                              44            22            0.50\n",
       "10002                              35            19            0.54\n",
       "10003                               1             1            1.00\n",
       "10004                               0             0            0.00"
      ]
     },
     "execution_count": 60,
     "metadata": {},
     "output_type": "execute_result"
    }
   ],
   "source": [
    "demo_df_head.iloc[0:4,0:3]"
   ]
  },
  {
   "cell_type": "markdown",
   "metadata": {},
   "source": [
    "# IIIa. Creating new columns"
   ]
  },
  {
   "cell_type": "markdown",
   "metadata": {},
   "source": [
    "Most analyses you will do are built on the idea of transforming your data (apply a function, combine two or more fields, etc.) and grouping it in some way (by subject, conditions, demographics) to identify structure. Some programming languages think about this in a map-reduce framework: You map (transform) your data in some way and then reduce (group and aggregate across) it.\n",
    "\n",
    "You can use loc to create new columns in your dataframe. To demonstrate this, I'm going to look at a small subset of our data"
   ]
  },
  {
   "cell_type": "code",
   "execution_count": 41,
   "metadata": {
    "collapsed": false
   },
   "outputs": [
    {
     "data": {
      "text/html": [
       "<div>\n",
       "<table border=\"1\" class=\"dataframe\">\n",
       "  <thead>\n",
       "    <tr style=\"text-align: right;\">\n",
       "      <th></th>\n",
       "      <th>PERCENT ASIAN NON HISPANIC</th>\n",
       "      <th>PERCENT WHITE NON HISPANIC</th>\n",
       "      <th>PERCENT BLACK NON HISPANIC</th>\n",
       "      <th>PERCENT HISPANIC LATINO</th>\n",
       "    </tr>\n",
       "    <tr>\n",
       "      <th>JURISDICTION NAME</th>\n",
       "      <th></th>\n",
       "      <th></th>\n",
       "      <th></th>\n",
       "      <th></th>\n",
       "    </tr>\n",
       "  </thead>\n",
       "  <tbody>\n",
       "    <tr>\n",
       "      <th>10001</th>\n",
       "      <td>0.07</td>\n",
       "      <td>0.02</td>\n",
       "      <td>0.48</td>\n",
       "      <td>0.36</td>\n",
       "    </tr>\n",
       "    <tr>\n",
       "      <th>10002</th>\n",
       "      <td>0.80</td>\n",
       "      <td>0.17</td>\n",
       "      <td>0.00</td>\n",
       "      <td>0.03</td>\n",
       "    </tr>\n",
       "    <tr>\n",
       "      <th>10003</th>\n",
       "      <td>1.00</td>\n",
       "      <td>0.00</td>\n",
       "      <td>0.00</td>\n",
       "      <td>0.00</td>\n",
       "    </tr>\n",
       "    <tr>\n",
       "      <th>10004</th>\n",
       "      <td>0.00</td>\n",
       "      <td>0.00</td>\n",
       "      <td>0.00</td>\n",
       "      <td>0.00</td>\n",
       "    </tr>\n",
       "    <tr>\n",
       "      <th>10005</th>\n",
       "      <td>0.50</td>\n",
       "      <td>0.00</td>\n",
       "      <td>0.50</td>\n",
       "      <td>0.00</td>\n",
       "    </tr>\n",
       "  </tbody>\n",
       "</table>\n",
       "</div>"
      ],
      "text/plain": [
       "                   PERCENT ASIAN NON HISPANIC  PERCENT WHITE NON HISPANIC  \\\n",
       "JURISDICTION NAME                                                           \n",
       "10001                                    0.07                        0.02   \n",
       "10002                                    0.80                        0.17   \n",
       "10003                                    1.00                        0.00   \n",
       "10004                                    0.00                        0.00   \n",
       "10005                                    0.50                        0.00   \n",
       "\n",
       "                   PERCENT BLACK NON HISPANIC  PERCENT HISPANIC LATINO  \n",
       "JURISDICTION NAME                                                       \n",
       "10001                                    0.48                     0.36  \n",
       "10002                                    0.00                     0.03  \n",
       "10003                                    0.00                     0.00  \n",
       "10004                                    0.00                     0.00  \n",
       "10005                                    0.50                     0.00  "
      ]
     },
     "execution_count": 41,
     "metadata": {},
     "output_type": "execute_result"
    }
   ],
   "source": [
    "race_df=demo_df_head.loc[:,['PERCENT ASIAN NON HISPANIC','PERCENT WHITE NON HISPANIC','PERCENT BLACK NON HISPANIC','PERCENT HISPANIC LATINO']]\n",
    "race_df"
   ]
  },
  {
   "cell_type": "markdown",
   "metadata": {},
   "source": [
    "Based on this data we can calculate how many people of other races (besides these) there are"
   ]
  },
  {
   "cell_type": "code",
   "execution_count": 46,
   "metadata": {
    "collapsed": false
   },
   "outputs": [
    {
     "name": "stdout",
     "output_type": "stream",
     "text": [
      "JURISDICTION NAME\n",
      "10001    0.93\n",
      "10002    1.00\n",
      "10003    1.00\n",
      "10004    0.00\n",
      "10005    1.00\n",
      "dtype: float64\n"
     ]
    }
   ],
   "source": [
    "awbh_sum=race_df.loc[:,'PERCENT ASIAN NON HISPANIC']+race_df.loc[:,'PERCENT WHITE NON HISPANIC']+\\\n",
    "race_df.loc[:,'PERCENT BLACK NON HISPANIC']+race_df.loc[:,'PERCENT HISPANIC LATINO']\n",
    "print awbh_sum"
   ]
  },
  {
   "cell_type": "code",
   "execution_count": 48,
   "metadata": {
    "collapsed": false
   },
   "outputs": [
    {
     "data": {
      "text/html": [
       "<div>\n",
       "<table border=\"1\" class=\"dataframe\">\n",
       "  <thead>\n",
       "    <tr style=\"text-align: right;\">\n",
       "      <th></th>\n",
       "      <th>PERCENT ASIAN NON HISPANIC</th>\n",
       "      <th>PERCENT WHITE NON HISPANIC</th>\n",
       "      <th>PERCENT BLACK NON HISPANIC</th>\n",
       "      <th>PERCENT HISPANIC LATINO</th>\n",
       "      <th>awbh</th>\n",
       "    </tr>\n",
       "    <tr>\n",
       "      <th>JURISDICTION NAME</th>\n",
       "      <th></th>\n",
       "      <th></th>\n",
       "      <th></th>\n",
       "      <th></th>\n",
       "      <th></th>\n",
       "    </tr>\n",
       "  </thead>\n",
       "  <tbody>\n",
       "    <tr>\n",
       "      <th>10001</th>\n",
       "      <td>0.07</td>\n",
       "      <td>0.02</td>\n",
       "      <td>0.48</td>\n",
       "      <td>0.36</td>\n",
       "      <td>0.93</td>\n",
       "    </tr>\n",
       "    <tr>\n",
       "      <th>10002</th>\n",
       "      <td>0.80</td>\n",
       "      <td>0.17</td>\n",
       "      <td>0.00</td>\n",
       "      <td>0.03</td>\n",
       "      <td>1.00</td>\n",
       "    </tr>\n",
       "    <tr>\n",
       "      <th>10003</th>\n",
       "      <td>1.00</td>\n",
       "      <td>0.00</td>\n",
       "      <td>0.00</td>\n",
       "      <td>0.00</td>\n",
       "      <td>1.00</td>\n",
       "    </tr>\n",
       "    <tr>\n",
       "      <th>10004</th>\n",
       "      <td>0.00</td>\n",
       "      <td>0.00</td>\n",
       "      <td>0.00</td>\n",
       "      <td>0.00</td>\n",
       "      <td>0.00</td>\n",
       "    </tr>\n",
       "    <tr>\n",
       "      <th>10005</th>\n",
       "      <td>0.50</td>\n",
       "      <td>0.00</td>\n",
       "      <td>0.50</td>\n",
       "      <td>0.00</td>\n",
       "      <td>1.00</td>\n",
       "    </tr>\n",
       "  </tbody>\n",
       "</table>\n",
       "</div>"
      ],
      "text/plain": [
       "                   PERCENT ASIAN NON HISPANIC  PERCENT WHITE NON HISPANIC  \\\n",
       "JURISDICTION NAME                                                           \n",
       "10001                                    0.07                        0.02   \n",
       "10002                                    0.80                        0.17   \n",
       "10003                                    1.00                        0.00   \n",
       "10004                                    0.00                        0.00   \n",
       "10005                                    0.50                        0.00   \n",
       "\n",
       "                   PERCENT BLACK NON HISPANIC  PERCENT HISPANIC LATINO  awbh  \n",
       "JURISDICTION NAME                                                             \n",
       "10001                                    0.48                     0.36  0.93  \n",
       "10002                                    0.00                     0.03  1.00  \n",
       "10003                                    0.00                     0.00  1.00  \n",
       "10004                                    0.00                     0.00  0.00  \n",
       "10005                                    0.50                     0.00  1.00  "
      ]
     },
     "execution_count": 48,
     "metadata": {},
     "output_type": "execute_result"
    }
   ],
   "source": [
    "race_df.loc[:,'awbh']=awbh_sum\n",
    "race_df"
   ]
  },
  {
   "cell_type": "code",
   "execution_count": 68,
   "metadata": {
    "collapsed": false
   },
   "outputs": [
    {
     "data": {
      "text/plain": [
       "JURISDICTION NAME\n",
       "10001    0.93\n",
       "10002    1.00\n",
       "10003    1.00\n",
       "10004    0.00\n",
       "10005    1.00\n",
       "dtype: float64"
      ]
     },
     "execution_count": 68,
     "metadata": {},
     "output_type": "execute_result"
    }
   ],
   "source": [
    "awbh_sum=race_df.loc[:,'PERCENT ASIAN NON HISPANIC']+race_df.loc[:,'PERCENT WHITE NON HISPANIC']+\\\n",
    "race_df.loc[:,'PERCENT BLACK NON HISPANIC']+race_df.loc[:,'PERCENT HISPANIC LATINO']\n",
    "awbh_sum"
   ]
  },
  {
   "cell_type": "code",
   "execution_count": 71,
   "metadata": {
    "collapsed": false
   },
   "outputs": [
    {
     "data": {
      "text/html": [
       "<div>\n",
       "<table border=\"1\" class=\"dataframe\">\n",
       "  <thead>\n",
       "    <tr style=\"text-align: right;\">\n",
       "      <th></th>\n",
       "      <th>PERCENT ASIAN NON HISPANIC</th>\n",
       "      <th>PERCENT WHITE NON HISPANIC</th>\n",
       "      <th>PERCENT BLACK NON HISPANIC</th>\n",
       "      <th>PERCENT HISPANIC LATINO</th>\n",
       "      <th>AWBH</th>\n",
       "    </tr>\n",
       "    <tr>\n",
       "      <th>JURISDICTION NAME</th>\n",
       "      <th></th>\n",
       "      <th></th>\n",
       "      <th></th>\n",
       "      <th></th>\n",
       "      <th></th>\n",
       "    </tr>\n",
       "  </thead>\n",
       "  <tbody>\n",
       "    <tr>\n",
       "      <th>10001</th>\n",
       "      <td>0.07</td>\n",
       "      <td>0.02</td>\n",
       "      <td>0.48</td>\n",
       "      <td>0.36</td>\n",
       "      <td>0.93</td>\n",
       "    </tr>\n",
       "    <tr>\n",
       "      <th>10002</th>\n",
       "      <td>0.80</td>\n",
       "      <td>0.17</td>\n",
       "      <td>0.00</td>\n",
       "      <td>0.03</td>\n",
       "      <td>1.00</td>\n",
       "    </tr>\n",
       "    <tr>\n",
       "      <th>10003</th>\n",
       "      <td>1.00</td>\n",
       "      <td>0.00</td>\n",
       "      <td>0.00</td>\n",
       "      <td>0.00</td>\n",
       "      <td>1.00</td>\n",
       "    </tr>\n",
       "    <tr>\n",
       "      <th>10004</th>\n",
       "      <td>0.00</td>\n",
       "      <td>0.00</td>\n",
       "      <td>0.00</td>\n",
       "      <td>0.00</td>\n",
       "      <td>0.00</td>\n",
       "    </tr>\n",
       "    <tr>\n",
       "      <th>10005</th>\n",
       "      <td>0.50</td>\n",
       "      <td>0.00</td>\n",
       "      <td>0.50</td>\n",
       "      <td>0.00</td>\n",
       "      <td>1.00</td>\n",
       "    </tr>\n",
       "  </tbody>\n",
       "</table>\n",
       "</div>"
      ],
      "text/plain": [
       "                   PERCENT ASIAN NON HISPANIC  PERCENT WHITE NON HISPANIC  \\\n",
       "JURISDICTION NAME                                                           \n",
       "10001                                    0.07                        0.02   \n",
       "10002                                    0.80                        0.17   \n",
       "10003                                    1.00                        0.00   \n",
       "10004                                    0.00                        0.00   \n",
       "10005                                    0.50                        0.00   \n",
       "\n",
       "                   PERCENT BLACK NON HISPANIC  PERCENT HISPANIC LATINO  AWBH  \n",
       "JURISDICTION NAME                                                             \n",
       "10001                                    0.48                     0.36  0.93  \n",
       "10002                                    0.00                     0.03  1.00  \n",
       "10003                                    0.00                     0.00  1.00  \n",
       "10004                                    0.00                     0.00  0.00  \n",
       "10005                                    0.50                     0.00  1.00  "
      ]
     },
     "execution_count": 71,
     "metadata": {},
     "output_type": "execute_result"
    }
   ],
   "source": [
    "race_df.loc[:,'AWBH']=awbh_sum\n",
    "race_df"
   ]
  },
  {
   "cell_type": "markdown",
   "metadata": {},
   "source": [
    "You can also use loc to create new rows, but you usually won't create new rows in a dataframe. By convention, columns are features and rows are observations so adding new rows is only going to happen when you get new data. If you reading data from a csv, then that usually has all the data collected."
   ]
  },
  {
   "cell_type": "markdown",
   "metadata": {},
   "source": [
    "## Problem"
   ]
  },
  {
   "cell_type": "markdown",
   "metadata": {},
   "source": [
    "Here's a problem to work on. If you go back to our original dataframe, you can see that the field COUNT PARTICIPANTS lists the number of people polled in each district. But sometimes this number is ridicuously small (sometimes even 0). Create a new column called good_samp that contains True if there are more than 20 people and False otherwise"
   ]
  },
  {
   "cell_type": "code",
   "execution_count": 56,
   "metadata": {
    "collapsed": false
   },
   "outputs": [
    {
     "data": {
      "text/plain": [
       "JURISDICTION NAME\n",
       "10001    False\n",
       "10002    False\n",
       "10003    False\n",
       "10004     True\n",
       "10005    False\n",
       "Name: COUNT PARTICIPANTS, dtype: bool"
      ]
     },
     "execution_count": 56,
     "metadata": {},
     "output_type": "execute_result"
    }
   ],
   "source": [
    "# your code here\n",
    "demo_df_head.loc[:,'COUNT PARTICIPANTS']==0"
   ]
  },
  {
   "cell_type": "code",
   "execution_count": 20,
   "metadata": {
    "collapsed": false
   },
   "outputs": [
    {
     "data": {
      "text/html": [
       "<div>\n",
       "<table border=\"1\" class=\"dataframe\">\n",
       "  <thead>\n",
       "    <tr style=\"text-align: right;\">\n",
       "      <th></th>\n",
       "      <th>COUNT PARTICIPANTS</th>\n",
       "      <th>COUNT FEMALE</th>\n",
       "      <th>PERCENT FEMALE</th>\n",
       "      <th>COUNT MALE</th>\n",
       "      <th>PERCENT MALE</th>\n",
       "      <th>COUNT GENDER UNKNOWN</th>\n",
       "      <th>PERCENT GENDER UNKNOWN</th>\n",
       "      <th>COUNT GENDER TOTAL</th>\n",
       "      <th>PERCENT GENDER TOTAL</th>\n",
       "      <th>COUNT PACIFIC ISLANDER</th>\n",
       "      <th>...</th>\n",
       "      <th>PERCENT CITIZEN STATUS TOTAL</th>\n",
       "      <th>COUNT RECEIVES PUBLIC ASSISTANCE</th>\n",
       "      <th>PERCENT RECEIVES PUBLIC ASSISTANCE</th>\n",
       "      <th>COUNT NRECEIVES PUBLIC ASSISTANCE</th>\n",
       "      <th>PERCENT NRECEIVES PUBLIC ASSISTANCE</th>\n",
       "      <th>COUNT PUBLIC ASSISTANCE UNKNOWN</th>\n",
       "      <th>PERCENT PUBLIC ASSISTANCE UNKNOWN</th>\n",
       "      <th>COUNT PUBLIC ASSISTANCE TOTAL</th>\n",
       "      <th>PERCENT PUBLIC ASSISTANCE TOTAL</th>\n",
       "      <th>good_samp</th>\n",
       "    </tr>\n",
       "    <tr>\n",
       "      <th>JURISDICTION NAME</th>\n",
       "      <th></th>\n",
       "      <th></th>\n",
       "      <th></th>\n",
       "      <th></th>\n",
       "      <th></th>\n",
       "      <th></th>\n",
       "      <th></th>\n",
       "      <th></th>\n",
       "      <th></th>\n",
       "      <th></th>\n",
       "      <th></th>\n",
       "      <th></th>\n",
       "      <th></th>\n",
       "      <th></th>\n",
       "      <th></th>\n",
       "      <th></th>\n",
       "      <th></th>\n",
       "      <th></th>\n",
       "      <th></th>\n",
       "      <th></th>\n",
       "      <th></th>\n",
       "    </tr>\n",
       "  </thead>\n",
       "  <tbody>\n",
       "    <tr>\n",
       "      <th>10001</th>\n",
       "      <td>44</td>\n",
       "      <td>22</td>\n",
       "      <td>0.50</td>\n",
       "      <td>22</td>\n",
       "      <td>0.50</td>\n",
       "      <td>0</td>\n",
       "      <td>0</td>\n",
       "      <td>44</td>\n",
       "      <td>100</td>\n",
       "      <td>0</td>\n",
       "      <td>...</td>\n",
       "      <td>100</td>\n",
       "      <td>20</td>\n",
       "      <td>0.45</td>\n",
       "      <td>24</td>\n",
       "      <td>0.55</td>\n",
       "      <td>0</td>\n",
       "      <td>0</td>\n",
       "      <td>44</td>\n",
       "      <td>100</td>\n",
       "      <td>True</td>\n",
       "    </tr>\n",
       "    <tr>\n",
       "      <th>10002</th>\n",
       "      <td>35</td>\n",
       "      <td>19</td>\n",
       "      <td>0.54</td>\n",
       "      <td>16</td>\n",
       "      <td>0.46</td>\n",
       "      <td>0</td>\n",
       "      <td>0</td>\n",
       "      <td>35</td>\n",
       "      <td>100</td>\n",
       "      <td>0</td>\n",
       "      <td>...</td>\n",
       "      <td>100</td>\n",
       "      <td>2</td>\n",
       "      <td>0.06</td>\n",
       "      <td>33</td>\n",
       "      <td>0.94</td>\n",
       "      <td>0</td>\n",
       "      <td>0</td>\n",
       "      <td>35</td>\n",
       "      <td>100</td>\n",
       "      <td>True</td>\n",
       "    </tr>\n",
       "    <tr>\n",
       "      <th>10003</th>\n",
       "      <td>1</td>\n",
       "      <td>1</td>\n",
       "      <td>1.00</td>\n",
       "      <td>0</td>\n",
       "      <td>0.00</td>\n",
       "      <td>0</td>\n",
       "      <td>0</td>\n",
       "      <td>1</td>\n",
       "      <td>100</td>\n",
       "      <td>0</td>\n",
       "      <td>...</td>\n",
       "      <td>100</td>\n",
       "      <td>0</td>\n",
       "      <td>0.00</td>\n",
       "      <td>1</td>\n",
       "      <td>1.00</td>\n",
       "      <td>0</td>\n",
       "      <td>0</td>\n",
       "      <td>1</td>\n",
       "      <td>100</td>\n",
       "      <td>False</td>\n",
       "    </tr>\n",
       "    <tr>\n",
       "      <th>10004</th>\n",
       "      <td>0</td>\n",
       "      <td>0</td>\n",
       "      <td>0.00</td>\n",
       "      <td>0</td>\n",
       "      <td>0.00</td>\n",
       "      <td>0</td>\n",
       "      <td>0</td>\n",
       "      <td>0</td>\n",
       "      <td>0</td>\n",
       "      <td>0</td>\n",
       "      <td>...</td>\n",
       "      <td>0</td>\n",
       "      <td>0</td>\n",
       "      <td>0.00</td>\n",
       "      <td>0</td>\n",
       "      <td>0.00</td>\n",
       "      <td>0</td>\n",
       "      <td>0</td>\n",
       "      <td>0</td>\n",
       "      <td>0</td>\n",
       "      <td>False</td>\n",
       "    </tr>\n",
       "    <tr>\n",
       "      <th>10005</th>\n",
       "      <td>2</td>\n",
       "      <td>2</td>\n",
       "      <td>1.00</td>\n",
       "      <td>0</td>\n",
       "      <td>0.00</td>\n",
       "      <td>0</td>\n",
       "      <td>0</td>\n",
       "      <td>2</td>\n",
       "      <td>100</td>\n",
       "      <td>0</td>\n",
       "      <td>...</td>\n",
       "      <td>100</td>\n",
       "      <td>0</td>\n",
       "      <td>0.00</td>\n",
       "      <td>2</td>\n",
       "      <td>1.00</td>\n",
       "      <td>0</td>\n",
       "      <td>0</td>\n",
       "      <td>2</td>\n",
       "      <td>100</td>\n",
       "      <td>False</td>\n",
       "    </tr>\n",
       "  </tbody>\n",
       "</table>\n",
       "<p>5 rows × 46 columns</p>\n",
       "</div>"
      ],
      "text/plain": [
       "                   COUNT PARTICIPANTS  COUNT FEMALE  PERCENT FEMALE  \\\n",
       "JURISDICTION NAME                                                     \n",
       "10001                              44            22            0.50   \n",
       "10002                              35            19            0.54   \n",
       "10003                               1             1            1.00   \n",
       "10004                               0             0            0.00   \n",
       "10005                               2             2            1.00   \n",
       "\n",
       "                   COUNT MALE  PERCENT MALE  COUNT GENDER UNKNOWN  \\\n",
       "JURISDICTION NAME                                                   \n",
       "10001                      22          0.50                     0   \n",
       "10002                      16          0.46                     0   \n",
       "10003                       0          0.00                     0   \n",
       "10004                       0          0.00                     0   \n",
       "10005                       0          0.00                     0   \n",
       "\n",
       "                   PERCENT GENDER UNKNOWN  COUNT GENDER TOTAL  \\\n",
       "JURISDICTION NAME                                               \n",
       "10001                                   0                  44   \n",
       "10002                                   0                  35   \n",
       "10003                                   0                   1   \n",
       "10004                                   0                   0   \n",
       "10005                                   0                   2   \n",
       "\n",
       "                   PERCENT GENDER TOTAL  COUNT PACIFIC ISLANDER    ...      \\\n",
       "JURISDICTION NAME                                                  ...       \n",
       "10001                               100                       0    ...       \n",
       "10002                               100                       0    ...       \n",
       "10003                               100                       0    ...       \n",
       "10004                                 0                       0    ...       \n",
       "10005                               100                       0    ...       \n",
       "\n",
       "                   PERCENT CITIZEN STATUS TOTAL  \\\n",
       "JURISDICTION NAME                                 \n",
       "10001                                       100   \n",
       "10002                                       100   \n",
       "10003                                       100   \n",
       "10004                                         0   \n",
       "10005                                       100   \n",
       "\n",
       "                   COUNT RECEIVES PUBLIC ASSISTANCE  \\\n",
       "JURISDICTION NAME                                     \n",
       "10001                                            20   \n",
       "10002                                             2   \n",
       "10003                                             0   \n",
       "10004                                             0   \n",
       "10005                                             0   \n",
       "\n",
       "                   PERCENT RECEIVES PUBLIC ASSISTANCE  \\\n",
       "JURISDICTION NAME                                       \n",
       "10001                                            0.45   \n",
       "10002                                            0.06   \n",
       "10003                                            0.00   \n",
       "10004                                            0.00   \n",
       "10005                                            0.00   \n",
       "\n",
       "                   COUNT NRECEIVES PUBLIC ASSISTANCE  \\\n",
       "JURISDICTION NAME                                      \n",
       "10001                                             24   \n",
       "10002                                             33   \n",
       "10003                                              1   \n",
       "10004                                              0   \n",
       "10005                                              2   \n",
       "\n",
       "                   PERCENT NRECEIVES PUBLIC ASSISTANCE  \\\n",
       "JURISDICTION NAME                                        \n",
       "10001                                             0.55   \n",
       "10002                                             0.94   \n",
       "10003                                             1.00   \n",
       "10004                                             0.00   \n",
       "10005                                             1.00   \n",
       "\n",
       "                   COUNT PUBLIC ASSISTANCE UNKNOWN  \\\n",
       "JURISDICTION NAME                                    \n",
       "10001                                            0   \n",
       "10002                                            0   \n",
       "10003                                            0   \n",
       "10004                                            0   \n",
       "10005                                            0   \n",
       "\n",
       "                   PERCENT PUBLIC ASSISTANCE UNKNOWN  \\\n",
       "JURISDICTION NAME                                      \n",
       "10001                                              0   \n",
       "10002                                              0   \n",
       "10003                                              0   \n",
       "10004                                              0   \n",
       "10005                                              0   \n",
       "\n",
       "                   COUNT PUBLIC ASSISTANCE TOTAL  \\\n",
       "JURISDICTION NAME                                  \n",
       "10001                                         44   \n",
       "10002                                         35   \n",
       "10003                                          1   \n",
       "10004                                          0   \n",
       "10005                                          2   \n",
       "\n",
       "                   PERCENT PUBLIC ASSISTANCE TOTAL  good_samp  \n",
       "JURISDICTION NAME                                              \n",
       "10001                                          100       True  \n",
       "10002                                          100       True  \n",
       "10003                                          100      False  \n",
       "10004                                            0      False  \n",
       "10005                                          100      False  \n",
       "\n",
       "[5 rows x 46 columns]"
      ]
     },
     "execution_count": 20,
     "metadata": {},
     "output_type": "execute_result"
    }
   ],
   "source": [
    "demo_df_head.loc[:,'good_samp']=demo_df_head.loc[:,'COUNT PARTICIPANTS']>20\n",
    "demo_df_head"
   ]
  },
  {
   "cell_type": "markdown",
   "metadata": {},
   "source": [
    "# IV. apply"
   ]
  },
  {
   "cell_type": "markdown",
   "metadata": {},
   "source": [
    "Apart from simple arithmetic and logical operators, it's not that easy to manipulate columns and rows. The apply function can make this easier. If you give apply a function, it will apply that function to each row/column."
   ]
  },
  {
   "cell_type": "code",
   "execution_count": 33,
   "metadata": {
    "collapsed": false
   },
   "outputs": [
    {
     "data": {
      "text/html": [
       "<div>\n",
       "<table border=\"1\" class=\"dataframe\">\n",
       "  <thead>\n",
       "    <tr style=\"text-align: right;\">\n",
       "      <th></th>\n",
       "      <th>PERCENT ASIAN NON HISPANIC</th>\n",
       "      <th>PERCENT WHITE NON HISPANIC</th>\n",
       "      <th>PERCENT BLACK NON HISPANIC</th>\n",
       "      <th>PERCENT HISPANIC LATINO</th>\n",
       "    </tr>\n",
       "    <tr>\n",
       "      <th>JURISDICTION NAME</th>\n",
       "      <th></th>\n",
       "      <th></th>\n",
       "      <th></th>\n",
       "      <th></th>\n",
       "    </tr>\n",
       "  </thead>\n",
       "  <tbody>\n",
       "    <tr>\n",
       "      <th>10001</th>\n",
       "      <td>0.07</td>\n",
       "      <td>0.02</td>\n",
       "      <td>0.48</td>\n",
       "      <td>0.36</td>\n",
       "    </tr>\n",
       "    <tr>\n",
       "      <th>10002</th>\n",
       "      <td>0.80</td>\n",
       "      <td>0.17</td>\n",
       "      <td>0.00</td>\n",
       "      <td>0.03</td>\n",
       "    </tr>\n",
       "    <tr>\n",
       "      <th>10003</th>\n",
       "      <td>1.00</td>\n",
       "      <td>0.00</td>\n",
       "      <td>0.00</td>\n",
       "      <td>0.00</td>\n",
       "    </tr>\n",
       "    <tr>\n",
       "      <th>10004</th>\n",
       "      <td>0.00</td>\n",
       "      <td>0.00</td>\n",
       "      <td>0.00</td>\n",
       "      <td>0.00</td>\n",
       "    </tr>\n",
       "    <tr>\n",
       "      <th>10005</th>\n",
       "      <td>0.50</td>\n",
       "      <td>0.00</td>\n",
       "      <td>0.50</td>\n",
       "      <td>0.00</td>\n",
       "    </tr>\n",
       "  </tbody>\n",
       "</table>\n",
       "</div>"
      ],
      "text/plain": [
       "                   PERCENT ASIAN NON HISPANIC  PERCENT WHITE NON HISPANIC  \\\n",
       "JURISDICTION NAME                                                           \n",
       "10001                                    0.07                        0.02   \n",
       "10002                                    0.80                        0.17   \n",
       "10003                                    1.00                        0.00   \n",
       "10004                                    0.00                        0.00   \n",
       "10005                                    0.50                        0.00   \n",
       "\n",
       "                   PERCENT BLACK NON HISPANIC  PERCENT HISPANIC LATINO  \n",
       "JURISDICTION NAME                                                       \n",
       "10001                                    0.48                     0.36  \n",
       "10002                                    0.00                     0.03  \n",
       "10003                                    0.00                     0.00  \n",
       "10004                                    0.00                     0.00  \n",
       "10005                                    0.50                     0.00  "
      ]
     },
     "execution_count": 33,
     "metadata": {},
     "output_type": "execute_result"
    }
   ],
   "source": [
    "race_df=demo_df_head.loc[:,['PERCENT ASIAN NON HISPANIC','PERCENT WHITE NON HISPANIC','PERCENT BLACK NON HISPANIC','PERCENT HISPANIC LATINO']]\n",
    "race_df"
   ]
  },
  {
   "cell_type": "markdown",
   "metadata": {},
   "source": [
    "If I wanted to find the total proportion of people from each racial category I could give it the sum function"
   ]
  },
  {
   "cell_type": "code",
   "execution_count": 23,
   "metadata": {
    "collapsed": false
   },
   "outputs": [
    {
     "data": {
      "text/plain": [
       "PERCENT ASIAN NON HISPANIC    2.37\n",
       "PERCENT WHITE NON HISPANIC    0.19\n",
       "PERCENT BLACK NON HISPANIC    0.98\n",
       "PERCENT HISPANIC LATINO       0.39\n",
       "dtype: float64"
      ]
     },
     "execution_count": 23,
     "metadata": {},
     "output_type": "execute_result"
    }
   ],
   "source": [
    "race_df.apply(sum, axis=0) # here, axis=0 implicitly by default"
   ]
  },
  {
   "cell_type": "markdown",
   "metadata": {},
   "source": [
    "Or I could calculate my total proportion measure from before if I run sum on each row"
   ]
  },
  {
   "cell_type": "code",
   "execution_count": 84,
   "metadata": {
    "collapsed": false
   },
   "outputs": [
    {
     "data": {
      "text/plain": [
       "JURISDICTION NAME\n",
       "10001    0.93\n",
       "10002    1.00\n",
       "10003    1.00\n",
       "10004    0.00\n",
       "10005    1.00\n",
       "dtype: float64"
      ]
     },
     "execution_count": 84,
     "metadata": {},
     "output_type": "execute_result"
    }
   ],
   "source": [
    "race_df.apply(sum,axis=1) # axis=1 means that I run this function on the rows. "
   ]
  },
  {
   "cell_type": "markdown",
   "metadata": {},
   "source": [
    "Behind the scenes, apply turns each row/column into a list and then runs the function on the entire list. For example:"
   ]
  },
  {
   "cell_type": "code",
   "execution_count": 88,
   "metadata": {
    "collapsed": false
   },
   "outputs": [
    {
     "data": {
      "text/plain": [
       "JURISDICTION NAME\n",
       "10001    0.43\n",
       "10002    0.83\n",
       "10003    1.00\n",
       "10004    0.00\n",
       "10005    0.50\n",
       "dtype: float64"
      ]
     },
     "execution_count": 88,
     "metadata": {},
     "output_type": "execute_result"
    }
   ],
   "source": [
    "def get_asian_hispanic(x):\n",
    "    return x[0]+x[3]\n",
    "     \n",
    "race_df.apply(get_asian_hispanic,axis=1)\n",
    "\n"
   ]
  },
  {
   "cell_type": "code",
   "execution_count": null,
   "metadata": {
    "collapsed": true
   },
   "outputs": [],
   "source": [
    "# for x in race_df.columns():\n",
    "#     y=get_asian_hispanic(x)\n",
    "#     return y"
   ]
  },
  {
   "cell_type": "markdown",
   "metadata": {},
   "source": [
    "So really, you can think of apply as running a big for loop along either all the columns or all the rows"
   ]
  },
  {
   "cell_type": "markdown",
   "metadata": {},
   "source": [
    "## Problem\n",
    "\n",
    "For each district, find the sum of the largest two demographics. Hint: use [sorted](https://wiki.python.org/moin/HowTo/Sorting) function"
   ]
  },
  {
   "cell_type": "code",
   "execution_count": 35,
   "metadata": {
    "collapsed": false
   },
   "outputs": [
    {
     "data": {
      "text/html": [
       "<div>\n",
       "<table border=\"1\" class=\"dataframe\">\n",
       "  <thead>\n",
       "    <tr style=\"text-align: right;\">\n",
       "      <th></th>\n",
       "      <th>PERCENT ASIAN NON HISPANIC</th>\n",
       "      <th>PERCENT WHITE NON HISPANIC</th>\n",
       "      <th>PERCENT BLACK NON HISPANIC</th>\n",
       "      <th>PERCENT HISPANIC LATINO</th>\n",
       "      <th>big2</th>\n",
       "    </tr>\n",
       "    <tr>\n",
       "      <th>JURISDICTION NAME</th>\n",
       "      <th></th>\n",
       "      <th></th>\n",
       "      <th></th>\n",
       "      <th></th>\n",
       "      <th></th>\n",
       "    </tr>\n",
       "  </thead>\n",
       "  <tbody>\n",
       "    <tr>\n",
       "      <th>10001</th>\n",
       "      <td>0.07</td>\n",
       "      <td>0.02</td>\n",
       "      <td>0.48</td>\n",
       "      <td>0.36</td>\n",
       "      <td>0.84</td>\n",
       "    </tr>\n",
       "    <tr>\n",
       "      <th>10002</th>\n",
       "      <td>0.80</td>\n",
       "      <td>0.17</td>\n",
       "      <td>0.00</td>\n",
       "      <td>0.03</td>\n",
       "      <td>0.97</td>\n",
       "    </tr>\n",
       "    <tr>\n",
       "      <th>10003</th>\n",
       "      <td>1.00</td>\n",
       "      <td>0.00</td>\n",
       "      <td>0.00</td>\n",
       "      <td>0.00</td>\n",
       "      <td>1.00</td>\n",
       "    </tr>\n",
       "    <tr>\n",
       "      <th>10004</th>\n",
       "      <td>0.00</td>\n",
       "      <td>0.00</td>\n",
       "      <td>0.00</td>\n",
       "      <td>0.00</td>\n",
       "      <td>0.00</td>\n",
       "    </tr>\n",
       "    <tr>\n",
       "      <th>10005</th>\n",
       "      <td>0.50</td>\n",
       "      <td>0.00</td>\n",
       "      <td>0.50</td>\n",
       "      <td>0.00</td>\n",
       "      <td>1.00</td>\n",
       "    </tr>\n",
       "  </tbody>\n",
       "</table>\n",
       "</div>"
      ],
      "text/plain": [
       "                   PERCENT ASIAN NON HISPANIC  PERCENT WHITE NON HISPANIC  \\\n",
       "JURISDICTION NAME                                                           \n",
       "10001                                    0.07                        0.02   \n",
       "10002                                    0.80                        0.17   \n",
       "10003                                    1.00                        0.00   \n",
       "10004                                    0.00                        0.00   \n",
       "10005                                    0.50                        0.00   \n",
       "\n",
       "                   PERCENT BLACK NON HISPANIC  PERCENT HISPANIC LATINO  big2  \n",
       "JURISDICTION NAME                                                             \n",
       "10001                                    0.48                     0.36  0.84  \n",
       "10002                                    0.00                     0.03  0.97  \n",
       "10003                                    0.00                     0.00  1.00  \n",
       "10004                                    0.00                     0.00  0.00  \n",
       "10005                                    0.50                     0.00  1.00  "
      ]
     },
     "execution_count": 35,
     "metadata": {},
     "output_type": "execute_result"
    }
   ],
   "source": [
    "# your code here\n",
    "def get_sorted_big(x):\n",
    "    return sum(sorted(x)[-2:])\n",
    "\n",
    "race_df2=race_df\n",
    "race_df2.loc[:,'big2']=race_df.apply(get_sorted_big,axis=1)\n",
    "race_df2"
   ]
  },
  {
   "cell_type": "code",
   "execution_count": 32,
   "metadata": {
    "collapsed": false
   },
   "outputs": [
    {
     "data": {
      "text/html": [
       "<div>\n",
       "<table border=\"1\" class=\"dataframe\">\n",
       "  <thead>\n",
       "    <tr style=\"text-align: right;\">\n",
       "      <th></th>\n",
       "      <th>PERCENT ASIAN NON HISPANIC</th>\n",
       "      <th>PERCENT WHITE NON HISPANIC</th>\n",
       "      <th>PERCENT BLACK NON HISPANIC</th>\n",
       "      <th>PERCENT HISPANIC LATINO</th>\n",
       "      <th>big2</th>\n",
       "    </tr>\n",
       "    <tr>\n",
       "      <th>JURISDICTION NAME</th>\n",
       "      <th></th>\n",
       "      <th></th>\n",
       "      <th></th>\n",
       "      <th></th>\n",
       "      <th></th>\n",
       "    </tr>\n",
       "  </thead>\n",
       "  <tbody>\n",
       "    <tr>\n",
       "      <th>10001</th>\n",
       "      <td>0.07</td>\n",
       "      <td>0.02</td>\n",
       "      <td>0.48</td>\n",
       "      <td>0.36</td>\n",
       "      <td>1.80</td>\n",
       "    </tr>\n",
       "    <tr>\n",
       "      <th>10002</th>\n",
       "      <td>0.80</td>\n",
       "      <td>0.17</td>\n",
       "      <td>0.00</td>\n",
       "      <td>0.03</td>\n",
       "      <td>2.57</td>\n",
       "    </tr>\n",
       "    <tr>\n",
       "      <th>10003</th>\n",
       "      <td>1.00</td>\n",
       "      <td>0.00</td>\n",
       "      <td>0.00</td>\n",
       "      <td>0.00</td>\n",
       "      <td>3.00</td>\n",
       "    </tr>\n",
       "    <tr>\n",
       "      <th>10004</th>\n",
       "      <td>0.00</td>\n",
       "      <td>0.00</td>\n",
       "      <td>0.00</td>\n",
       "      <td>0.00</td>\n",
       "      <td>0.00</td>\n",
       "    </tr>\n",
       "    <tr>\n",
       "      <th>10005</th>\n",
       "      <td>0.50</td>\n",
       "      <td>0.00</td>\n",
       "      <td>0.50</td>\n",
       "      <td>0.00</td>\n",
       "      <td>2.00</td>\n",
       "    </tr>\n",
       "  </tbody>\n",
       "</table>\n",
       "</div>"
      ],
      "text/plain": [
       "                   PERCENT ASIAN NON HISPANIC  PERCENT WHITE NON HISPANIC  \\\n",
       "JURISDICTION NAME                                                           \n",
       "10001                                    0.07                        0.02   \n",
       "10002                                    0.80                        0.17   \n",
       "10003                                    1.00                        0.00   \n",
       "10004                                    0.00                        0.00   \n",
       "10005                                    0.50                        0.00   \n",
       "\n",
       "                   PERCENT BLACK NON HISPANIC  PERCENT HISPANIC LATINO  big2  \n",
       "JURISDICTION NAME                                                             \n",
       "10001                                    0.48                     0.36  1.80  \n",
       "10002                                    0.00                     0.03  2.57  \n",
       "10003                                    0.00                     0.00  3.00  \n",
       "10004                                    0.00                     0.00  0.00  \n",
       "10005                                    0.50                     0.00  2.00  "
      ]
     },
     "execution_count": 32,
     "metadata": {},
     "output_type": "execute_result"
    }
   ],
   "source": [
    "race_df"
   ]
  },
  {
   "cell_type": "code",
   "execution_count": 27,
   "metadata": {
    "collapsed": false
   },
   "outputs": [
    {
     "data": {
      "text/plain": [
       "10"
      ]
     },
     "execution_count": 27,
     "metadata": {},
     "output_type": "execute_result"
    }
   ],
   "source": [
    "x=[4,2,6,3]\n",
    "sum(sorted(x)[-2:])"
   ]
  },
  {
   "cell_type": "markdown",
   "metadata": {},
   "source": [
    "# V. numpy"
   ]
  },
  {
   "cell_type": "markdown",
   "metadata": {},
   "source": [
    "numpy is another package for Python. pandas is really meant to be used with numpy and in fact it was built on top of it. Whereas pandas was built to replicate the programming language R, numpy was originally meant to replicate Matlab."
   ]
  },
  {
   "cell_type": "code",
   "execution_count": 89,
   "metadata": {
    "collapsed": true
   },
   "outputs": [],
   "source": [
    "import numpy as np"
   ]
  },
  {
   "cell_type": "markdown",
   "metadata": {},
   "source": [
    "numpy has a bunch of functions that are useful for statistics that I'll cover here briefly"
   ]
  },
  {
   "cell_type": "code",
   "execution_count": 90,
   "metadata": {
    "collapsed": false
   },
   "outputs": [
    {
     "data": {
      "text/plain": [
       "JURISDICTION NAME\n",
       "10001    0.2325\n",
       "10002    0.2500\n",
       "10003    0.2500\n",
       "10004    0.0000\n",
       "10005    0.2500\n",
       "dtype: float64"
      ]
     },
     "execution_count": 90,
     "metadata": {},
     "output_type": "execute_result"
    }
   ],
   "source": [
    "# mean\n",
    "race_df.apply(np.mean,axis=1)   "
   ]
  },
  {
   "cell_type": "code",
   "execution_count": 92,
   "metadata": {
    "collapsed": false
   },
   "outputs": [
    {
     "data": {
      "text/plain": [
       "JURISDICTION NAME\n",
       "10001    0.215\n",
       "10002    0.100\n",
       "10003    0.000\n",
       "10004    0.000\n",
       "10005    0.250\n",
       "dtype: float64"
      ]
     },
     "execution_count": 92,
     "metadata": {},
     "output_type": "execute_result"
    }
   ],
   "source": [
    "# median\n",
    "race_df.apply(np.median,axis=1)   "
   ]
  },
  {
   "cell_type": "code",
   "execution_count": 94,
   "metadata": {
    "collapsed": false
   },
   "outputs": [
    {
     "data": {
      "text/html": [
       "<div>\n",
       "<table border=\"1\" class=\"dataframe\">\n",
       "  <thead>\n",
       "    <tr style=\"text-align: right;\">\n",
       "      <th></th>\n",
       "      <th>PERCENT ASIAN NON HISPANIC</th>\n",
       "      <th>PERCENT WHITE NON HISPANIC</th>\n",
       "      <th>PERCENT BLACK NON HISPANIC</th>\n",
       "      <th>PERCENT HISPANIC LATINO</th>\n",
       "    </tr>\n",
       "    <tr>\n",
       "      <th>JURISDICTION NAME</th>\n",
       "      <th></th>\n",
       "      <th></th>\n",
       "      <th></th>\n",
       "      <th></th>\n",
       "    </tr>\n",
       "  </thead>\n",
       "  <tbody>\n",
       "    <tr>\n",
       "      <th>10001</th>\n",
       "      <td>-1.154902</td>\n",
       "      <td>-1.698970</td>\n",
       "      <td>-0.318759</td>\n",
       "      <td>-0.443697</td>\n",
       "    </tr>\n",
       "    <tr>\n",
       "      <th>10002</th>\n",
       "      <td>-0.096910</td>\n",
       "      <td>-0.769551</td>\n",
       "      <td>-inf</td>\n",
       "      <td>-1.522879</td>\n",
       "    </tr>\n",
       "    <tr>\n",
       "      <th>10003</th>\n",
       "      <td>0.000000</td>\n",
       "      <td>-inf</td>\n",
       "      <td>-inf</td>\n",
       "      <td>-inf</td>\n",
       "    </tr>\n",
       "    <tr>\n",
       "      <th>10004</th>\n",
       "      <td>-inf</td>\n",
       "      <td>-inf</td>\n",
       "      <td>-inf</td>\n",
       "      <td>-inf</td>\n",
       "    </tr>\n",
       "    <tr>\n",
       "      <th>10005</th>\n",
       "      <td>-0.301030</td>\n",
       "      <td>-inf</td>\n",
       "      <td>-0.301030</td>\n",
       "      <td>-inf</td>\n",
       "    </tr>\n",
       "  </tbody>\n",
       "</table>\n",
       "</div>"
      ],
      "text/plain": [
       "                   PERCENT ASIAN NON HISPANIC  PERCENT WHITE NON HISPANIC  \\\n",
       "JURISDICTION NAME                                                           \n",
       "10001                               -1.154902                   -1.698970   \n",
       "10002                               -0.096910                   -0.769551   \n",
       "10003                                0.000000                        -inf   \n",
       "10004                                    -inf                        -inf   \n",
       "10005                               -0.301030                        -inf   \n",
       "\n",
       "                   PERCENT BLACK NON HISPANIC  PERCENT HISPANIC LATINO  \n",
       "JURISDICTION NAME                                                       \n",
       "10001                               -0.318759                -0.443697  \n",
       "10002                                    -inf                -1.522879  \n",
       "10003                                    -inf                     -inf  \n",
       "10004                                    -inf                     -inf  \n",
       "10005                               -0.301030                     -inf  "
      ]
     },
     "execution_count": 94,
     "metadata": {},
     "output_type": "execute_result"
    }
   ],
   "source": [
    "# log-10 transform\n",
    "race_df.apply(np.log10,axis=1)   "
   ]
  },
  {
   "cell_type": "code",
   "execution_count": 91,
   "metadata": {
    "collapsed": false
   },
   "outputs": [
    {
     "data": {
      "text/plain": [
       "JURISDICTION NAME\n",
       "10001    0.193051\n",
       "10002    0.323960\n",
       "10003    0.433013\n",
       "10004    0.000000\n",
       "10005    0.250000\n",
       "dtype: float64"
      ]
     },
     "execution_count": 91,
     "metadata": {},
     "output_type": "execute_result"
    }
   ],
   "source": [
    "# standard deviation\n",
    "race_df.apply(np.std,axis=1)   "
   ]
  },
  {
   "cell_type": "markdown",
   "metadata": {},
   "source": [
    "There's a bunch more which are summarized nicely [here](http://docs.scipy.org/doc/numpy-1.10.1/reference/routines.math.html). You could always write a function from scratch, but numpy has already done a lot of the work for you"
   ]
  },
  {
   "cell_type": "code",
   "execution_count": null,
   "metadata": {
    "collapsed": true
   },
   "outputs": [],
   "source": []
  }
 ],
 "metadata": {
  "kernelspec": {
   "display_name": "Python 2",
   "language": "python",
   "name": "python2"
  },
  "language_info": {
   "codemirror_mode": {
    "name": "ipython",
    "version": 2
   },
   "file_extension": ".py",
   "mimetype": "text/x-python",
   "name": "python",
   "nbconvert_exporter": "python",
   "pygments_lexer": "ipython2",
   "version": "2.7.11"
  }
 },
 "nbformat": 4,
 "nbformat_minor": 0
}

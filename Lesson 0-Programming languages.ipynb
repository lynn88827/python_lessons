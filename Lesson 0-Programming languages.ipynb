{
 "cells": [
  {
   "cell_type": "markdown",
   "metadata": {},
   "source": [
    "# Lesson 0-Programming languages"
   ]
  },
  {
   "cell_type": "markdown",
   "metadata": {},
   "source": [
    "Hi everyone! This quarter, we wanted to teach you guys how to program because this will, almost inevitably, be very useful to your lives and the earlier the better. Know how you wish you learned a language when you were yong so you could speak it now? Same feeling with programming.\n",
    "\n"
   ]
  },
  {
   "cell_type": "markdown",
   "metadata": {},
   "source": [
    "## I. Why are we doing this?\n",
    "\n",
    "You all have probably heard enough propaganda to know how valuable programming is, and there's a lot of truth to that. In our research, we can use programming to design experiments, analyze data and construct sophisticated models of how we believe people think. Even if you don't end up in academia, programming can help you. If you're planning on applying to medical school it may help you [analyze public health data](http://www.ft.com/cms/s/0/c08a3ccc-f637-11e5-96db-fc683b5e52db.html) or [reach new patients](http://www.ncbi.nlm.nih.gov/pmc/articles/PMC3622380/). If you want to go into clinical psychology, it can help you recognize [diagnostic patterns in people's behavior](http://archpsyc.jamanetwork.com/article.aspx?articleid=2473515). Hell, my sister is training to be a vet and she's using R to do analyses on animals' health (ok I don't listen that closely to her, but I know she uses it for her work). Drew will tell you this too, but learning to program also helps you think logically about things, breaking a problem down into manageable steps; like sudoku but fun and probably better for your future income."
   ]
  },
  {
   "cell_type": "markdown",
   "metadata": {},
   "source": [
    "## II. Python and Jupyter\n",
    "\n",
    "I am writing these notes in a program called [Jupyter](http://jupyter.org/). It let's you intersperse text passages with Python code likes this:"
   ]
  },
  {
   "cell_type": "code",
   "execution_count": 18,
   "metadata": {
    "collapsed": false
   },
   "outputs": [
    {
     "name": "stdout",
     "output_type": "stream",
     "text": [
      "All the x's\n",
      "[-10, -9, -8, -7, -6, -5, -4, -3, -2, -1, 0, 1, 2, 3, 4, 5, 6, 7, 8, 9, 10]\n",
      "\n",
      "\n",
      "All the y's\n",
      "[100, 81, 64, 49, 36, 25, 16, 9, 4, 1, 0, 1, 4, 9, 16, 25, 36, 49, 64, 81, 100]\n"
     ]
    },
    {
     "data": {
      "image/png": "[encoded data removed]",
      "text/plain": [
       "<matplotlib.figure.Figure at 0x114602950>"
      ]
     },
     "metadata": {},
     "output_type": "display_data"
    }
   ],
   "source": [
    "%matplotlib inline\n",
    "import matplotlib.pyplot as plt\n",
    "\n",
    "x=range(-10,11)\n",
    "y=[i*i for i in x]\n",
    "\n",
    "print \"All the x's\"\n",
    "print x\n",
    "print '\\n'\n",
    "print \"All the y's\"\n",
    "print y\n",
    "\n",
    "plt.figure(figsize=(8,6))\n",
    "\n",
    "plt.title('Example 1: Parabola',fontsize='22')\n",
    "plt.scatter(x,y,c='black')\n",
    "plt.xlabel('X',fontsize='22')\n",
    "plt.ylabel('Y',fontsize='22')\n",
    "plt.show()"
   ]
  },
  {
   "cell_type": "markdown",
   "metadata": {},
   "source": [
    "Jupyter is REALLY handy and a great way to keep track of your code and share the results with others. However, it's a bit annoying to install. If you're interested, try [this link](http://jupyter.readthedocs.org/en/latest/install.html) (also [a video](https://www.youtube.com/watch?v=Rc4JQWowG5I)). \n",
    "\n",
    "Also, if you want line numbers displayed, follow [these instructions](http://stackoverflow.com/questions/20197471/how-to-display-line-numbers-in-ipython-notebook-code-cell-by-default)\n",
    "\n",
    "It basically says: \n",
    "1. Search for custom.js in your finder (it will be in a folder called notebook)\n",
    "2. Copy and paste this line \"IPython.Cell.options_default.cm_config.lineNumbers = true;\" (without quotation marks) on the top\n",
    "3. Refresh the page and now you have line numbers!"
   ]
  },
  {
   "cell_type": "markdown",
   "metadata": {},
   "source": [
    "## III. Types of programming languages (and why Python)\n",
    "\n",
    "You've probably heard a lot of different names thrown around by us or your friends. There are a lot of different programming languages that vary in what they can do, who uses them, etc. \n",
    "\n",
    "### tl;dr-We're using Python because it's popular, free and capable of doing general programming, statistical analyses and making experiments.\n",
    "\n",
    "Here's a summary:\n",
    "\n",
    "**General purpose programming languages**\n",
    "\n",
    "These are languages that can really be used to program anything. This comes at the cost of many specialized functions (ex: statistics) not being included. You can use these, more or less, for the same purposes but there's a tradeoff between user friendliness and performance.\n",
    "\n",
    "* **C, C++, C#**-Can really be used to program anything but rather difficult to use. Really efficient, will give you a fast program. Primarily used by trained computer science engineers.\n",
    "* **Java**-Good deal easier, often used for intro programming classes. Pretty intense too.\n",
    "* **Python**-Very user friendly, \"pretty\" syntax, extremely popular. Many extensions that involve puns. Really large user-base developing new stuff\n",
    "\n",
    "**Statistical programming languages**\n",
    "\n",
    "These languages are used primarily for running analyses. They also tend to be \"functional\" programming languages. This is opposed to \"object-oriented\" programming languages. The difference is somewhat complex but I think [this](http://stackoverflow.com/questions/2078978/functional-programming-vs-object-oriented-programming) provides a good summary. tl;dr-Functional programming does a series of operation on a dataset (which is good for statistics). Object-oriented is useful when you're constantly updating things (the water went from hot to cold) and trying to capture relationships.\n",
    "\n",
    "* R-[Example](http://htmlpreview.github.io/?https://github.com/timflew/price_is_right/blob/master/price_analyses.html)-Designed specifically for data science. Commonly used by psychologists, data scientists. This is what we teach in our stats class. Store data in a data frame--a matrix where each row is an observation and each column is a variable. Community somewhat less organized than Matlab's (it's open source so there's no company supervising things), so message boards are not always as helpful. For example\n",
    "\n",
    "| Person        | Lunch           | Cost  |\n",
    "| ------------- |-------------| -----|\n",
    "| Tim |Sandwich|12|\n",
    "| Drew |Noodles| 13|\n",
    "| Kristin |Gluten| 11|\n",
    "\n",
    "\n",
    "* Matlab-Uses matrices to store data (hence the \"Mat\"). This is very useful for things like images (which are two-dimensional matrices, really) and code that involves linear algebra. Also has nice code for making figures. While it doesn't have many stats packages built in, there is a pretty active community. Used by cognitive psychologists, neuroscientists, bioengineers and some machine learning people. BUT it costs a lot and the current version has an internet connection requirement. I actually switched to Python because of this cost.\n",
    "* JMP, SPSS-Ok, so I (Tim) kind of hate these. These have pretty graphical interfaces where you give it your data, press a button that says \"Do this test\" and it does your analysis for you. This is useful if 1) you don't know how to program or 2) you have really, really simple analyses and want a figure out quick. I don't like it because it really limits you to a predetermined set of simple analyses (\"to someone with a hammer everything looks like a nail\"). This is used primarily by people in the social sciences.\n",
    "* Excel-This isn't a programming language, but a lot of people use it like one. I have and I'm sure all of you probably have.\n",
    "\n",
    "* Python-[Example](http://htmlpreview.github.io/?https://github.com/timflew/stereotype_news/blob/master/pilot_survey_v1/Expected%20casualties%20by%20nationalities-Pilot%201.html)-Yup, Python is in both these categories! Because Python is extremely flexible and friendly, there's been a large community devoted towards giving Python data analysis capabilities. Extensions to Python (called packages) like sci-py has given it basic statistics functions, pandas gives it R style data frames, numpy let's it do a lot of Matlab matrix stuff, matplotlib lets it plot figures and sklearn gives machine learning capabilities. \n",
    "\n",
    "**Experiment design**\n",
    "\n",
    "Even though all of you may not end up psychologists, being able to design your own experiments will be useful in case you ever want to design your own websites or apps. To design an online experiment, you'd probably use:\n",
    "\n",
    "Client side languages-These run code on your computer\n",
    "* HTML-This creates basic, static text\n",
    "* Javascript-Unrelated to Java. Let's you change things, run graphics. JQuery is a popular Javascript package\n",
    "* CSS-Adds pretty formatting to HTML\n",
    "\n",
    "Server side languages-These run code on a distant server (ex: you don't want to look at a bunch of passwords on everyone's computers)\n",
    "* PHP-This does things on the server\n",
    "* SQL(MySql)-Pronounced \"Sequel\" because people couldn't agree on its name for forever. Stores information in databases\n",
    "\n",
    "If you want to design an experiment in lab, you could use C, Java or Python too."
   ]
  },
  {
   "cell_type": "markdown",
   "metadata": {
    "collapsed": true
   },
   "source": [
    "# What we can do with Python\n",
    "\n",
    "Here's a short example of what I'm hoping we can accomplish by the end of these tutorials"
   ]
  },
  {
   "cell_type": "markdown",
   "metadata": {},
   "source": [
    "## Use pandas to process dataframes and do simple plots and statistics"
   ]
  },
  {
   "cell_type": "code",
   "execution_count": 5,
   "metadata": {
    "collapsed": false
   },
   "outputs": [
    {
     "data": {
      "text/html": [
       "<div>\n",
       "<table border=\"1\" class=\"dataframe\">\n",
       "  <thead>\n",
       "    <tr style=\"text-align: right;\">\n",
       "      <th></th>\n",
       "      <th>lives_in_grad_housing</th>\n",
       "      <th>subject</th>\n",
       "      <th>year</th>\n",
       "    </tr>\n",
       "  </thead>\n",
       "  <tbody>\n",
       "    <tr>\n",
       "      <th>tim</th>\n",
       "      <td>True</td>\n",
       "      <td>tim</td>\n",
       "      <td>4</td>\n",
       "    </tr>\n",
       "    <tr>\n",
       "      <th>drew</th>\n",
       "      <td>True</td>\n",
       "      <td>drew</td>\n",
       "      <td>5</td>\n",
       "    </tr>\n",
       "    <tr>\n",
       "      <th>kristin</th>\n",
       "      <td>True</td>\n",
       "      <td>kristin</td>\n",
       "      <td>2</td>\n",
       "    </tr>\n",
       "    <tr>\n",
       "      <th>rob</th>\n",
       "      <td>False</td>\n",
       "      <td>rob</td>\n",
       "      <td>2</td>\n",
       "    </tr>\n",
       "  </tbody>\n",
       "</table>\n",
       "</div>"
      ],
      "text/plain": [
       "        lives_in_grad_housing  subject  year\n",
       "tim                      True      tim     4\n",
       "drew                     True     drew     5\n",
       "kristin                  True  kristin     2\n",
       "rob                     False      rob     2"
      ]
     },
     "execution_count": 5,
     "metadata": {},
     "output_type": "execute_result"
    }
   ],
   "source": [
    "import pandas as pd\n",
    "\n",
    "raw_data={'subject':['tim','drew','kristin','rob'],'year':[4,5,2,2],'lives_in_grad_housing':[True,True,True,False]}\n",
    "grad_data=pd.DataFrame(raw_data,index=raw_data['subject'])\n",
    "grad_data"
   ]
  },
  {
   "cell_type": "code",
   "execution_count": 12,
   "metadata": {
    "collapsed": false
   },
   "outputs": [
    {
     "name": "stdout",
     "output_type": "stream",
     "text": [
      "Average year 3.25\n",
      "STD 1.5\n"
     ]
    }
   ],
   "source": [
    "avg_year=grad_data['year'].mean()\n",
    "std_year=grad_data['year'].std()\n",
    "print 'Average year '+str(avg_year)\n",
    "print 'STD '+str(std_year)"
   ]
  },
  {
   "cell_type": "code",
   "execution_count": 15,
   "metadata": {
    "collapsed": false
   },
   "outputs": [
    {
     "data": {
      "text/plain": [
       "<matplotlib.axes._subplots.AxesSubplot at 0x115ad9fd0>"
      ]
     },
     "execution_count": 15,
     "metadata": {},
     "output_type": "execute_result"
    },
    {
     "data": {
      "image/png": "[encoded data removed]",
      "text/plain": [
       "<matplotlib.figure.Figure at 0x115ac0310>"
      ]
     },
     "metadata": {},
     "output_type": "display_data"
    }
   ],
   "source": [
    "grad_data['year'].plot()"
   ]
  },
  {
   "cell_type": "markdown",
   "metadata": {},
   "source": [
    "## Use matplotlib for more complex plots"
   ]
  },
  {
   "cell_type": "code",
   "execution_count": 48,
   "metadata": {
    "collapsed": false
   },
   "outputs": [
    {
     "data": {
      "image/png": "[encoded data removed]",
      "text/plain": [
       "<matplotlib.figure.Figure at 0x1160de210>"
      ]
     },
     "metadata": {},
     "output_type": "display_data"
    }
   ],
   "source": [
    "%matplotlib inline\n",
    "import matplotlib.pyplot as plt\n",
    "\n",
    "avg_year=grad_data['year'].mean()\n",
    "std_year=grad_data['year'].std()\n",
    "num_grads=len(grad_data['year'])\n",
    "\n",
    "grad_plot=plt.figure(figsize=(6,5))\n",
    "\n",
    "plt.title('Example 2: Grad data',fontsize='22')\n",
    "\n",
    "# Plot a big box in the middle showing the mean +/- the standard deviation\n",
    "plt.fill_between(range(num_grads),[avg_year-std_year]*num_grads,[avg_year+std_year]*num_grads,facecolor='salmon',alpha=.25)\n",
    "\n",
    "# Plot the mean as a dark red line\n",
    "plt.plot(range(num_grads),[avg_year]*num_grads,c='firebrick',lw=3)\n",
    "\n",
    "# Plot the individual data points\n",
    "plt.scatter(range(num_grads),grad_data['year'],c='black',s=50)\n",
    "\n",
    "plt.xlabel('Person',fontsize='22')\n",
    "plt.xticks(range(num_grads),grad_data['subject'],fontsize='22')\n",
    "plt.ylabel('Year',fontsize='22')\n",
    "plt.show()"
   ]
  }
 ],
 "metadata": {
  "kernelspec": {
   "display_name": "Python 2",
   "language": "python",
   "name": "python2"
  },
  "language_info": {
   "codemirror_mode": {
    "name": "ipython",
    "version": 2
   },
   "file_extension": ".py",
   "mimetype": "text/x-python",
   "name": "python",
   "nbconvert_exporter": "python",
   "pygments_lexer": "ipython2",
   "version": "2.7.9"
  }
 },
 "nbformat": 4,
 "nbformat_minor": 0
}

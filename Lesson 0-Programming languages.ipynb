{
 "cells": [
  {
   "cell_type": "markdown",
   "metadata": {},
   "source": [
    "# Lesson 0-Programming languages"
   ]
  },
  {
   "cell_type": "markdown",
   "metadata": {},
   "source": [
    "Hi everyone! This quarter, we wanted to teach you guys how to program because this will, almost inevitably, be very useful to your lives and the earlier the better. Know how you wish you learned a language when you were yong so you could speak it now? Same feeling with programming.\n",
    "\n"
   ]
  },
  {
   "cell_type": "markdown",
   "metadata": {},
   "source": [
    "## I. Why are we doing this?\n",
    "\n",
    "You all have probably heard enough propaganda to know how valuable programming is, and there's a lot of truth to that. In our research, we can use programming to design experiments, analyze data and construct sophisticated models of how we believe people think. Even if you don't end up in academia, programming can help you. If you're planning on applying to medical school it may help you [analyze public health data](http://www.ft.com/cms/s/0/c08a3ccc-f637-11e5-96db-fc683b5e52db.html) or [reach new patients](http://www.ncbi.nlm.nih.gov/pmc/articles/PMC3622380/). If you want to go into clinical psychology, it can help you recognize [diagnostic patterns in people's behavior](http://archpsyc.jamanetwork.com/article.aspx?articleid=2473515). Hell, my sister is training to be a vet and she's using R to do analyses on animals' health (ok I don't listen that closely to her, but I know she uses it for her work). Drew will tell you this too, but learning to program also helps you think logically about things, breaking a problem down into manageable steps; like sudoku but fun and probably better for your future income."
   ]
  },
  {
   "cell_type": "markdown",
   "metadata": {},
   "source": [
    "## II. Types of programming languages (and why Python)\n",
    "\n",
    "You've probably heard a lot of different names thrown around by us or your friends. There are a lot of different programming languages that vary in what they can do, who uses them, etc. \n",
    "\n",
    "### tl;dr-We're using Python because it's popular, free and capable of doing general programming, statistical analyses and making experiments.\n",
    "\n",
    "Here's a summary:\n",
    "\n",
    "**General purpose programming languages**\n",
    "\n",
    "These are languages that can really be used to program anything. This comes at the cost of many specialized functions (ex: statistics) not being included. You can use these, more or less, for the same purposes but there's a tradeoff between user friendliness and performance.\n",
    "\n",
    "* **C, C++, C#**-Can really be used to program anything but rather difficult to use. Really efficient, will give you a fast program. Primarily used by trained computer science engineers.\n",
    "* **Java**-Good deal easier, often used for intro programming classes. Pretty intense too.\n",
    "* **Python**-Very user friendly, \"pretty\" syntax, extremely popular. Many extensions that involve puns. Really large user-base developing new stuff\n",
    "\n",
    "**Statistical programming languages**\n",
    "\n",
    "These languages are used primarily for running analyses. They also tend to be \"functional\" programming languages. This is opposed to \"object-oriented\" programming languages. The difference is somewhat complex but I think [this](http://stackoverflow.com/questions/2078978/functional-programming-vs-object-oriented-programming) provides a good summary. tl;dr-Functional programming does a series of operation on a dataset (which is good for statistics). Object-oriented is useful when you're constantly updating things (the water went from hot to cold) and trying to capture relationships.\n",
    "\n",
    "* R-[Example](http://htmlpreview.github.io/?https://github.com/timflew/price_is_right/blob/master/price_analyses.html)-Designed specifically for data science. Commonly used by psychologists, data scientists. This is what we teach in our stats class. Store data in a data frame--a matrix where each row is an observation and each column is a variable. Community somewhat less organized than Matlab's (it's open source so there's no company supervising things), so message boards are not always as helpful. For example\n",
    "\n",
    "| Person        | Lunch           | Cost  |\n",
    "| ------------- |-------------| -----|\n",
    "| Tim |Sandwich|12|\n",
    "| Drew |Noodles| 13|\n",
    "| Kristin |Gluten| 11|\n",
    "\n",
    "\n",
    "* Matlab-Uses matrices to store data (hence the \"Mat\"). This is very useful for things like images (which are two-dimensional matrices, really) and code that involves linear algebra. Also has nice code for making figures. While it doesn't have many stats packages built in, there is a pretty active community. Used by cognitive psychologists, neuroscientists, bioengineers and some machine learning people. BUT it costs a lot and the current version has an internet connection requirement. I actually switched to Python because of this cost.\n",
    "* JMP, SPSS-Ok, so I (Tim) kind of hate these. These have pretty graphical interfaces where you give it your data, press a button that says \"Do this test\" and it does your analysis for you. This is useful if 1) you don't know how to program or 2) you have really, really simple analyses and want a figure out quick. I don't like it because it really limits you to a predetermined set of simple analyses (\"to someone with a hammer everything looks like a nail\"). This is used primarily by people in the social sciences.\n",
    "* Excel-This isn't a programming language, but a lot of people use it like one. I have and I'm sure all of you probably have.\n",
    "\n",
    "* Python-[Example](http://htmlpreview.github.io/?https://github.com/timflew/price_is_right/blob/master/price_analyses.html)-Yup, Python is in both these categories! Because Python is extremely flexible and friendly, there's been a large community devoted towards giving Python data analysis capabilities. Extensions to Python (called packages) like sci-py has given it basic statistics functions, pandas gives it R style data frames, numpy let's it do a lot of Matlab matrix stuff, matplotlib lets it plot figures and sklearn gives machine learning capabilities. \n",
    "\n",
    "**Experiment design experiments**\n",
    "\n",
    "Even though all of you may not end up psychologists, being able to design your own experiments will be useful in case you ever want to design your own websites or apps. To design an online experiment, you'd probably use:\n",
    "\n",
    "Client side languages-These run code on your computer\n",
    "* HTML-This creates basic, static text\n",
    "* Javascript-Unrelated to Java. Let's you change things, run graphics. JQuery is a popular Javascript package\n",
    "* CSS-Adds pretty formatting to HTML\n",
    "\n",
    "Server side languages-These run code on a distant server (ex: you don't want to look at a bunch of passwords on everyone's computers)\n",
    "* PHP-This does things on the server\n",
    "* SQL(MySql)-Pronounced \"Sequel\" because people couldn't agree on its name for forever. Stores information in databases\n",
    "\n",
    "If you want to design an experiment in lab, you could use C, Java or Python too."
   ]
  },
  {
   "cell_type": "code",
   "execution_count": null,
   "metadata": {
    "collapsed": true
   },
   "outputs": [],
   "source": []
  }
 ],
 "metadata": {
  "kernelspec": {
   "display_name": "Python 2",
   "language": "python",
   "name": "python2"
  },
  "language_info": {
   "codemirror_mode": {
    "name": "ipython",
    "version": 2
   },
   "file_extension": ".py",
   "mimetype": "text/x-python",
   "name": "python",
   "nbconvert_exporter": "python",
   "pygments_lexer": "ipython2",
   "version": "2.7.6"
  }
 },
 "nbformat": 4,
 "nbformat_minor": 0
}

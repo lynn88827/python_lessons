{
 "cells": [
  {
   "cell_type": "markdown",
   "metadata": {},
   "source": [
    "# Lesson 2-Data structures"
   ]
  },
  {
   "cell_type": "markdown",
   "metadata": {},
   "source": [
    "## I. Lists and For-Loops\n",
    "**Roughly corresponds to \"Unit 5 Python Lists and dictionaries\" from Code Academy**\n",
    "\n",
    "So far, we've only dealt with individual variables. But we might want to keep track of a set of values. We can use lists to store variables and call upon them later."
   ]
  },
  {
   "cell_type": "code",
   "execution_count": 2,
   "metadata": {
    "collapsed": false
   },
   "outputs": [
    {
     "name": "stdout",
     "output_type": "stream",
     "text": [
      "All the heights\n",
      "[5.0, 5.5, 6.0, 5.8]\n",
      "1st person's name\n",
      "Winston\n",
      "2nd person's weight\n",
      "160.0\n",
      "Last person's weight\n",
      "140.0\n",
      "1st-3rd person's weight\n",
      "[125.0, 160.0, 168.0]\n"
     ]
    }
   ],
   "source": [
    "names=['Winston','Jess','Nick','Schmidt']\n",
    "heights=[5.0,5.5,6.0,5.8]\n",
    "weights=[125.0,160.0,168.0,140.0]\n",
    "\n",
    "print \"All the heights\"\n",
    "print heights\n",
    "\n",
    "print \"1st person's name\"\n",
    "print names[0] # note, indices start from 0\n",
    "\n",
    "print \"2nd person's weight\"\n",
    "print weights[1] \n",
    "\n",
    "print \"Last person's weight\"\n",
    "print weights[-1] \n",
    "\n",
    "print \"1st-3rd person's weight\"\n",
    "print weights[0:3] # stops right before index 3"
   ]
  },
  {
   "cell_type": "markdown",
   "metadata": {},
   "source": [
    "And we can change elements of the list"
   ]
  },
  {
   "cell_type": "code",
   "execution_count": 3,
   "metadata": {
    "collapsed": false
   },
   "outputs": [
    {
     "name": "stdout",
     "output_type": "stream",
     "text": [
      "[125.0, 165.0, 168.0, 140.0]\n"
     ]
    }
   ],
   "source": [
    "weights[1]=165.0\n",
    "print weights"
   ]
  },
  {
   "cell_type": "markdown",
   "metadata": {},
   "source": [
    "But accessing each of these variables individually is annoying, especially when lists get long. For-loops are an easy way to access all the elements"
   ]
  },
  {
   "cell_type": "code",
   "execution_count": 7,
   "metadata": {
    "collapsed": false
   },
   "outputs": [
    {
     "name": "stdout",
     "output_type": "stream",
     "text": [
      "Winston is a character on New Girl\n",
      "Jess is a character on New Girl\n",
      "Nick is a character on New Girl\n",
      "Schmidt is a character on New Girl\n"
     ]
    }
   ],
   "source": [
    "for name in names:\n",
    "    print name+' is a character on New Girl'"
   ]
  },
  {
   "cell_type": "code",
   "execution_count": 6,
   "metadata": {
    "collapsed": false
   },
   "outputs": [
    {
     "name": "stdout",
     "output_type": "stream",
     "text": [
      "Winstonis a character on New Girl\n",
      "Jess\n",
      "Nick\n",
      "Schmidt\n"
     ]
    }
   ],
   "source": [
    "name=names[0]\n",
    "print name\n",
    "name=names[1]\n",
    "print name\n",
    "name=names[2]\n",
    "print name\n",
    "name=names[3]\n",
    "print name"
   ]
  },
  {
   "cell_type": "markdown",
   "metadata": {},
   "source": [
    "And we can also incorporate logical statements to filter out certain results"
   ]
  },
  {
   "cell_type": "code",
   "execution_count": 4,
   "metadata": {
    "collapsed": false
   },
   "outputs": [
    {
     "name": "stdout",
     "output_type": "stream",
     "text": [
      "165.0\n",
      "168.0\n"
     ]
    }
   ],
   "source": [
    "for wt in weights:\n",
    "    if wt>150:\n",
    "        print wt"
   ]
  },
  {
   "cell_type": "markdown",
   "metadata": {},
   "source": [
    "We also might want to store these values in a new list"
   ]
  },
  {
   "cell_type": "code",
   "execution_count": 5,
   "metadata": {
    "collapsed": false
   },
   "outputs": [
    {
     "name": "stdout",
     "output_type": "stream",
     "text": [
      "[165.0, 168.0]\n",
      "168.0\n"
     ]
    }
   ],
   "source": [
    "greater_150_wts=[] # Create an empty list\n",
    "for wt in weights:\n",
    "    if wt>150:\n",
    "        greater_150_wts.append(wt) # append adds the given element to the list\n",
    "\n",
    "print greater_150_wts\n",
    "print greater_150_wts[1]"
   ]
  },
  {
   "cell_type": "markdown",
   "metadata": {},
   "source": [
    "## Useful list functions"
   ]
  },
  {
   "cell_type": "markdown",
   "metadata": {},
   "source": [
    "We can combine two lists using +"
   ]
  },
  {
   "cell_type": "code",
   "execution_count": 6,
   "metadata": {
    "collapsed": false
   },
   "outputs": [
    {
     "name": "stdout",
     "output_type": "stream",
     "text": [
      "['a', 'b', 'c', 'd']\n"
     ]
    }
   ],
   "source": [
    "print ['a','b']+['c','d']"
   ]
  },
  {
   "cell_type": "markdown",
   "metadata": {},
   "source": [
    "We also might want to know HOW many people are of a certain weight range"
   ]
  },
  {
   "cell_type": "code",
   "execution_count": 7,
   "metadata": {
    "collapsed": false
   },
   "outputs": [
    {
     "name": "stdout",
     "output_type": "stream",
     "text": [
      "2\n"
     ]
    }
   ],
   "source": [
    "print len(greater_150_wts)"
   ]
  },
  {
   "cell_type": "markdown",
   "metadata": {},
   "source": [
    "Using the len() and range() function are also useful ways to get out elements from a list (if the positions of elements in the list are meaningful)."
   ]
  },
  {
   "cell_type": "code",
   "execution_count": 8,
   "metadata": {
    "collapsed": false
   },
   "outputs": [
    {
     "name": "stdout",
     "output_type": "stream",
     "text": [
      "Range\n",
      "[0, 1, 2, 3, 4, 5]\n",
      "[2, 3, 4, 5]\n",
      "Range\n",
      "[0, 1, 2, 3]\n"
     ]
    }
   ],
   "source": [
    "print 'Range'\n",
    "print range(6)\n",
    "print range(2,6)\n",
    "\n",
    "print 'Range'\n",
    "print range(len(weights))"
   ]
  },
  {
   "cell_type": "markdown",
   "metadata": {},
   "source": [
    "And we can use the output of range to get each index from the list"
   ]
  },
  {
   "cell_type": "code",
   "execution_count": 9,
   "metadata": {
    "collapsed": false
   },
   "outputs": [
    {
     "name": "stdout",
     "output_type": "stream",
     "text": [
      "125.0\n",
      "165.0\n",
      "168.0\n",
      "140.0\n"
     ]
    }
   ],
   "source": [
    "for i in range(len(weights)):\n",
    "    print weights[i]"
   ]
  },
  {
   "cell_type": "markdown",
   "metadata": {},
   "source": [
    "sorted() will order a list"
   ]
  },
  {
   "cell_type": "code",
   "execution_count": 10,
   "metadata": {
    "collapsed": false
   },
   "outputs": [
    {
     "name": "stdout",
     "output_type": "stream",
     "text": [
      "[1, 2, 3, 3, 4, 5]\n",
      "['a', 'b', 'c', 'c', 'd', 'e']\n"
     ]
    }
   ],
   "source": [
    "num_list=[2,3,4,1,3,5]\n",
    "print sorted(num_list)\n",
    "\n",
    "char_list=['b','a','c','e','d','c']\n",
    "print sorted(char_list)"
   ]
  },
  {
   "cell_type": "markdown",
   "metadata": {},
   "source": [
    "Using \"in\" can tell us whether something is in a list"
   ]
  },
  {
   "cell_type": "code",
   "execution_count": 11,
   "metadata": {
    "collapsed": false
   },
   "outputs": [
    {
     "name": "stdout",
     "output_type": "stream",
     "text": [
      "True\n",
      "False\n"
     ]
    }
   ],
   "source": [
    "print 4 in [1,2,3,4]\n",
    "print 4 in [1,2,3]"
   ]
  },
  {
   "cell_type": "code",
   "execution_count": 12,
   "metadata": {
    "collapsed": false
   },
   "outputs": [
    {
     "name": "stdout",
     "output_type": "stream",
     "text": [
      "True\n",
      "False\n"
     ]
    }
   ],
   "source": [
    "print 'a' in ['a','b','c','d']\n",
    "print 'a' in ['ab','c','d'] # note this compares 'a'=='ab', not 'a'=='a' and 'a'=='b'"
   ]
  },
  {
   "cell_type": "markdown",
   "metadata": {},
   "source": [
    "And this is another way to do for loops on lists called list comprehensions. It's a little more complex but is nice and compact"
   ]
  },
  {
   "cell_type": "code",
   "execution_count": 13,
   "metadata": {
    "collapsed": false
   },
   "outputs": [
    {
     "name": "stdout",
     "output_type": "stream",
     "text": [
      "[0, 1, 2, 3]\n",
      "[0, 1, 4, 9]\n",
      "['00', '11', '22', '33']\n"
     ]
    }
   ],
   "source": [
    "a=range(4)\n",
    "print a\n",
    "print [a2*a2 for a2 in a]\n",
    "print [str(a2)+str(a2) for a2 in a]"
   ]
  },
  {
   "cell_type": "markdown",
   "metadata": {},
   "source": [
    "This compresses all the parts of a for loop into a single line. If you have more complex operations, you might want to use a regular for loop, or create a function with all the stuff in it and then use that in the list comprehension."
   ]
  },
  {
   "cell_type": "markdown",
   "metadata": {},
   "source": [
    "## tuples\n",
    "\n",
    "Briefly, tuples are like lists, but you can't change their contents. This can be useful is you need some constant values (like race and genders or something like that). They also make good keys in dictionaries"
   ]
  },
  {
   "cell_type": "code",
   "execution_count": 14,
   "metadata": {
    "collapsed": false
   },
   "outputs": [
    {
     "name": "stdout",
     "output_type": "stream",
     "text": [
      "1\n"
     ]
    },
    {
     "ename": "TypeError",
     "evalue": "'tuple' object does not support item assignment",
     "output_type": "error",
     "traceback": [
      "\u001b[0;31m---------------------------------------------------------------------------\u001b[0m",
      "\u001b[0;31mTypeError\u001b[0m                                 Traceback (most recent call last)",
      "\u001b[0;32m<ipython-input-14-6910864736dd>\u001b[0m in \u001b[0;36m<module>\u001b[0;34m()\u001b[0m\n\u001b[1;32m      1\u001b[0m \u001b[0mtup\u001b[0m\u001b[0;34m=\u001b[0m\u001b[0;34m(\u001b[0m\u001b[0;36m1\u001b[0m\u001b[0;34m,\u001b[0m\u001b[0;36m2\u001b[0m\u001b[0;34m,\u001b[0m\u001b[0;36m3\u001b[0m\u001b[0;34m)\u001b[0m \u001b[0;31m# note, tuples use parentheses instead of brackets\u001b[0m\u001b[0;34m\u001b[0m\u001b[0m\n\u001b[1;32m      2\u001b[0m \u001b[0;32mprint\u001b[0m \u001b[0mtup\u001b[0m\u001b[0;34m[\u001b[0m\u001b[0;36m0\u001b[0m\u001b[0;34m]\u001b[0m\u001b[0;34m\u001b[0m\u001b[0m\n\u001b[0;32m----> 3\u001b[0;31m \u001b[0mtup\u001b[0m\u001b[0;34m[\u001b[0m\u001b[0;36m0\u001b[0m\u001b[0;34m]\u001b[0m\u001b[0;34m=\u001b[0m\u001b[0;36m2\u001b[0m\u001b[0;34m\u001b[0m\u001b[0m\n\u001b[0m",
      "\u001b[0;31mTypeError\u001b[0m: 'tuple' object does not support item assignment"
     ]
    }
   ],
   "source": [
    "tup=(1,2,3) # note, tuples use parentheses instead of brackets\n",
    "print tup[0]\n",
    "tup[0]=2"
   ]
  },
  {
   "cell_type": "markdown",
   "metadata": {},
   "source": [
    "# II. Dictionaries\n",
    "\n",
    "Dictionaries build upon lists and let us add intuitive names for list elements"
   ]
  },
  {
   "cell_type": "code",
   "execution_count": 8,
   "metadata": {
    "collapsed": false
   },
   "outputs": [
    {
     "name": "stdout",
     "output_type": "stream",
     "text": [
      "{'Jess': [5.5], 'Winston': [5], 'Nick': [6.0]}\n"
     ]
    }
   ],
   "source": [
    "people={'Winston':[5], 'Jess':[5.5],'Nick':[6.0]}\n",
    "print people"
   ]
  },
  {
   "cell_type": "markdown",
   "metadata": {},
   "source": [
    "And I can then call upon their properties by their names"
   ]
  },
  {
   "cell_type": "code",
   "execution_count": 9,
   "metadata": {
    "collapsed": false
   },
   "outputs": [
    {
     "data": {
      "text/plain": [
       "[5.5]"
      ]
     },
     "execution_count": 9,
     "metadata": {},
     "output_type": "execute_result"
    }
   ],
   "source": [
    "people['Jess']"
   ]
  },
  {
   "cell_type": "markdown",
   "metadata": {},
   "source": [
    "And we can add and change values, just like we did with lists"
   ]
  },
  {
   "cell_type": "code",
   "execution_count": 10,
   "metadata": {
    "collapsed": false
   },
   "outputs": [
    {
     "data": {
      "text/plain": [
       "{'Jess': [5.4], 'Nick': [6.0], 'Winston': [5]}"
      ]
     },
     "execution_count": 10,
     "metadata": {},
     "output_type": "execute_result"
    }
   ],
   "source": [
    "people['Jess']=[5.4]\n",
    "people"
   ]
  },
  {
   "cell_type": "code",
   "execution_count": 11,
   "metadata": {
    "collapsed": false
   },
   "outputs": [
    {
     "data": {
      "text/plain": [
       "{'Jess': [5.4], 'Nick': [6.0], 'Schmidt': [5.8], 'Winston': [5]}"
      ]
     },
     "execution_count": 11,
     "metadata": {},
     "output_type": "execute_result"
    }
   ],
   "source": [
    "people['Schmidt']=[5.8]\n",
    "people"
   ]
  },
  {
   "cell_type": "markdown",
   "metadata": {},
   "source": [
    "Dictionaries are usually described in terms of keys and values. keys are the words in quotation marks (left of the colons) that we use to call upon values (right of the colons). Note that keys have to be unique "
   ]
  },
  {
   "cell_type": "code",
   "execution_count": 12,
   "metadata": {
    "collapsed": false
   },
   "outputs": [
    {
     "data": {
      "text/plain": [
       "[4.3]"
      ]
     },
     "execution_count": 12,
     "metadata": {},
     "output_type": "execute_result"
    }
   ],
   "source": [
    "people={'Winston':[5], 'Jess':[5.5],'Nick':[6.0],'Winston':[4.3]}\n",
    "people['Winston'] # only one of these values will be kept"
   ]
  },
  {
   "cell_type": "markdown",
   "metadata": {},
   "source": [
    "Python also gives us some useful functions for easily getting keys and values"
   ]
  },
  {
   "cell_type": "code",
   "execution_count": 15,
   "metadata": {
    "collapsed": false
   },
   "outputs": [
    {
     "data": {
      "text/plain": [
       "['Jess', 'Nick', 'Winston']"
      ]
     },
     "execution_count": 15,
     "metadata": {},
     "output_type": "execute_result"
    }
   ],
   "source": [
    "sorted(people.keys())"
   ]
  },
  {
   "cell_type": "code",
   "execution_count": null,
   "metadata": {
    "collapsed": false
   },
   "outputs": [],
   "source": [
    "people.values()"
   ]
  },
  {
   "cell_type": "code",
   "execution_count": null,
   "metadata": {
    "collapsed": false
   },
   "outputs": [],
   "source": [
    "for k in people.keys():\n",
    "    if len(k)<5:\n",
    "        print people[k]"
   ]
  },
  {
   "cell_type": "markdown",
   "metadata": {},
   "source": [
    "# III. Strings\n",
    "\n",
    "We've been using strings here and there. They're going to be very important as we start using more dictionaries and eventually more complex data structures. Here's a brief summary of methods that might be of use. Pretty straight forward stuff"
   ]
  },
  {
   "cell_type": "code",
   "execution_count": null,
   "metadata": {
    "collapsed": true
   },
   "outputs": [],
   "source": [
    "tim_str='Timothy Franklin Lew'"
   ]
  },
  {
   "cell_type": "code",
   "execution_count": null,
   "metadata": {
    "collapsed": false
   },
   "outputs": [],
   "source": [
    "print tim_str.lower()"
   ]
  },
  {
   "cell_type": "code",
   "execution_count": null,
   "metadata": {
    "collapsed": false
   },
   "outputs": [],
   "source": [
    "print tim_str.upper()"
   ]
  },
  {
   "cell_type": "code",
   "execution_count": null,
   "metadata": {
    "collapsed": false
   },
   "outputs": [],
   "source": [
    "tim_descr=' is da best'\n",
    "print tim_str+tim_descr"
   ]
  },
  {
   "cell_type": "markdown",
   "metadata": {},
   "source": [
    "Strings are actually lists of characters so you can actually index them and get their length"
   ]
  },
  {
   "cell_type": "code",
   "execution_count": null,
   "metadata": {
    "collapsed": false
   },
   "outputs": [],
   "source": [
    "print tim_str[0] # get first letter\n",
    "print len(tim_str) # get length of string"
   ]
  },
  {
   "cell_type": "markdown",
   "metadata": {},
   "source": [
    "And as I mentioned previously, if we want to turn something into a string, we can use the str() function"
   ]
  },
  {
   "cell_type": "code",
   "execution_count": null,
   "metadata": {
    "collapsed": false
   },
   "outputs": [],
   "source": [
    "age=25\n",
    "print tim_str+' is '+str(age)"
   ]
  },
  {
   "cell_type": "markdown",
   "metadata": {},
   "source": [
    "Doing something like recognizing a certain string pattern is a bit more complicated. I won't go into it fully here, but you have to use something called regex (regular expressions). regex functions take in a string and a string pattern and applies the pattern to the string."
   ]
  },
  {
   "cell_type": "code",
   "execution_count": null,
   "metadata": {
    "collapsed": false
   },
   "outputs": [],
   "source": [
    "import re # this is a built in python regex package\n",
    "\n",
    "sample_text='1990Bob1989Alice1991Olivia'\n",
    "\n",
    "# [a-zA-Z] says I want any characters from a-z (lowercase) or A-Z (uppercase). \n",
    "# The * says it can repeat any number of times\n",
    "str_pattern='[a-zA-Z]*' \n",
    "\n",
    "re.split(str_pattern,sample_text)"
   ]
  },
  {
   "cell_type": "markdown",
   "metadata": {},
   "source": [
    "# Outline example-Added 5/3/2016"
   ]
  },
  {
   "cell_type": "markdown",
   "metadata": {},
   "source": [
    "Last time, we covered a lot of stuff very rapidly, so I wanted to take some time to discuss how we might do a programming problem. Let's say, based on the information below, I want to find out what proportion of people's experiments are successes. Here, I want the output to be a dictionary mapping people's names onto the proportion of their experiments that were successes."
   ]
  },
  {
   "cell_type": "code",
   "execution_count": 21,
   "metadata": {
    "collapsed": true
   },
   "outputs": [],
   "source": [
    "names=['tim','drew','kristin']\n",
    "succ_exp=[4,5,7]\n",
    "fail_exp=[8,7,12]\n",
    "\n",
    "def succ_proportion(names,succ_exp,fail_exp):\n",
    "    succ_prop={}\n",
    "    # your code in here\n",
    "    return succ_prop"
   ]
  },
  {
   "cell_type": "markdown",
   "metadata": {},
   "source": [
    "Before I actually mess around with the function, I might start by seeing if I can get the right kind of answer outside of a function: Can I get each person's proportion of successes? Well, a proportion has two parts--a numerator and denominator. I have my numerator (succ_exp, the number of successes). How can I get my denominator?"
   ]
  },
  {
   "cell_type": "code",
   "execution_count": 22,
   "metadata": {
    "collapsed": false
   },
   "outputs": [
    {
     "name": "stdout",
     "output_type": "stream",
     "text": [
      "0\n",
      "12\n",
      "1\n",
      "12\n",
      "2\n",
      "19\n"
     ]
    }
   ],
   "source": [
    "for i in range(len(succ_exp)):\n",
    "    print i\n",
    "    print succ_exp[i]+fail_exp[i]"
   ]
  },
  {
   "cell_type": "markdown",
   "metadata": {},
   "source": [
    "I can then use each of these with the denominator to get a proportion"
   ]
  },
  {
   "cell_type": "code",
   "execution_count": 23,
   "metadata": {
    "collapsed": false
   },
   "outputs": [
    {
     "name": "stdout",
     "output_type": "stream",
     "text": [
      "0\n",
      "0\n",
      "0\n"
     ]
    }
   ],
   "source": [
    "for i in range(len(succ_exp)):\n",
    "    sum_exp=succ_exp[i]+fail_exp[i]\n",
    "    print succ_exp[i]/sum_exp"
   ]
  },
  {
   "cell_type": "markdown",
   "metadata": {},
   "source": [
    "Uh oh, need to make sure we have floats"
   ]
  },
  {
   "cell_type": "code",
   "execution_count": 24,
   "metadata": {
    "collapsed": false
   },
   "outputs": [
    {
     "name": "stdout",
     "output_type": "stream",
     "text": [
      "0.333333333333\n",
      "0.416666666667\n",
      "0.368421052632\n"
     ]
    }
   ],
   "source": [
    "for i in range(len(succ_exp)):\n",
    "    sum_exp=succ_exp[i]+fail_exp[i]\n",
    "    print succ_exp[i]/float(sum_exp)"
   ]
  },
  {
   "cell_type": "markdown",
   "metadata": {},
   "source": [
    "And now we can try putting this into a function"
   ]
  },
  {
   "cell_type": "code",
   "execution_count": 25,
   "metadata": {
    "collapsed": false
   },
   "outputs": [
    {
     "name": "stdout",
     "output_type": "stream",
     "text": [
      "0.333333333333\n",
      "0.416666666667\n",
      "0.368421052632\n"
     ]
    },
    {
     "data": {
      "text/plain": [
       "{}"
      ]
     },
     "execution_count": 25,
     "metadata": {},
     "output_type": "execute_result"
    }
   ],
   "source": [
    "def succ_proportion(names,succ_exp,fail_exp):\n",
    "    succ_prop={}\n",
    "    # your code in here\n",
    "    for i in range(len(succ_exp)):\n",
    "        sum_exp=succ_exp[i]+fail_exp[i]\n",
    "        print succ_exp[i]/float(sum_exp)\n",
    "    \n",
    "    return succ_prop\n",
    "succ_proportion(names,succ_exp,fail_exp)"
   ]
  },
  {
   "cell_type": "markdown",
   "metadata": {},
   "source": [
    "But this isn't giving us what we want. The function is calculating the success proportion--we can see it right there--but its output is still an empty dictionary. So we need to make sure that we store the success proportions into our dictionary"
   ]
  },
  {
   "cell_type": "code",
   "execution_count": 26,
   "metadata": {
    "collapsed": false
   },
   "outputs": [
    {
     "data": {
      "text/plain": [
       "{'drew': 0.4166666666666667,\n",
       " 'kristin': 0.3684210526315789,\n",
       " 'tim': 0.3333333333333333}"
      ]
     },
     "execution_count": 26,
     "metadata": {},
     "output_type": "execute_result"
    }
   ],
   "source": [
    "def succ_proportion(names,succ_exp,fail_exp):\n",
    "    succ_prop={}\n",
    "    # your code in here\n",
    "    for i in range(len(succ_exp)):\n",
    "        sum_exp=succ_exp[i]+fail_exp[i]\n",
    "        prop=succ_exp[i]/float(sum_exp)\n",
    "        person_name=names[i]\n",
    "        succ_prop[person_name]=prop\n",
    "    \n",
    "    return succ_prop\n",
    "succ_proportion(names,succ_exp,fail_exp)"
   ]
  },
  {
   "cell_type": "markdown",
   "metadata": {},
   "source": [
    "# Problem\n",
    "\n",
    "I'm trying to characterize how my labmates talk, so I store some of their most frequent words in a dictionary. Who uses the longest words? Create a function that creates a new dictionary that maps our names (tim, drew, kristin) onto the average length of our common words"
   ]
  },
  {
   "cell_type": "code",
   "execution_count": 27,
   "metadata": {
    "collapsed": false
   },
   "outputs": [
    {
     "name": "stdout",
     "output_type": "stream",
     "text": [
      "{}\n"
     ]
    }
   ],
   "source": [
    "tim_words=['excellent','awesome','great','chipper']\n",
    "drew_words=['banjo','bag','go','for','walk']\n",
    "kristin_words=['gluten','instagram','filter']\n",
    "words={'tim':tim_words,'drew':drew_words,'kristin':kristin_words}\n",
    "\n",
    "def long_words(words):\n",
    "    len_words={}\n",
    "    # your code in here\n",
    "    return len_words\n",
    "\n",
    "print long_words(words)"
   ]
  }
 ],
 "metadata": {
  "kernelspec": {
   "display_name": "Python 2",
   "language": "python",
   "name": "python2"
  },
  "language_info": {
   "codemirror_mode": {
    "name": "ipython",
    "version": 2
   },
   "file_extension": ".py",
   "mimetype": "text/x-python",
   "name": "python",
   "nbconvert_exporter": "python",
   "pygments_lexer": "ipython2",
   "version": "2.7.9"
  }
 },
 "nbformat": 4,
 "nbformat_minor": 0
}

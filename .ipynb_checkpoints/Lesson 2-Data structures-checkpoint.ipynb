{
 "cells": [
  {
   "cell_type": "markdown",
   "metadata": {},
   "source": [
    "# Lesson 2-Data structures"
   ]
  },
  {
   "cell_type": "markdown",
   "metadata": {},
   "source": [
    "## I. Lists and For-Loops\n",
    "**Roughly corresponds to \"Unit 5 Python Lists and dictionaries\" from Code Academy**\n",
    "\n",
    "So far, we've only dealt with individual variables. But we might want to keep track of a set of values. We can use lists to store variables and call upon them later."
   ]
  },
  {
   "cell_type": "code",
   "execution_count": 4,
   "metadata": {
    "collapsed": false
   },
   "outputs": [
    {
     "name": "stdout",
     "output_type": "stream",
     "text": [
      "All the heights\n",
      "[5.0, 5.5, 6.0, 5.8]\n",
      "1st person's name\n",
      "Winston\n",
      "2nd person's weight\n",
      "160.0\n",
      "Last person's weight\n",
      "140.0\n",
      "1st-3rd person's weight\n",
      "[125.0, 160.0, 168.0]\n"
     ]
    }
   ],
   "source": [
    "names=['Winston','Jess','Nick','Schmidt']\n",
    "heights=[5.0,5.5,6.0,5.8]\n",
    "weights=[125.0,160.0,168.0,140.0]\n",
    "\n",
    "print \"All the heights\"\n",
    "print heights\n",
    "\n",
    "print \"1st person's name\"\n",
    "print names[0] # note, indices start from 0\n",
    "\n",
    "print \"2nd person's weight\"\n",
    "print weights[1] \n",
    "\n",
    "print \"Last person's weight\"\n",
    "print weights[-1] \n",
    "\n",
    "print \"1st-3rd person's weight\"\n",
    "print weights[0:3] # stops right before index 3"
   ]
  },
  {
   "cell_type": "markdown",
   "metadata": {},
   "source": [
    "And we can change elements of the list"
   ]
  },
  {
   "cell_type": "code",
   "execution_count": 59,
   "metadata": {
    "collapsed": false
   },
   "outputs": [
    {
     "name": "stdout",
     "output_type": "stream",
     "text": [
      "[125.0, 165.0, 168.0, 140.0]\n"
     ]
    }
   ],
   "source": [
    "weights[1]=165.0\n",
    "print weights"
   ]
  },
  {
   "cell_type": "markdown",
   "metadata": {},
   "source": [
    "But accessing each of these variables individually is annoying, especially when lists get long. For-loops are an easy way to access all the elements"
   ]
  },
  {
   "cell_type": "code",
   "execution_count": 3,
   "metadata": {
    "collapsed": false
   },
   "outputs": [
    {
     "name": "stdout",
     "output_type": "stream",
     "text": [
      "Winston\n",
      "Jess\n",
      "Nick\n",
      "Schmidt\n"
     ]
    }
   ],
   "source": [
    "for name in names:\n",
    "    print name"
   ]
  },
  {
   "cell_type": "markdown",
   "metadata": {},
   "source": [
    "And we can also incorporate logical statements to filter out certain results"
   ]
  },
  {
   "cell_type": "code",
   "execution_count": 4,
   "metadata": {
    "collapsed": false
   },
   "outputs": [
    {
     "name": "stdout",
     "output_type": "stream",
     "text": [
      "160.0\n",
      "168.0\n"
     ]
    }
   ],
   "source": [
    "for wt in weights:\n",
    "    if wt>150:\n",
    "        print wt"
   ]
  },
  {
   "cell_type": "markdown",
   "metadata": {},
   "source": [
    "We also might want to store these values in a new list"
   ]
  },
  {
   "cell_type": "code",
   "execution_count": 6,
   "metadata": {
    "collapsed": false
   },
   "outputs": [
    {
     "name": "stdout",
     "output_type": "stream",
     "text": [
      "[160.0, 168.0]\n",
      "168.0\n"
     ]
    }
   ],
   "source": [
    "greater_150_wts=[] # Create an empty list\n",
    "for wt in weights:\n",
    "    if wt>150:\n",
    "        greater_150_wts.append(wt) # append adds the given element to the list\n",
    "\n",
    "print greater_150_wts\n",
    "print greater_150_wts[1]"
   ]
  },
  {
   "cell_type": "markdown",
   "metadata": {},
   "source": [
    "## Useful list functions"
   ]
  },
  {
   "cell_type": "markdown",
   "metadata": {},
   "source": [
    "We can combine two lists using +"
   ]
  },
  {
   "cell_type": "code",
   "execution_count": 19,
   "metadata": {
    "collapsed": false
   },
   "outputs": [
    {
     "name": "stdout",
     "output_type": "stream",
     "text": [
      "['a', 'b', 'c', 'd']\n"
     ]
    }
   ],
   "source": [
    "print ['a','b']+['c','d']"
   ]
  },
  {
   "cell_type": "markdown",
   "metadata": {},
   "source": [
    "We also might want to know HOW many people are of a certain weight range"
   ]
  },
  {
   "cell_type": "code",
   "execution_count": 54,
   "metadata": {
    "collapsed": false
   },
   "outputs": [
    {
     "name": "stdout",
     "output_type": "stream",
     "text": [
      "2\n"
     ]
    }
   ],
   "source": [
    "print len(greater_150_wts)"
   ]
  },
  {
   "cell_type": "markdown",
   "metadata": {},
   "source": [
    "Using the len() and range() function are also useful ways to get out elements from a list (if the positions of elements in the list are meaningful)"
   ]
  },
  {
   "cell_type": "code",
   "execution_count": 7,
   "metadata": {
    "collapsed": false
   },
   "outputs": [
    {
     "name": "stdout",
     "output_type": "stream",
     "text": [
      "Range\n",
      "[0, 1, 2, 3]\n",
      "125.0\n",
      "160.0\n",
      "168.0\n",
      "140.0\n"
     ]
    }
   ],
   "source": [
    "print 'Range'\n",
    "print range(len(weights))"
   ]
  },
  {
   "cell_type": "markdown",
   "metadata": {},
   "source": [
    "And we can use the output of range to get each index from the list"
   ]
  },
  {
   "cell_type": "code",
   "execution_count": 8,
   "metadata": {
    "collapsed": false
   },
   "outputs": [
    {
     "name": "stdout",
     "output_type": "stream",
     "text": [
      "125.0\n",
      "160.0\n",
      "168.0\n",
      "140.0\n"
     ]
    }
   ],
   "source": [
    "for i in range(len(weights)):\n",
    "    print weights[i]"
   ]
  },
  {
   "cell_type": "markdown",
   "metadata": {},
   "source": [
    "sorted() will order a list"
   ]
  },
  {
   "cell_type": "code",
   "execution_count": 13,
   "metadata": {
    "collapsed": false
   },
   "outputs": [
    {
     "name": "stdout",
     "output_type": "stream",
     "text": [
      "[1, 2, 3, 3, 4, 5]\n",
      "['a', 'b', 'c', 'c', 'd', 'e']\n"
     ]
    }
   ],
   "source": [
    "num_list=[2,3,4,1,3,5]\n",
    "print sorted(num_list)\n",
    "\n",
    "char_list=['b','a','c','e','d','c']\n",
    "print sorted(char_list)"
   ]
  },
  {
   "cell_type": "markdown",
   "metadata": {},
   "source": [
    "Using \"in\" can tell us whether something is in a list"
   ]
  },
  {
   "cell_type": "code",
   "execution_count": 55,
   "metadata": {
    "collapsed": false
   },
   "outputs": [
    {
     "name": "stdout",
     "output_type": "stream",
     "text": [
      "True\n",
      "False\n"
     ]
    }
   ],
   "source": [
    "print 4 in [1,2,3,4]\n",
    "print 4 in [1,2,3]"
   ]
  },
  {
   "cell_type": "code",
   "execution_count": 57,
   "metadata": {
    "collapsed": false
   },
   "outputs": [
    {
     "name": "stdout",
     "output_type": "stream",
     "text": [
      "True\n",
      "False\n"
     ]
    }
   ],
   "source": [
    "print 'a' in ['a','b','c','d']\n",
    "print 'a' in ['ab','c','d'] # note this compares 'a'=='ab', not 'a'=='a' and 'a'=='b'"
   ]
  },
  {
   "cell_type": "markdown",
   "metadata": {},
   "source": [
    "## tuples\n",
    "\n",
    "Briefly, tuples are like lists, but you can't change their contents. This can be useful is you need some constant values"
   ]
  },
  {
   "cell_type": "code",
   "execution_count": 17,
   "metadata": {
    "collapsed": false
   },
   "outputs": [
    {
     "name": "stdout",
     "output_type": "stream",
     "text": [
      "1\n"
     ]
    },
    {
     "ename": "TypeError",
     "evalue": "'tuple' object does not support item assignment",
     "output_type": "error",
     "traceback": [
      "\u001b[0;31m---------------------------------------------------------------------------\u001b[0m",
      "\u001b[0;31mTypeError\u001b[0m                                 Traceback (most recent call last)",
      "\u001b[0;32m<ipython-input-17-4c2bbe671b71>\u001b[0m in \u001b[0;36m<module>\u001b[0;34m()\u001b[0m\n\u001b[1;32m      1\u001b[0m \u001b[0mtup\u001b[0m\u001b[0;34m=\u001b[0m\u001b[0;34m(\u001b[0m\u001b[0;36m1\u001b[0m\u001b[0;34m,\u001b[0m\u001b[0;36m2\u001b[0m\u001b[0;34m,\u001b[0m\u001b[0;36m3\u001b[0m\u001b[0;34m)\u001b[0m\u001b[0;34m\u001b[0m\u001b[0m\n\u001b[1;32m      2\u001b[0m \u001b[0;32mprint\u001b[0m \u001b[0mtup\u001b[0m\u001b[0;34m[\u001b[0m\u001b[0;36m0\u001b[0m\u001b[0;34m]\u001b[0m\u001b[0;34m\u001b[0m\u001b[0m\n\u001b[0;32m----> 3\u001b[0;31m \u001b[0mtup\u001b[0m\u001b[0;34m[\u001b[0m\u001b[0;36m0\u001b[0m\u001b[0;34m]\u001b[0m\u001b[0;34m=\u001b[0m\u001b[0;36m2\u001b[0m\u001b[0;34m\u001b[0m\u001b[0m\n\u001b[0m",
      "\u001b[0;31mTypeError\u001b[0m: 'tuple' object does not support item assignment"
     ]
    }
   ],
   "source": [
    "tup=(1,2,3) # note, tuples use parentheses instead of brackets\n",
    "print tup[0]\n",
    "tup[0]=2"
   ]
  },
  {
   "cell_type": "markdown",
   "metadata": {},
   "source": [
    "# II. Dictionaries\n",
    "\n",
    "Dictionaries build upon lists and let us build intuitive names for list elements"
   ]
  },
  {
   "cell_type": "code",
   "execution_count": 16,
   "metadata": {
    "collapsed": false
   },
   "outputs": [
    {
     "name": "stdout",
     "output_type": "stream",
     "text": [
      "{'Jess': [5.5], 'Winston': [5], 'Nick': [6.0]}\n"
     ]
    }
   ],
   "source": [
    "people={'Winston':[5], 'Jess':[5.5],'Nick':[6.0]}\n",
    "print people"
   ]
  },
  {
   "cell_type": "markdown",
   "metadata": {},
   "source": [
    "And I can then call upon their properties by their names"
   ]
  },
  {
   "cell_type": "code",
   "execution_count": 63,
   "metadata": {
    "collapsed": false
   },
   "outputs": [
    {
     "data": {
      "text/plain": [
       "[5.5]"
      ]
     },
     "execution_count": 63,
     "metadata": {},
     "output_type": "execute_result"
    }
   ],
   "source": [
    "people['Jess']"
   ]
  },
  {
   "cell_type": "markdown",
   "metadata": {},
   "source": [
    "And we can add and change values, just like we did with lists"
   ]
  },
  {
   "cell_type": "code",
   "execution_count": 64,
   "metadata": {
    "collapsed": false
   },
   "outputs": [
    {
     "data": {
      "text/plain": [
       "{'Jess': [5.4], 'Nick': [6.0], 'Winston': [5]}"
      ]
     },
     "execution_count": 64,
     "metadata": {},
     "output_type": "execute_result"
    }
   ],
   "source": [
    "people['Jess']=[5.4]\n",
    "people"
   ]
  },
  {
   "cell_type": "code",
   "execution_count": 65,
   "metadata": {
    "collapsed": false
   },
   "outputs": [
    {
     "data": {
      "text/plain": [
       "{'Jess': [5.4], 'Nick': [6.0], 'Schmidt': [5.8], 'Winston': [5]}"
      ]
     },
     "execution_count": 65,
     "metadata": {},
     "output_type": "execute_result"
    }
   ],
   "source": [
    "people['Schmidt']=[5.8]\n",
    "people"
   ]
  },
  {
   "cell_type": "markdown",
   "metadata": {},
   "source": [
    "Dictionaries are usually described in terms of keys and values. keys are the words in quotation marks (left of the colons) that we use to call upon values (right of the colons). Note that keys have to be unique "
   ]
  },
  {
   "cell_type": "code",
   "execution_count": 69,
   "metadata": {
    "collapsed": false
   },
   "outputs": [
    {
     "data": {
      "text/plain": [
       "[4.3]"
      ]
     },
     "execution_count": 69,
     "metadata": {},
     "output_type": "execute_result"
    }
   ],
   "source": [
    "people={'Winston':[5], 'Jess':[5.5],'Nick':[6.0],'Winston':[4.3]}\n",
    "people['Winston'] # only one of these values will be kept"
   ]
  },
  {
   "cell_type": "markdown",
   "metadata": {},
   "source": [
    "Python also gives us some useful functions for easily getting keys and values"
   ]
  },
  {
   "cell_type": "code",
   "execution_count": 70,
   "metadata": {
    "collapsed": false
   },
   "outputs": [
    {
     "data": {
      "text/plain": [
       "['Jess', 'Winston', 'Nick']"
      ]
     },
     "execution_count": 70,
     "metadata": {},
     "output_type": "execute_result"
    }
   ],
   "source": [
    "people.keys()"
   ]
  },
  {
   "cell_type": "code",
   "execution_count": 71,
   "metadata": {
    "collapsed": false
   },
   "outputs": [
    {
     "data": {
      "text/plain": [
       "[[5.5], [4.3], [6.0]]"
      ]
     },
     "execution_count": 71,
     "metadata": {},
     "output_type": "execute_result"
    }
   ],
   "source": [
    "people.values()"
   ]
  },
  {
   "cell_type": "code",
   "execution_count": 72,
   "metadata": {
    "collapsed": false
   },
   "outputs": [
    {
     "name": "stdout",
     "output_type": "stream",
     "text": [
      "[5.5]\n",
      "[6.0]\n"
     ]
    }
   ],
   "source": [
    "for k in people.keys():\n",
    "    if len(k)<5:\n",
    "        print people[k]"
   ]
  },
  {
   "cell_type": "markdown",
   "metadata": {},
   "source": [
    "# III. Strings\n",
    "\n",
    "We've been using strings here and there. They're going to be very important as we start using more dictionaries and eventually more complex data structures. Here's a brief summary of methods that might be of use. Pretty straight forward stuff"
   ]
  },
  {
   "cell_type": "code",
   "execution_count": 73,
   "metadata": {
    "collapsed": true
   },
   "outputs": [],
   "source": [
    "tim_str='Timothy Franklin Lew'"
   ]
  },
  {
   "cell_type": "code",
   "execution_count": 74,
   "metadata": {
    "collapsed": false
   },
   "outputs": [
    {
     "name": "stdout",
     "output_type": "stream",
     "text": [
      "timothy franklin lew\n"
     ]
    }
   ],
   "source": [
    "print tim_str.lower()"
   ]
  },
  {
   "cell_type": "code",
   "execution_count": 75,
   "metadata": {
    "collapsed": false
   },
   "outputs": [
    {
     "name": "stdout",
     "output_type": "stream",
     "text": [
      "TIMOTHY FRANKLIN LEW\n"
     ]
    }
   ],
   "source": [
    "print tim_str.upper()"
   ]
  },
  {
   "cell_type": "code",
   "execution_count": 76,
   "metadata": {
    "collapsed": false
   },
   "outputs": [
    {
     "name": "stdout",
     "output_type": "stream",
     "text": [
      "Timothy Franklin Lew is da best\n"
     ]
    }
   ],
   "source": [
    "tim_descr=' is da best'\n",
    "print tim_str+tim_descr"
   ]
  },
  {
   "cell_type": "markdown",
   "metadata": {},
   "source": [
    "Strings are actually lists of characters so you can actually index them and get their length"
   ]
  },
  {
   "cell_type": "code",
   "execution_count": 77,
   "metadata": {
    "collapsed": false
   },
   "outputs": [
    {
     "name": "stdout",
     "output_type": "stream",
     "text": [
      "T\n",
      "20\n"
     ]
    }
   ],
   "source": [
    "print tim_str[0] # get first letter\n",
    "print len(tim_str) # get length of string"
   ]
  },
  {
   "cell_type": "markdown",
   "metadata": {},
   "source": [
    "And as I mentioned previously, if we want to turn something into a string, we can use the str()"
   ]
  },
  {
   "cell_type": "code",
   "execution_count": 78,
   "metadata": {
    "collapsed": false
   },
   "outputs": [
    {
     "name": "stdout",
     "output_type": "stream",
     "text": [
      "Timothy Franklin Lew is 25\n"
     ]
    }
   ],
   "source": [
    "age=25\n",
    "print tim_str+' is '+str(age)"
   ]
  },
  {
   "cell_type": "markdown",
   "metadata": {},
   "source": [
    "# Problem\n",
    "\n",
    "I'm trying to characterize how my labmates talk, so I store some of their most frequent words in a dictionary. Who uses the longest words? Create a function that creates a new dictionary that maps our names (tim, drew, kristin) onto the average length of our common words"
   ]
  },
  {
   "cell_type": "code",
   "execution_count": 80,
   "metadata": {
    "collapsed": false
   },
   "outputs": [
    {
     "name": "stdout",
     "output_type": "stream",
     "text": [
      "{}\n"
     ]
    }
   ],
   "source": [
    "tim_words=['excellent','awesome','great','chipper']\n",
    "drew_words=['banjo','bag','go','for','walk']\n",
    "kristin_words=['gluten','instagram','filter']\n",
    "words={'tim':tim_words,'drew':drew_words,'kristin':kristin_words}\n",
    "\n",
    "def long_words(words):\n",
    "    len_words={}\n",
    "    # your code in here\n",
    "    return len_words\n",
    "\n",
    "print long_words(words)"
   ]
  }
 ],
 "metadata": {
  "kernelspec": {
   "display_name": "Python 2",
   "language": "python",
   "name": "python2"
  },
  "language_info": {
   "codemirror_mode": {
    "name": "ipython",
    "version": 2
   },
   "file_extension": ".py",
   "mimetype": "text/x-python",
   "name": "python",
   "nbconvert_exporter": "python",
   "pygments_lexer": "ipython2",
   "version": "2.7.9"
  }
 },
 "nbformat": 4,
 "nbformat_minor": 0
}
